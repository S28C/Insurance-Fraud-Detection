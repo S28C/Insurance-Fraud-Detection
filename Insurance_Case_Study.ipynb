{
 "cells": [
  {
   "cell_type": "code",
   "execution_count": 2,
   "id": "d926c7cc",
   "metadata": {},
   "outputs": [],
   "source": [
    "import pandas as pd\n",
    "import numpy as np\n",
    "import matplotlib.pylab as plt\n",
    "import seaborn as sns\n",
    "from sklearn.model_selection  import train_test_split\n",
    "from sklearn.cluster import KMeans\n",
    "from sklearn.preprocessing import StandardScaler\n",
    "sc=StandardScaler()\n",
    "\n",
    "\n"
   ]
  },
  {
   "cell_type": "code",
   "execution_count": 3,
   "id": "a7709dd9",
   "metadata": {},
   "outputs": [],
   "source": [
    "%matplotlib inline\n",
    "import warnings\n",
    "warnings.filterwarnings('ignore')\n",
    "\n",
    "\n",
    "pd.set_option('display.max_rows',500)\n",
    "pd.set_option('display.max_columns',500)\n",
    "pd.set_option('display.width',1000)\n"
   ]
  },
  {
   "cell_type": "code",
   "execution_count": 4,
   "id": "86d304f6",
   "metadata": {},
   "outputs": [],
   "source": [
    "import scipy.stats as st\n",
    "from statsmodels.formula.api import ols"
   ]
  },
  {
   "cell_type": "code",
   "execution_count": 5,
   "id": "c137d9dd",
   "metadata": {},
   "outputs": [],
   "source": [
    "plt.rcParams['figure.figsize']=[15,10]"
   ]
  },
  {
   "cell_type": "code",
   "execution_count": 6,
   "id": "67e8079b",
   "metadata": {},
   "outputs": [],
   "source": [
    "# load the data set"
   ]
  },
  {
   "cell_type": "code",
   "execution_count": 7,
   "id": "37148409",
   "metadata": {},
   "outputs": [
    {
     "data": {
      "text/html": [
       "<div>\n",
       "<style scoped>\n",
       "    .dataframe tbody tr th:only-of-type {\n",
       "        vertical-align: middle;\n",
       "    }\n",
       "\n",
       "    .dataframe tbody tr th {\n",
       "        vertical-align: top;\n",
       "    }\n",
       "\n",
       "    .dataframe thead th {\n",
       "        text-align: right;\n",
       "    }\n",
       "</style>\n",
       "<table border=\"1\" class=\"dataframe\">\n",
       "  <thead>\n",
       "    <tr style=\"text-align: right;\">\n",
       "      <th></th>\n",
       "      <th>Uniquekey</th>\n",
       "      <th>Txt_Policy_Year</th>\n",
       "      <th>Boo_Endorsement</th>\n",
       "      <th>Txt_Location_RTA</th>\n",
       "      <th>Txt_Policy_Code</th>\n",
       "      <th>Txt_Class_Code</th>\n",
       "      <th>Txt_Zone_Code</th>\n",
       "      <th>Num_Vehicle_Age</th>\n",
       "      <th>Txt_CC_PCC_GVW_Code</th>\n",
       "      <th>Txt_Colour_Vehicle</th>\n",
       "      <th>Num_IDV</th>\n",
       "      <th>Txt_Permit_Code</th>\n",
       "      <th>Txt_Nature_Goods_Code</th>\n",
       "      <th>Txt_Road_Type_Code</th>\n",
       "      <th>Txt_Vehicle_Driven_By_Code</th>\n",
       "      <th>Txt_Driver_Exp_Code</th>\n",
       "      <th>Txt_Claims_History_Code</th>\n",
       "      <th>Txt_Driver_Qualification_Code</th>\n",
       "      <th>Txt_Incurred_Claims_Code</th>\n",
       "      <th>Boo_TPPD_Statutory_Cover_only</th>\n",
       "      <th>Txt_Claim_Year</th>\n",
       "      <th>Date_Accident_Loss</th>\n",
       "      <th>Txt_Place_Accident</th>\n",
       "      <th>Date_Claim_Intimation</th>\n",
       "      <th>Txt_TAC_NOL_Code</th>\n",
       "      <th>Date_Disbursement</th>\n",
       "      <th>Boo_OD_Total_Loss</th>\n",
       "      <th>DRV_CLAIM_AMT</th>\n",
       "      <th>DRV_CLAIM_STATUS</th>\n",
       "      <th>Boo_AntiTheft</th>\n",
       "      <th>Boo_NCB</th>\n",
       "      <th>Num_Net_OD_Premium</th>\n",
       "    </tr>\n",
       "  </thead>\n",
       "  <tbody>\n",
       "    <tr>\n",
       "      <th>0</th>\n",
       "      <td>20745</td>\n",
       "      <td>2011-12</td>\n",
       "      <td>0</td>\n",
       "      <td>GOA</td>\n",
       "      <td>2</td>\n",
       "      <td>11</td>\n",
       "      <td>36</td>\n",
       "      <td>7</td>\n",
       "      <td>50</td>\n",
       "      <td>OTHER COLOR</td>\n",
       "      <td>104000.0</td>\n",
       "      <td>1</td>\n",
       "      <td>2</td>\n",
       "      <td>3</td>\n",
       "      <td>1</td>\n",
       "      <td>6</td>\n",
       "      <td>4</td>\n",
       "      <td>2</td>\n",
       "      <td>2</td>\n",
       "      <td>0</td>\n",
       "      <td>2012-13</td>\n",
       "      <td>2011-10-14</td>\n",
       "      <td>GOA</td>\n",
       "      <td>2011-10-15</td>\n",
       "      <td>59</td>\n",
       "      <td>NaT</td>\n",
       "      <td>0</td>\n",
       "      <td>0.0</td>\n",
       "      <td>REJECTED</td>\n",
       "      <td>0</td>\n",
       "      <td>0</td>\n",
       "      <td>5088</td>\n",
       "    </tr>\n",
       "    <tr>\n",
       "      <th>1</th>\n",
       "      <td>20752</td>\n",
       "      <td>2011-12</td>\n",
       "      <td>0</td>\n",
       "      <td>AKOLA</td>\n",
       "      <td>2</td>\n",
       "      <td>11</td>\n",
       "      <td>36</td>\n",
       "      <td>7</td>\n",
       "      <td>50</td>\n",
       "      <td>OTHER COLOR</td>\n",
       "      <td>88000.0</td>\n",
       "      <td>1</td>\n",
       "      <td>2</td>\n",
       "      <td>3</td>\n",
       "      <td>1</td>\n",
       "      <td>6</td>\n",
       "      <td>2</td>\n",
       "      <td>1</td>\n",
       "      <td>5</td>\n",
       "      <td>0</td>\n",
       "      <td>2012-13</td>\n",
       "      <td>2011-10-08</td>\n",
       "      <td>AKOLA</td>\n",
       "      <td>2011-10-14</td>\n",
       "      <td>59</td>\n",
       "      <td>NaT</td>\n",
       "      <td>0</td>\n",
       "      <td>0.0</td>\n",
       "      <td>REJECTED</td>\n",
       "      <td>0</td>\n",
       "      <td>0</td>\n",
       "      <td>4712</td>\n",
       "    </tr>\n",
       "    <tr>\n",
       "      <th>2</th>\n",
       "      <td>20757</td>\n",
       "      <td>2011-12</td>\n",
       "      <td>0</td>\n",
       "      <td>NAGPUR</td>\n",
       "      <td>2</td>\n",
       "      <td>14</td>\n",
       "      <td>36</td>\n",
       "      <td>2</td>\n",
       "      <td>47</td>\n",
       "      <td>OTHER COLOR</td>\n",
       "      <td>29850.0</td>\n",
       "      <td>1</td>\n",
       "      <td>2</td>\n",
       "      <td>3</td>\n",
       "      <td>1</td>\n",
       "      <td>1</td>\n",
       "      <td>5</td>\n",
       "      <td>2</td>\n",
       "      <td>2</td>\n",
       "      <td>0</td>\n",
       "      <td>2012-13</td>\n",
       "      <td>2011-10-12</td>\n",
       "      <td>NAGPUR</td>\n",
       "      <td>2011-10-14</td>\n",
       "      <td>59</td>\n",
       "      <td>2011-12-13</td>\n",
       "      <td>0</td>\n",
       "      <td>1876.0</td>\n",
       "      <td>CLOSED</td>\n",
       "      <td>0</td>\n",
       "      <td>0</td>\n",
       "      <td>330</td>\n",
       "    </tr>\n",
       "    <tr>\n",
       "      <th>3</th>\n",
       "      <td>20759</td>\n",
       "      <td>2010-11</td>\n",
       "      <td>0</td>\n",
       "      <td>MUMBAI WEST</td>\n",
       "      <td>2</td>\n",
       "      <td>14</td>\n",
       "      <td>35</td>\n",
       "      <td>3</td>\n",
       "      <td>47</td>\n",
       "      <td>OTHER COLOR</td>\n",
       "      <td>30000.0</td>\n",
       "      <td>1</td>\n",
       "      <td>2</td>\n",
       "      <td>3</td>\n",
       "      <td>1</td>\n",
       "      <td>1</td>\n",
       "      <td>6</td>\n",
       "      <td>2</td>\n",
       "      <td>8</td>\n",
       "      <td>0</td>\n",
       "      <td>2012-13</td>\n",
       "      <td>2011-10-09</td>\n",
       "      <td>MUMBAI WEST</td>\n",
       "      <td>2011-10-14</td>\n",
       "      <td>59</td>\n",
       "      <td>2011-12-13</td>\n",
       "      <td>0</td>\n",
       "      <td>5026.0</td>\n",
       "      <td>CLOSED</td>\n",
       "      <td>0</td>\n",
       "      <td>0</td>\n",
       "      <td>405</td>\n",
       "    </tr>\n",
       "    <tr>\n",
       "      <th>4</th>\n",
       "      <td>20760</td>\n",
       "      <td>2010-11</td>\n",
       "      <td>0</td>\n",
       "      <td>RANCHI</td>\n",
       "      <td>2</td>\n",
       "      <td>11</td>\n",
       "      <td>36</td>\n",
       "      <td>4</td>\n",
       "      <td>50</td>\n",
       "      <td>OTHER COLOR</td>\n",
       "      <td>143140.0</td>\n",
       "      <td>1</td>\n",
       "      <td>2</td>\n",
       "      <td>3</td>\n",
       "      <td>1</td>\n",
       "      <td>6</td>\n",
       "      <td>2</td>\n",
       "      <td>4</td>\n",
       "      <td>1</td>\n",
       "      <td>0</td>\n",
       "      <td>2012-13</td>\n",
       "      <td>2011-10-09</td>\n",
       "      <td>RANCHI</td>\n",
       "      <td>2011-10-15</td>\n",
       "      <td>59</td>\n",
       "      <td>NaT</td>\n",
       "      <td>0</td>\n",
       "      <td>0.0</td>\n",
       "      <td>REJECTED</td>\n",
       "      <td>0</td>\n",
       "      <td>0</td>\n",
       "      <td>2832</td>\n",
       "    </tr>\n",
       "  </tbody>\n",
       "</table>\n",
       "</div>"
      ],
      "text/plain": [
       "   Uniquekey Txt_Policy_Year  Boo_Endorsement Txt_Location_RTA  Txt_Policy_Code  Txt_Class_Code  Txt_Zone_Code  Num_Vehicle_Age  Txt_CC_PCC_GVW_Code Txt_Colour_Vehicle   Num_IDV  Txt_Permit_Code  Txt_Nature_Goods_Code  Txt_Road_Type_Code  Txt_Vehicle_Driven_By_Code  Txt_Driver_Exp_Code  Txt_Claims_History_Code  Txt_Driver_Qualification_Code  Txt_Incurred_Claims_Code  Boo_TPPD_Statutory_Cover_only Txt_Claim_Year Date_Accident_Loss Txt_Place_Accident Date_Claim_Intimation  Txt_TAC_NOL_Code Date_Disbursement  Boo_OD_Total_Loss  DRV_CLAIM_AMT DRV_CLAIM_STATUS  Boo_AntiTheft  Boo_NCB  Num_Net_OD_Premium\n",
       "0      20745         2011-12                0              GOA                2              11             36                7                   50        OTHER COLOR  104000.0                1                      2                   3                           1                    6                        4                              2                         2                              0        2012-13         2011-10-14                GOA            2011-10-15                59               NaT                  0            0.0         REJECTED              0        0                5088\n",
       "1      20752         2011-12                0            AKOLA                2              11             36                7                   50        OTHER COLOR   88000.0                1                      2                   3                           1                    6                        2                              1                         5                              0        2012-13         2011-10-08              AKOLA            2011-10-14                59               NaT                  0            0.0         REJECTED              0        0                4712\n",
       "2      20757         2011-12                0           NAGPUR                2              14             36                2                   47        OTHER COLOR   29850.0                1                      2                   3                           1                    1                        5                              2                         2                              0        2012-13         2011-10-12             NAGPUR            2011-10-14                59        2011-12-13                  0         1876.0           CLOSED              0        0                 330\n",
       "3      20759         2010-11                0      MUMBAI WEST                2              14             35                3                   47        OTHER COLOR   30000.0                1                      2                   3                           1                    1                        6                              2                         8                              0        2012-13         2011-10-09        MUMBAI WEST            2011-10-14                59        2011-12-13                  0         5026.0           CLOSED              0        0                 405\n",
       "4      20760         2010-11                0           RANCHI                2              11             36                4                   50        OTHER COLOR  143140.0                1                      2                   3                           1                    6                        2                              4                         1                              0        2012-13         2011-10-09             RANCHI            2011-10-15                59               NaT                  0            0.0         REJECTED              0        0                2832"
      ]
     },
     "execution_count": 7,
     "metadata": {},
     "output_type": "execute_result"
    }
   ],
   "source": [
    "df=pd.read_excel(\"Insurance_Claims_Data.xlsx\")\n",
    "df.head()"
   ]
  },
  {
   "cell_type": "code",
   "execution_count": 8,
   "id": "39655c90",
   "metadata": {},
   "outputs": [
    {
     "data": {
      "text/plain": [
       "(75200, 32)"
      ]
     },
     "execution_count": 8,
     "metadata": {},
     "output_type": "execute_result"
    }
   ],
   "source": [
    "df.shape"
   ]
  },
  {
   "cell_type": "code",
   "execution_count": 9,
   "id": "6a4f3d25",
   "metadata": {},
   "outputs": [
    {
     "name": "stdout",
     "output_type": "stream",
     "text": [
      "<class 'pandas.core.frame.DataFrame'>\n",
      "RangeIndex: 75200 entries, 0 to 75199\n",
      "Data columns (total 32 columns):\n",
      " #   Column                         Non-Null Count  Dtype         \n",
      "---  ------                         --------------  -----         \n",
      " 0   Uniquekey                      75200 non-null  int64         \n",
      " 1   Txt_Policy_Year                75200 non-null  object        \n",
      " 2   Boo_Endorsement                75200 non-null  int64         \n",
      " 3   Txt_Location_RTA               75197 non-null  object        \n",
      " 4   Txt_Policy_Code                75200 non-null  int64         \n",
      " 5   Txt_Class_Code                 75200 non-null  int64         \n",
      " 6   Txt_Zone_Code                  75200 non-null  int64         \n",
      " 7   Num_Vehicle_Age                75200 non-null  int64         \n",
      " 8   Txt_CC_PCC_GVW_Code            75200 non-null  int64         \n",
      " 9   Txt_Colour_Vehicle             75200 non-null  object        \n",
      " 10  Num_IDV                        75200 non-null  float64       \n",
      " 11  Txt_Permit_Code                75200 non-null  int64         \n",
      " 12  Txt_Nature_Goods_Code          75200 non-null  int64         \n",
      " 13  Txt_Road_Type_Code             75200 non-null  int64         \n",
      " 14  Txt_Vehicle_Driven_By_Code     75200 non-null  int64         \n",
      " 15  Txt_Driver_Exp_Code            75200 non-null  int64         \n",
      " 16  Txt_Claims_History_Code        75200 non-null  int64         \n",
      " 17  Txt_Driver_Qualification_Code  75200 non-null  int64         \n",
      " 18  Txt_Incurred_Claims_Code       75200 non-null  int64         \n",
      " 19  Boo_TPPD_Statutory_Cover_only  75200 non-null  int64         \n",
      " 20  Txt_Claim_Year                 75200 non-null  object        \n",
      " 21  Date_Accident_Loss             75200 non-null  datetime64[ns]\n",
      " 22  Txt_Place_Accident             75200 non-null  object        \n",
      " 23  Date_Claim_Intimation          75200 non-null  datetime64[ns]\n",
      " 24  Txt_TAC_NOL_Code               75200 non-null  int64         \n",
      " 25  Date_Disbursement              71465 non-null  datetime64[ns]\n",
      " 26  Boo_OD_Total_Loss              75200 non-null  int64         \n",
      " 27  DRV_CLAIM_AMT                  75200 non-null  float64       \n",
      " 28  DRV_CLAIM_STATUS               75200 non-null  object        \n",
      " 29  Boo_AntiTheft                  75200 non-null  int64         \n",
      " 30  Boo_NCB                        75200 non-null  int64         \n",
      " 31  Num_Net_OD_Premium             75200 non-null  int64         \n",
      "dtypes: datetime64[ns](3), float64(2), int64(21), object(6)\n",
      "memory usage: 18.4+ MB\n"
     ]
    }
   ],
   "source": [
    "df.info()"
   ]
  },
  {
   "cell_type": "code",
   "execution_count": 10,
   "id": "b47a5f30",
   "metadata": {},
   "outputs": [],
   "source": [
    "# check  for "
   ]
  },
  {
   "cell_type": "code",
   "execution_count": 11,
   "id": "a2a7cd0a",
   "metadata": {},
   "outputs": [
    {
     "data": {
      "text/plain": [
       "0"
      ]
     },
     "execution_count": 11,
     "metadata": {},
     "output_type": "execute_result"
    }
   ],
   "source": [
    "df.duplicated().sum()"
   ]
  },
  {
   "cell_type": "code",
   "execution_count": 12,
   "id": "a92d3b33",
   "metadata": {},
   "outputs": [
    {
     "data": {
      "text/plain": [
       "Uniquekey                           0\n",
       "Txt_Policy_Year                     0\n",
       "Boo_Endorsement                     0\n",
       "Txt_Location_RTA                    3\n",
       "Txt_Policy_Code                     0\n",
       "Txt_Class_Code                      0\n",
       "Txt_Zone_Code                       0\n",
       "Num_Vehicle_Age                     0\n",
       "Txt_CC_PCC_GVW_Code                 0\n",
       "Txt_Colour_Vehicle                  0\n",
       "Num_IDV                             0\n",
       "Txt_Permit_Code                     0\n",
       "Txt_Nature_Goods_Code               0\n",
       "Txt_Road_Type_Code                  0\n",
       "Txt_Vehicle_Driven_By_Code          0\n",
       "Txt_Driver_Exp_Code                 0\n",
       "Txt_Claims_History_Code             0\n",
       "Txt_Driver_Qualification_Code       0\n",
       "Txt_Incurred_Claims_Code            0\n",
       "Boo_TPPD_Statutory_Cover_only       0\n",
       "Txt_Claim_Year                      0\n",
       "Date_Accident_Loss                  0\n",
       "Txt_Place_Accident                  0\n",
       "Date_Claim_Intimation               0\n",
       "Txt_TAC_NOL_Code                    0\n",
       "Date_Disbursement                3735\n",
       "Boo_OD_Total_Loss                   0\n",
       "DRV_CLAIM_AMT                       0\n",
       "DRV_CLAIM_STATUS                    0\n",
       "Boo_AntiTheft                       0\n",
       "Boo_NCB                             0\n",
       "Num_Net_OD_Premium                  0\n",
       "dtype: int64"
      ]
     },
     "execution_count": 12,
     "metadata": {},
     "output_type": "execute_result"
    }
   ],
   "source": [
    "df.isnull().sum()"
   ]
  },
  {
   "cell_type": "code",
   "execution_count": 13,
   "id": "26a9e7ca",
   "metadata": {},
   "outputs": [],
   "source": [
    "# rename the columns"
   ]
  },
  {
   "cell_type": "code",
   "execution_count": 14,
   "id": "e80844da",
   "metadata": {},
   "outputs": [],
   "source": [
    "dict = {'Txt_Policy_Year': 'Policy_Year',\n",
    "        'Boo_Endorsement': 'Endorsement',\n",
    "        'Txt_Location_RTA': 'Location_RTA',\n",
    "        'Txt_Policy_Code':'Policy_Code',\n",
    "        'Txt_Class_Code':'Class_Code',\n",
    "        'Txt_Zone_Code' :'Zone_Code',\n",
    "        'Num_Vehicle_Age':'Vehicle_Age',\n",
    "        'Txt_CC_PCC_GVW_Code':'CC_PCC_GVW_Code',\n",
    "        'Txt_Colour_Vehicle': 'Colour_Vehicle',\n",
    "        'Num_IDV':'IDV',\n",
    "        'Txt_Permit_Code' :'Permit_Code',\n",
    "        'Txt_Nature_Goods_Code':'Nature_Goods_Code',\n",
    "        'Txt_Road_Type_Code':'Road_Type_Code',\n",
    "        'Txt_Vehicle_Driven_By_Code':'Vehicle_Driven_By_Code',\n",
    "        'Txt_Driver_Exp_Code' :'Driver_Exp_Code',\n",
    "        'Txt_Claims_History_Code' :'Claims_History_Code',\n",
    "        'Txt_Driver_Qualification_Code' :'Driver_Qualification_Code',\n",
    "        'Txt_Incurred_Claims_Code' :'Incurred_Claims_Code',\n",
    "        'Boo_TPPD_Statutory_Cover_only' :'TPPD_Statutory_Cover_only',\n",
    "        'Txt_Claim_Year' :'Claim_Year',\n",
    "        'Txt_Place_Accident' :'Place_Accident',\n",
    "        'Txt_TAC_NOL_Code' :'TAC_NOL_Code',\n",
    "        'Boo_OD_Total_Loss' :'OD_Total_Loss',\n",
    "        'Boo_AntiTheft' :'_AntiTheft',\n",
    "        'Txt_Place_Accident' :'Place_Accident',\n",
    "        'Boo_NCB' :'No_Claim_Bonus',\n",
    "        'Num_Net_OD_Premium' :'Net_OD_Premium' # OD Means Own Damage\n",
    "         }\n"
   ]
  },
  {
   "cell_type": "code",
   "execution_count": 15,
   "id": "a23670d7",
   "metadata": {},
   "outputs": [
    {
     "data": {
      "text/html": [
       "<div>\n",
       "<style scoped>\n",
       "    .dataframe tbody tr th:only-of-type {\n",
       "        vertical-align: middle;\n",
       "    }\n",
       "\n",
       "    .dataframe tbody tr th {\n",
       "        vertical-align: top;\n",
       "    }\n",
       "\n",
       "    .dataframe thead th {\n",
       "        text-align: right;\n",
       "    }\n",
       "</style>\n",
       "<table border=\"1\" class=\"dataframe\">\n",
       "  <thead>\n",
       "    <tr style=\"text-align: right;\">\n",
       "      <th></th>\n",
       "      <th>Uniquekey</th>\n",
       "      <th>Policy_Year</th>\n",
       "      <th>Endorsement</th>\n",
       "      <th>Location_RTA</th>\n",
       "      <th>Policy_Code</th>\n",
       "      <th>Class_Code</th>\n",
       "      <th>Zone_Code</th>\n",
       "      <th>Vehicle_Age</th>\n",
       "      <th>CC_PCC_GVW_Code</th>\n",
       "      <th>Colour_Vehicle</th>\n",
       "      <th>IDV</th>\n",
       "      <th>Permit_Code</th>\n",
       "      <th>Nature_Goods_Code</th>\n",
       "      <th>Road_Type_Code</th>\n",
       "      <th>Vehicle_Driven_By_Code</th>\n",
       "      <th>Driver_Exp_Code</th>\n",
       "      <th>Claims_History_Code</th>\n",
       "      <th>Driver_Qualification_Code</th>\n",
       "      <th>Incurred_Claims_Code</th>\n",
       "      <th>TPPD_Statutory_Cover_only</th>\n",
       "      <th>Claim_Year</th>\n",
       "      <th>Date_Accident_Loss</th>\n",
       "      <th>Place_Accident</th>\n",
       "      <th>Date_Claim_Intimation</th>\n",
       "      <th>TAC_NOL_Code</th>\n",
       "      <th>Date_Disbursement</th>\n",
       "      <th>OD_Total_Loss</th>\n",
       "      <th>DRV_CLAIM_AMT</th>\n",
       "      <th>DRV_CLAIM_STATUS</th>\n",
       "      <th>_AntiTheft</th>\n",
       "      <th>No_Claim_Bonus</th>\n",
       "      <th>Net_OD_Premium</th>\n",
       "    </tr>\n",
       "  </thead>\n",
       "  <tbody>\n",
       "    <tr>\n",
       "      <th>0</th>\n",
       "      <td>20745</td>\n",
       "      <td>2011-12</td>\n",
       "      <td>0</td>\n",
       "      <td>GOA</td>\n",
       "      <td>2</td>\n",
       "      <td>11</td>\n",
       "      <td>36</td>\n",
       "      <td>7</td>\n",
       "      <td>50</td>\n",
       "      <td>OTHER COLOR</td>\n",
       "      <td>104000.0</td>\n",
       "      <td>1</td>\n",
       "      <td>2</td>\n",
       "      <td>3</td>\n",
       "      <td>1</td>\n",
       "      <td>6</td>\n",
       "      <td>4</td>\n",
       "      <td>2</td>\n",
       "      <td>2</td>\n",
       "      <td>0</td>\n",
       "      <td>2012-13</td>\n",
       "      <td>2011-10-14</td>\n",
       "      <td>GOA</td>\n",
       "      <td>2011-10-15</td>\n",
       "      <td>59</td>\n",
       "      <td>NaT</td>\n",
       "      <td>0</td>\n",
       "      <td>0.0</td>\n",
       "      <td>REJECTED</td>\n",
       "      <td>0</td>\n",
       "      <td>0</td>\n",
       "      <td>5088</td>\n",
       "    </tr>\n",
       "    <tr>\n",
       "      <th>1</th>\n",
       "      <td>20752</td>\n",
       "      <td>2011-12</td>\n",
       "      <td>0</td>\n",
       "      <td>AKOLA</td>\n",
       "      <td>2</td>\n",
       "      <td>11</td>\n",
       "      <td>36</td>\n",
       "      <td>7</td>\n",
       "      <td>50</td>\n",
       "      <td>OTHER COLOR</td>\n",
       "      <td>88000.0</td>\n",
       "      <td>1</td>\n",
       "      <td>2</td>\n",
       "      <td>3</td>\n",
       "      <td>1</td>\n",
       "      <td>6</td>\n",
       "      <td>2</td>\n",
       "      <td>1</td>\n",
       "      <td>5</td>\n",
       "      <td>0</td>\n",
       "      <td>2012-13</td>\n",
       "      <td>2011-10-08</td>\n",
       "      <td>AKOLA</td>\n",
       "      <td>2011-10-14</td>\n",
       "      <td>59</td>\n",
       "      <td>NaT</td>\n",
       "      <td>0</td>\n",
       "      <td>0.0</td>\n",
       "      <td>REJECTED</td>\n",
       "      <td>0</td>\n",
       "      <td>0</td>\n",
       "      <td>4712</td>\n",
       "    </tr>\n",
       "    <tr>\n",
       "      <th>2</th>\n",
       "      <td>20757</td>\n",
       "      <td>2011-12</td>\n",
       "      <td>0</td>\n",
       "      <td>NAGPUR</td>\n",
       "      <td>2</td>\n",
       "      <td>14</td>\n",
       "      <td>36</td>\n",
       "      <td>2</td>\n",
       "      <td>47</td>\n",
       "      <td>OTHER COLOR</td>\n",
       "      <td>29850.0</td>\n",
       "      <td>1</td>\n",
       "      <td>2</td>\n",
       "      <td>3</td>\n",
       "      <td>1</td>\n",
       "      <td>1</td>\n",
       "      <td>5</td>\n",
       "      <td>2</td>\n",
       "      <td>2</td>\n",
       "      <td>0</td>\n",
       "      <td>2012-13</td>\n",
       "      <td>2011-10-12</td>\n",
       "      <td>NAGPUR</td>\n",
       "      <td>2011-10-14</td>\n",
       "      <td>59</td>\n",
       "      <td>2011-12-13</td>\n",
       "      <td>0</td>\n",
       "      <td>1876.0</td>\n",
       "      <td>CLOSED</td>\n",
       "      <td>0</td>\n",
       "      <td>0</td>\n",
       "      <td>330</td>\n",
       "    </tr>\n",
       "    <tr>\n",
       "      <th>3</th>\n",
       "      <td>20759</td>\n",
       "      <td>2010-11</td>\n",
       "      <td>0</td>\n",
       "      <td>MUMBAI WEST</td>\n",
       "      <td>2</td>\n",
       "      <td>14</td>\n",
       "      <td>35</td>\n",
       "      <td>3</td>\n",
       "      <td>47</td>\n",
       "      <td>OTHER COLOR</td>\n",
       "      <td>30000.0</td>\n",
       "      <td>1</td>\n",
       "      <td>2</td>\n",
       "      <td>3</td>\n",
       "      <td>1</td>\n",
       "      <td>1</td>\n",
       "      <td>6</td>\n",
       "      <td>2</td>\n",
       "      <td>8</td>\n",
       "      <td>0</td>\n",
       "      <td>2012-13</td>\n",
       "      <td>2011-10-09</td>\n",
       "      <td>MUMBAI WEST</td>\n",
       "      <td>2011-10-14</td>\n",
       "      <td>59</td>\n",
       "      <td>2011-12-13</td>\n",
       "      <td>0</td>\n",
       "      <td>5026.0</td>\n",
       "      <td>CLOSED</td>\n",
       "      <td>0</td>\n",
       "      <td>0</td>\n",
       "      <td>405</td>\n",
       "    </tr>\n",
       "    <tr>\n",
       "      <th>4</th>\n",
       "      <td>20760</td>\n",
       "      <td>2010-11</td>\n",
       "      <td>0</td>\n",
       "      <td>RANCHI</td>\n",
       "      <td>2</td>\n",
       "      <td>11</td>\n",
       "      <td>36</td>\n",
       "      <td>4</td>\n",
       "      <td>50</td>\n",
       "      <td>OTHER COLOR</td>\n",
       "      <td>143140.0</td>\n",
       "      <td>1</td>\n",
       "      <td>2</td>\n",
       "      <td>3</td>\n",
       "      <td>1</td>\n",
       "      <td>6</td>\n",
       "      <td>2</td>\n",
       "      <td>4</td>\n",
       "      <td>1</td>\n",
       "      <td>0</td>\n",
       "      <td>2012-13</td>\n",
       "      <td>2011-10-09</td>\n",
       "      <td>RANCHI</td>\n",
       "      <td>2011-10-15</td>\n",
       "      <td>59</td>\n",
       "      <td>NaT</td>\n",
       "      <td>0</td>\n",
       "      <td>0.0</td>\n",
       "      <td>REJECTED</td>\n",
       "      <td>0</td>\n",
       "      <td>0</td>\n",
       "      <td>2832</td>\n",
       "    </tr>\n",
       "  </tbody>\n",
       "</table>\n",
       "</div>"
      ],
      "text/plain": [
       "   Uniquekey Policy_Year  Endorsement Location_RTA  Policy_Code  Class_Code  Zone_Code  Vehicle_Age  CC_PCC_GVW_Code Colour_Vehicle       IDV  Permit_Code  Nature_Goods_Code  Road_Type_Code  Vehicle_Driven_By_Code  Driver_Exp_Code  Claims_History_Code  Driver_Qualification_Code  Incurred_Claims_Code  TPPD_Statutory_Cover_only Claim_Year Date_Accident_Loss Place_Accident Date_Claim_Intimation  TAC_NOL_Code Date_Disbursement  OD_Total_Loss  DRV_CLAIM_AMT DRV_CLAIM_STATUS  _AntiTheft  No_Claim_Bonus  Net_OD_Premium\n",
       "0      20745     2011-12            0          GOA            2          11         36            7               50    OTHER COLOR  104000.0            1                  2               3                       1                6                    4                          2                     2                          0    2012-13         2011-10-14            GOA            2011-10-15            59               NaT              0            0.0         REJECTED           0               0            5088\n",
       "1      20752     2011-12            0        AKOLA            2          11         36            7               50    OTHER COLOR   88000.0            1                  2               3                       1                6                    2                          1                     5                          0    2012-13         2011-10-08          AKOLA            2011-10-14            59               NaT              0            0.0         REJECTED           0               0            4712\n",
       "2      20757     2011-12            0       NAGPUR            2          14         36            2               47    OTHER COLOR   29850.0            1                  2               3                       1                1                    5                          2                     2                          0    2012-13         2011-10-12         NAGPUR            2011-10-14            59        2011-12-13              0         1876.0           CLOSED           0               0             330\n",
       "3      20759     2010-11            0  MUMBAI WEST            2          14         35            3               47    OTHER COLOR   30000.0            1                  2               3                       1                1                    6                          2                     8                          0    2012-13         2011-10-09    MUMBAI WEST            2011-10-14            59        2011-12-13              0         5026.0           CLOSED           0               0             405\n",
       "4      20760     2010-11            0       RANCHI            2          11         36            4               50    OTHER COLOR  143140.0            1                  2               3                       1                6                    2                          4                     1                          0    2012-13         2011-10-09         RANCHI            2011-10-15            59               NaT              0            0.0         REJECTED           0               0            2832"
      ]
     },
     "execution_count": 15,
     "metadata": {},
     "output_type": "execute_result"
    }
   ],
   "source": [
    "df.rename(columns=dict,inplace=True)\n",
    "df.head()"
   ]
  },
  {
   "cell_type": "code",
   "execution_count": 16,
   "id": "cbad7582",
   "metadata": {},
   "outputs": [],
   "source": [
    "# univariate analysis"
   ]
  },
  {
   "cell_type": "code",
   "execution_count": 17,
   "id": "fd3ce451",
   "metadata": {},
   "outputs": [
    {
     "data": {
      "text/html": [
       "<div>\n",
       "<style scoped>\n",
       "    .dataframe tbody tr th:only-of-type {\n",
       "        vertical-align: middle;\n",
       "    }\n",
       "\n",
       "    .dataframe tbody tr th {\n",
       "        vertical-align: top;\n",
       "    }\n",
       "\n",
       "    .dataframe thead th {\n",
       "        text-align: right;\n",
       "    }\n",
       "</style>\n",
       "<table border=\"1\" class=\"dataframe\">\n",
       "  <thead>\n",
       "    <tr style=\"text-align: right;\">\n",
       "      <th></th>\n",
       "      <th>Uniquekey</th>\n",
       "      <th>Endorsement</th>\n",
       "      <th>Policy_Code</th>\n",
       "      <th>Class_Code</th>\n",
       "      <th>Zone_Code</th>\n",
       "      <th>Vehicle_Age</th>\n",
       "      <th>CC_PCC_GVW_Code</th>\n",
       "      <th>IDV</th>\n",
       "      <th>Permit_Code</th>\n",
       "      <th>Nature_Goods_Code</th>\n",
       "      <th>Road_Type_Code</th>\n",
       "      <th>Vehicle_Driven_By_Code</th>\n",
       "      <th>Driver_Exp_Code</th>\n",
       "      <th>Claims_History_Code</th>\n",
       "      <th>Driver_Qualification_Code</th>\n",
       "      <th>Incurred_Claims_Code</th>\n",
       "      <th>TPPD_Statutory_Cover_only</th>\n",
       "      <th>TAC_NOL_Code</th>\n",
       "      <th>OD_Total_Loss</th>\n",
       "      <th>DRV_CLAIM_AMT</th>\n",
       "      <th>_AntiTheft</th>\n",
       "      <th>No_Claim_Bonus</th>\n",
       "      <th>Net_OD_Premium</th>\n",
       "    </tr>\n",
       "  </thead>\n",
       "  <tbody>\n",
       "    <tr>\n",
       "      <th>count</th>\n",
       "      <td>75200.000000</td>\n",
       "      <td>75200.000000</td>\n",
       "      <td>75200.000000</td>\n",
       "      <td>75200.000000</td>\n",
       "      <td>75200.000000</td>\n",
       "      <td>75200.000000</td>\n",
       "      <td>75200.000000</td>\n",
       "      <td>7.520000e+04</td>\n",
       "      <td>75200.000000</td>\n",
       "      <td>75200.000000</td>\n",
       "      <td>75200.000000</td>\n",
       "      <td>75200.000000</td>\n",
       "      <td>75200.000000</td>\n",
       "      <td>75200.000000</td>\n",
       "      <td>75200.000000</td>\n",
       "      <td>75200.000000</td>\n",
       "      <td>75200.000000</td>\n",
       "      <td>75200.000000</td>\n",
       "      <td>75200.000000</td>\n",
       "      <td>7.520000e+04</td>\n",
       "      <td>75200.000000</td>\n",
       "      <td>75200.000000</td>\n",
       "      <td>75200.000000</td>\n",
       "    </tr>\n",
       "    <tr>\n",
       "      <th>mean</th>\n",
       "      <td>56217.076303</td>\n",
       "      <td>0.327846</td>\n",
       "      <td>1.998777</td>\n",
       "      <td>13.134375</td>\n",
       "      <td>36.477992</td>\n",
       "      <td>2.279016</td>\n",
       "      <td>51.410426</td>\n",
       "      <td>1.334109e+08</td>\n",
       "      <td>1.534255</td>\n",
       "      <td>1.811649</td>\n",
       "      <td>3.936503</td>\n",
       "      <td>1.646835</td>\n",
       "      <td>3.703364</td>\n",
       "      <td>2.624574</td>\n",
       "      <td>2.579082</td>\n",
       "      <td>3.489535</td>\n",
       "      <td>0.014096</td>\n",
       "      <td>11.467128</td>\n",
       "      <td>0.067207</td>\n",
       "      <td>3.898612e+04</td>\n",
       "      <td>0.197912</td>\n",
       "      <td>0.264202</td>\n",
       "      <td>5501.254774</td>\n",
       "    </tr>\n",
       "    <tr>\n",
       "      <th>std</th>\n",
       "      <td>27710.180297</td>\n",
       "      <td>0.469431</td>\n",
       "      <td>0.072374</td>\n",
       "      <td>3.152568</td>\n",
       "      <td>1.454037</td>\n",
       "      <td>2.728624</td>\n",
       "      <td>3.773266</td>\n",
       "      <td>3.646625e+10</td>\n",
       "      <td>1.042825</td>\n",
       "      <td>0.390995</td>\n",
       "      <td>1.096495</td>\n",
       "      <td>0.477957</td>\n",
       "      <td>2.123978</td>\n",
       "      <td>1.509805</td>\n",
       "      <td>1.167063</td>\n",
       "      <td>2.658254</td>\n",
       "      <td>0.117887</td>\n",
       "      <td>16.905392</td>\n",
       "      <td>0.250383</td>\n",
       "      <td>1.120210e+05</td>\n",
       "      <td>0.398428</td>\n",
       "      <td>0.440910</td>\n",
       "      <td>5321.331584</td>\n",
       "    </tr>\n",
       "    <tr>\n",
       "      <th>min</th>\n",
       "      <td>1.000000</td>\n",
       "      <td>0.000000</td>\n",
       "      <td>1.000000</td>\n",
       "      <td>11.000000</td>\n",
       "      <td>35.000000</td>\n",
       "      <td>0.000000</td>\n",
       "      <td>46.000000</td>\n",
       "      <td>1.000000e+00</td>\n",
       "      <td>1.000000</td>\n",
       "      <td>1.000000</td>\n",
       "      <td>1.000000</td>\n",
       "      <td>1.000000</td>\n",
       "      <td>1.000000</td>\n",
       "      <td>1.000000</td>\n",
       "      <td>1.000000</td>\n",
       "      <td>1.000000</td>\n",
       "      <td>0.000000</td>\n",
       "      <td>1.000000</td>\n",
       "      <td>0.000000</td>\n",
       "      <td>0.000000e+00</td>\n",
       "      <td>0.000000</td>\n",
       "      <td>0.000000</td>\n",
       "      <td>13.000000</td>\n",
       "    </tr>\n",
       "    <tr>\n",
       "      <th>25%</th>\n",
       "      <td>36598.750000</td>\n",
       "      <td>0.000000</td>\n",
       "      <td>2.000000</td>\n",
       "      <td>11.000000</td>\n",
       "      <td>36.000000</td>\n",
       "      <td>0.000000</td>\n",
       "      <td>50.000000</td>\n",
       "      <td>1.100000e+05</td>\n",
       "      <td>1.000000</td>\n",
       "      <td>2.000000</td>\n",
       "      <td>3.000000</td>\n",
       "      <td>1.000000</td>\n",
       "      <td>1.000000</td>\n",
       "      <td>1.000000</td>\n",
       "      <td>1.000000</td>\n",
       "      <td>1.000000</td>\n",
       "      <td>0.000000</td>\n",
       "      <td>5.000000</td>\n",
       "      <td>0.000000</td>\n",
       "      <td>5.082000e+03</td>\n",
       "      <td>0.000000</td>\n",
       "      <td>0.000000</td>\n",
       "      <td>1850.000000</td>\n",
       "    </tr>\n",
       "    <tr>\n",
       "      <th>50%</th>\n",
       "      <td>58130.500000</td>\n",
       "      <td>0.000000</td>\n",
       "      <td>2.000000</td>\n",
       "      <td>11.000000</td>\n",
       "      <td>36.000000</td>\n",
       "      <td>1.000000</td>\n",
       "      <td>51.000000</td>\n",
       "      <td>2.949900e+05</td>\n",
       "      <td>1.000000</td>\n",
       "      <td>2.000000</td>\n",
       "      <td>4.000000</td>\n",
       "      <td>2.000000</td>\n",
       "      <td>4.000000</td>\n",
       "      <td>2.000000</td>\n",
       "      <td>3.000000</td>\n",
       "      <td>3.000000</td>\n",
       "      <td>0.000000</td>\n",
       "      <td>5.000000</td>\n",
       "      <td>0.000000</td>\n",
       "      <td>1.300000e+04</td>\n",
       "      <td>0.000000</td>\n",
       "      <td>0.000000</td>\n",
       "      <td>4786.000000</td>\n",
       "    </tr>\n",
       "    <tr>\n",
       "      <th>75%</th>\n",
       "      <td>80838.250000</td>\n",
       "      <td>1.000000</td>\n",
       "      <td>2.000000</td>\n",
       "      <td>14.000000</td>\n",
       "      <td>36.000000</td>\n",
       "      <td>4.000000</td>\n",
       "      <td>52.000000</td>\n",
       "      <td>4.850000e+05</td>\n",
       "      <td>2.000000</td>\n",
       "      <td>2.000000</td>\n",
       "      <td>5.000000</td>\n",
       "      <td>2.000000</td>\n",
       "      <td>6.000000</td>\n",
       "      <td>4.000000</td>\n",
       "      <td>4.000000</td>\n",
       "      <td>6.000000</td>\n",
       "      <td>0.000000</td>\n",
       "      <td>5.000000</td>\n",
       "      <td>0.000000</td>\n",
       "      <td>3.000000e+04</td>\n",
       "      <td>0.000000</td>\n",
       "      <td>1.000000</td>\n",
       "      <td>7244.000000</td>\n",
       "    </tr>\n",
       "    <tr>\n",
       "      <th>max</th>\n",
       "      <td>99991.000000</td>\n",
       "      <td>1.000000</td>\n",
       "      <td>8.000000</td>\n",
       "      <td>23.000000</td>\n",
       "      <td>40.000000</td>\n",
       "      <td>29.000000</td>\n",
       "      <td>64.000000</td>\n",
       "      <td>1.000000e+13</td>\n",
       "      <td>5.000000</td>\n",
       "      <td>2.000000</td>\n",
       "      <td>5.000000</td>\n",
       "      <td>2.000000</td>\n",
       "      <td>6.000000</td>\n",
       "      <td>6.000000</td>\n",
       "      <td>4.000000</td>\n",
       "      <td>9.000000</td>\n",
       "      <td>1.000000</td>\n",
       "      <td>59.000000</td>\n",
       "      <td>1.000000</td>\n",
       "      <td>8.216000e+06</td>\n",
       "      <td>1.000000</td>\n",
       "      <td>1.000000</td>\n",
       "      <td>96795.000000</td>\n",
       "    </tr>\n",
       "  </tbody>\n",
       "</table>\n",
       "</div>"
      ],
      "text/plain": [
       "          Uniquekey   Endorsement   Policy_Code    Class_Code     Zone_Code   Vehicle_Age  CC_PCC_GVW_Code           IDV   Permit_Code  Nature_Goods_Code  Road_Type_Code  Vehicle_Driven_By_Code  Driver_Exp_Code  Claims_History_Code  Driver_Qualification_Code  Incurred_Claims_Code  TPPD_Statutory_Cover_only  TAC_NOL_Code  OD_Total_Loss  DRV_CLAIM_AMT    _AntiTheft  No_Claim_Bonus  Net_OD_Premium\n",
       "count  75200.000000  75200.000000  75200.000000  75200.000000  75200.000000  75200.000000     75200.000000  7.520000e+04  75200.000000       75200.000000    75200.000000            75200.000000     75200.000000         75200.000000               75200.000000          75200.000000               75200.000000  75200.000000   75200.000000   7.520000e+04  75200.000000    75200.000000    75200.000000\n",
       "mean   56217.076303      0.327846      1.998777     13.134375     36.477992      2.279016        51.410426  1.334109e+08      1.534255           1.811649        3.936503                1.646835         3.703364             2.624574                   2.579082              3.489535                   0.014096     11.467128       0.067207   3.898612e+04      0.197912        0.264202     5501.254774\n",
       "std    27710.180297      0.469431      0.072374      3.152568      1.454037      2.728624         3.773266  3.646625e+10      1.042825           0.390995        1.096495                0.477957         2.123978             1.509805                   1.167063              2.658254                   0.117887     16.905392       0.250383   1.120210e+05      0.398428        0.440910     5321.331584\n",
       "min        1.000000      0.000000      1.000000     11.000000     35.000000      0.000000        46.000000  1.000000e+00      1.000000           1.000000        1.000000                1.000000         1.000000             1.000000                   1.000000              1.000000                   0.000000      1.000000       0.000000   0.000000e+00      0.000000        0.000000       13.000000\n",
       "25%    36598.750000      0.000000      2.000000     11.000000     36.000000      0.000000        50.000000  1.100000e+05      1.000000           2.000000        3.000000                1.000000         1.000000             1.000000                   1.000000              1.000000                   0.000000      5.000000       0.000000   5.082000e+03      0.000000        0.000000     1850.000000\n",
       "50%    58130.500000      0.000000      2.000000     11.000000     36.000000      1.000000        51.000000  2.949900e+05      1.000000           2.000000        4.000000                2.000000         4.000000             2.000000                   3.000000              3.000000                   0.000000      5.000000       0.000000   1.300000e+04      0.000000        0.000000     4786.000000\n",
       "75%    80838.250000      1.000000      2.000000     14.000000     36.000000      4.000000        52.000000  4.850000e+05      2.000000           2.000000        5.000000                2.000000         6.000000             4.000000                   4.000000              6.000000                   0.000000      5.000000       0.000000   3.000000e+04      0.000000        1.000000     7244.000000\n",
       "max    99991.000000      1.000000      8.000000     23.000000     40.000000     29.000000        64.000000  1.000000e+13      5.000000           2.000000        5.000000                2.000000         6.000000             6.000000                   4.000000              9.000000                   1.000000     59.000000       1.000000   8.216000e+06      1.000000        1.000000    96795.000000"
      ]
     },
     "execution_count": 17,
     "metadata": {},
     "output_type": "execute_result"
    }
   ],
   "source": [
    "df.describe()"
   ]
  },
  {
   "cell_type": "code",
   "execution_count": 18,
   "id": "4948bf86",
   "metadata": {},
   "outputs": [
    {
     "data": {
      "text/plain": [
       "Index(['Uniquekey', 'Policy_Year', 'Endorsement', 'Location_RTA', 'Policy_Code', 'Class_Code', 'Zone_Code', 'Vehicle_Age', 'CC_PCC_GVW_Code', 'Colour_Vehicle', 'IDV', 'Permit_Code', 'Nature_Goods_Code', 'Road_Type_Code', 'Vehicle_Driven_By_Code', 'Driver_Exp_Code', 'Claims_History_Code', 'Driver_Qualification_Code', 'Incurred_Claims_Code', 'TPPD_Statutory_Cover_only', 'Claim_Year', 'Date_Accident_Loss', 'Place_Accident', 'Date_Claim_Intimation', 'TAC_NOL_Code', 'Date_Disbursement', 'OD_Total_Loss', 'DRV_CLAIM_AMT', 'DRV_CLAIM_STATUS', '_AntiTheft', 'No_Claim_Bonus', 'Net_OD_Premium'], dtype='object')"
      ]
     },
     "execution_count": 18,
     "metadata": {},
     "output_type": "execute_result"
    }
   ],
   "source": [
    "df.columns"
   ]
  },
  {
   "cell_type": "code",
   "execution_count": 19,
   "id": "20173491",
   "metadata": {},
   "outputs": [
    {
     "data": {
      "text/plain": [
       "0.0        3760\n",
       "19500.0     915\n",
       "14775.0     914\n",
       "20000.0     770\n",
       "22000.0     385\n",
       "           ... \n",
       "29486.0       1\n",
       "21160.0       1\n",
       "14541.0       1\n",
       "12665.0       1\n",
       "9354.0        1\n",
       "Name: DRV_CLAIM_AMT, Length: 26127, dtype: int64"
      ]
     },
     "execution_count": 19,
     "metadata": {},
     "output_type": "execute_result"
    }
   ],
   "source": [
    "df.DRV_CLAIM_AMT.value_counts()"
   ]
  },
  {
   "cell_type": "code",
   "execution_count": 20,
   "id": "b4335640",
   "metadata": {},
   "outputs": [
    {
     "data": {
      "text/plain": [
       "CLOSED      0.948457\n",
       "REJECTED    0.051543\n",
       "Name: DRV_CLAIM_STATUS, dtype: float64"
      ]
     },
     "execution_count": 20,
     "metadata": {},
     "output_type": "execute_result"
    }
   ],
   "source": [
    "df.DRV_CLAIM_STATUS.value_counts(normalize=True)"
   ]
  },
  {
   "cell_type": "code",
   "execution_count": 21,
   "id": "e2f0623c",
   "metadata": {},
   "outputs": [
    {
     "data": {
      "text/plain": [
       "CLOSED      0.948457\n",
       "REJECTED    0.051543\n",
       "Name: DRV_CLAIM_STATUS, dtype: float64"
      ]
     },
     "execution_count": 21,
     "metadata": {},
     "output_type": "execute_result"
    }
   ],
   "source": [
    "df.DRV_CLAIM_STATUS.value_counts(normalize=True)"
   ]
  },
  {
   "cell_type": "code",
   "execution_count": 22,
   "id": "52b8a1ec",
   "metadata": {},
   "outputs": [],
   "source": [
    "df.drop('Uniquekey',axis=1,inplace=True)"
   ]
  },
  {
   "cell_type": "code",
   "execution_count": 23,
   "id": "6131e6f8",
   "metadata": {},
   "outputs": [
    {
     "data": {
      "text/plain": [
       "(75200, 31)"
      ]
     },
     "execution_count": 23,
     "metadata": {},
     "output_type": "execute_result"
    }
   ],
   "source": [
    "df.shape"
   ]
  },
  {
   "cell_type": "code",
   "execution_count": 24,
   "id": "6009151d",
   "metadata": {},
   "outputs": [
    {
     "name": "stdout",
     "output_type": "stream",
     "text": [
      "<class 'pandas.core.frame.DataFrame'>\n",
      "RangeIndex: 75200 entries, 0 to 75199\n",
      "Data columns (total 25 columns):\n",
      " #   Column                     Non-Null Count  Dtype         \n",
      "---  ------                     --------------  -----         \n",
      " 0   Endorsement                75200 non-null  int64         \n",
      " 1   Policy_Code                75200 non-null  int64         \n",
      " 2   Class_Code                 75200 non-null  int64         \n",
      " 3   Zone_Code                  75200 non-null  int64         \n",
      " 4   Vehicle_Age                75200 non-null  int64         \n",
      " 5   CC_PCC_GVW_Code            75200 non-null  int64         \n",
      " 6   IDV                        75200 non-null  float64       \n",
      " 7   Permit_Code                75200 non-null  int64         \n",
      " 8   Nature_Goods_Code          75200 non-null  int64         \n",
      " 9   Road_Type_Code             75200 non-null  int64         \n",
      " 10  Vehicle_Driven_By_Code     75200 non-null  int64         \n",
      " 11  Driver_Exp_Code            75200 non-null  int64         \n",
      " 12  Claims_History_Code        75200 non-null  int64         \n",
      " 13  Driver_Qualification_Code  75200 non-null  int64         \n",
      " 14  Incurred_Claims_Code       75200 non-null  int64         \n",
      " 15  TPPD_Statutory_Cover_only  75200 non-null  int64         \n",
      " 16  Date_Accident_Loss         75200 non-null  datetime64[ns]\n",
      " 17  Date_Claim_Intimation      75200 non-null  datetime64[ns]\n",
      " 18  TAC_NOL_Code               75200 non-null  int64         \n",
      " 19  Date_Disbursement          71465 non-null  datetime64[ns]\n",
      " 20  OD_Total_Loss              75200 non-null  int64         \n",
      " 21  DRV_CLAIM_AMT              75200 non-null  float64       \n",
      " 22  _AntiTheft                 75200 non-null  int64         \n",
      " 23  No_Claim_Bonus             75200 non-null  int64         \n",
      " 24  Net_OD_Premium             75200 non-null  int64         \n",
      "dtypes: datetime64[ns](3), float64(2), int64(20)\n",
      "memory usage: 14.3 MB\n"
     ]
    }
   ],
   "source": [
    "df_num=df.select_dtypes(exclude='object')\n",
    "df_num.info()"
   ]
  },
  {
   "cell_type": "code",
   "execution_count": 25,
   "id": "3f9f83fd",
   "metadata": {},
   "outputs": [
    {
     "data": {
      "image/png": "[encoded data removed]",
      "text/plain": [
       "<Figure size 1800x1080 with 16 Axes>"
      ]
     },
     "metadata": {
      "needs_background": "light"
     },
     "output_type": "display_data"
    },
    {
     "data": {
      "image/png": "[encoded data removed]",
      "text/plain": [
       "<Figure size 1080x720 with 1 Axes>"
      ]
     },
     "metadata": {
      "needs_background": "light"
     },
     "output_type": "display_data"
    },
    {
     "data": {
      "image/png": "[encoded data removed]",
      "text/plain": [
       "<Figure size 1080x720 with 1 Axes>"
      ]
     },
     "metadata": {
      "needs_background": "light"
     },
     "output_type": "display_data"
    },
    {
     "data": {
      "image/png": "[encoded data removed]",
      "text/plain": [
       "<Figure size 1080x720 with 1 Axes>"
      ]
     },
     "metadata": {
      "needs_background": "light"
     },
     "output_type": "display_data"
    },
    {
     "data": {
      "image/png": "[encoded data removed]",
      "text/plain": [
       "<Figure size 1080x720 with 1 Axes>"
      ]
     },
     "metadata": {
      "needs_background": "light"
     },
     "output_type": "display_data"
    },
    {
     "data": {
      "image/png": "[encoded data removed]",
      "text/plain": [
       "<Figure size 1080x720 with 1 Axes>"
      ]
     },
     "metadata": {
      "needs_background": "light"
     },
     "output_type": "display_data"
    },
    {
     "data": {
      "image/png": "[encoded data removed]",
      "text/plain": [
       "<Figure size 1080x720 with 1 Axes>"
      ]
     },
     "metadata": {
      "needs_background": "light"
     },
     "output_type": "display_data"
    },
    {
     "data": {
      "image/png": "[encoded data removed]",
      "text/plain": [
       "<Figure size 1080x720 with 1 Axes>"
      ]
     },
     "metadata": {
      "needs_background": "light"
     },
     "output_type": "display_data"
    },
    {
     "data": {
      "image/png": "[encoded data removed]",
      "text/plain": [
       "<Figure size 1080x720 with 1 Axes>"
      ]
     },
     "metadata": {
      "needs_background": "light"
     },
     "output_type": "display_data"
    },
    {
     "data": {
      "image/png": "[encoded data removed]",
      "text/plain": [
       "<Figure size 1080x720 with 1 Axes>"
      ]
     },
     "metadata": {
      "needs_background": "light"
     },
     "output_type": "display_data"
    },
    {
     "data": {
      "image/png": "[encoded data removed]",
      "text/plain": [
       "<Figure size 1080x720 with 1 Axes>"
      ]
     },
     "metadata": {
      "needs_background": "light"
     },
     "output_type": "display_data"
    },
    {
     "data": {
      "image/png": "[encoded data removed]",
      "text/plain": [
       "<Figure size 1080x720 with 1 Axes>"
      ]
     },
     "metadata": {
      "needs_background": "light"
     },
     "output_type": "display_data"
    },
    {
     "data": {
      "image/png": "[encoded data removed]",
      "text/plain": [
       "<Figure size 1080x720 with 1 Axes>"
      ]
     },
     "metadata": {
      "needs_background": "light"
     },
     "output_type": "display_data"
    },
    {
     "data": {
      "image/png": "[encoded data removed]",
      "text/plain": [
       "<Figure size 1080x720 with 1 Axes>"
      ]
     },
     "metadata": {
      "needs_background": "light"
     },
     "output_type": "display_data"
    },
    {
     "data": {
      "image/png": "[encoded data removed]",
      "text/plain": [
       "<Figure size 1080x720 with 1 Axes>"
      ]
     },
     "metadata": {
      "needs_background": "light"
     },
     "output_type": "display_data"
    },
    {
     "data": {
      "image/png": "[encoded data removed]",
      "text/plain": [
       "<Figure size 1080x720 with 1 Axes>"
      ]
     },
     "metadata": {
      "needs_background": "light"
     },
     "output_type": "display_data"
    }
   ],
   "source": [
    "fig, ax=plt.subplots(4,4,figsize=(25,15))\n",
    "for var, subplot in zip(df_num.columns,ax.flatten()):\n",
    "    sns.boxplot(df_num[var],ax=subplot)\n",
    "    plt.title('df_num[var]')\n",
    "    plt.show()"
   ]
  },
  {
   "cell_type": "code",
   "execution_count": 26,
   "id": "39cbb9ac",
   "metadata": {},
   "outputs": [
    {
     "data": {
      "image/png": "[encoded data removed]",
      "text/plain": [
       "<Figure size 1800x1080 with 16 Axes>"
      ]
     },
     "metadata": {
      "needs_background": "light"
     },
     "output_type": "display_data"
    }
   ],
   "source": [
    "fig, ax=plt.subplots(4,4,figsize=(25,15))\n",
    "for var, subplot in zip(df_num.columns,ax.flatten()):\n",
    "  sns.boxplot(df_num[var],ax=subplot)\n",
    "  plt.title('df_num[var]')\n",
    "plt.show()\n"
   ]
  },
  {
   "cell_type": "code",
   "execution_count": 27,
   "id": "66e7a0c6",
   "metadata": {},
   "outputs": [],
   "source": [
    "# conversion of numericl values into categorical"
   ]
  },
  {
   "cell_type": "code",
   "execution_count": 28,
   "id": "f56d0823",
   "metadata": {},
   "outputs": [
    {
     "data": {
      "text/plain": [
       "Index(['Endorsement', 'Policy_Code', 'Class_Code', 'Zone_Code', 'Vehicle_Age', 'CC_PCC_GVW_Code', 'IDV', 'Permit_Code', 'Nature_Goods_Code', 'Road_Type_Code', 'Vehicle_Driven_By_Code', 'Driver_Exp_Code', 'Claims_History_Code', 'Driver_Qualification_Code', 'Incurred_Claims_Code', 'TPPD_Statutory_Cover_only', 'Date_Accident_Loss', 'Date_Claim_Intimation', 'TAC_NOL_Code', 'Date_Disbursement', 'OD_Total_Loss', 'DRV_CLAIM_AMT', '_AntiTheft', 'No_Claim_Bonus', 'Net_OD_Premium'], dtype='object')"
      ]
     },
     "execution_count": 28,
     "metadata": {},
     "output_type": "execute_result"
    }
   ],
   "source": [
    "df_num.columns"
   ]
  },
  {
   "cell_type": "code",
   "execution_count": 29,
   "id": "dd650105",
   "metadata": {},
   "outputs": [],
   "source": [
    "cat= ['Endorsement', 'Policy_Code','Class_Code','Zone_Code','CC_PCC_GVW_Code','Permit_Code', 'Nature_Goods_Code', \n",
    "          'Road_Type_Code', 'Vehicle_Driven_By_Code', 'Driver_Exp_Code', 'Claims_History_Code', 'Driver_Qualification_Code', \n",
    "          'Incurred_Claims_Code','TAC_NOL_Code'\n",
    "          ]\n"
   ]
  },
  {
   "cell_type": "code",
   "execution_count": 31,
   "id": "61ff1387",
   "metadata": {},
   "outputs": [],
   "source": [
    "for i in cat:\n",
    "  df[i]=df[i].astype('object')\n"
   ]
  },
  {
   "cell_type": "code",
   "execution_count": 32,
   "id": "5ec1cbcb",
   "metadata": {},
   "outputs": [
    {
     "name": "stdout",
     "output_type": "stream",
     "text": [
      "<class 'pandas.core.frame.DataFrame'>\n",
      "RangeIndex: 75200 entries, 0 to 75199\n",
      "Data columns (total 31 columns):\n",
      " #   Column                     Non-Null Count  Dtype         \n",
      "---  ------                     --------------  -----         \n",
      " 0   Policy_Year                75200 non-null  object        \n",
      " 1   Endorsement                75200 non-null  object        \n",
      " 2   Location_RTA               75197 non-null  object        \n",
      " 3   Policy_Code                75200 non-null  object        \n",
      " 4   Class_Code                 75200 non-null  object        \n",
      " 5   Zone_Code                  75200 non-null  object        \n",
      " 6   Vehicle_Age                75200 non-null  int64         \n",
      " 7   CC_PCC_GVW_Code            75200 non-null  object        \n",
      " 8   Colour_Vehicle             75200 non-null  object        \n",
      " 9   IDV                        75200 non-null  float64       \n",
      " 10  Permit_Code                75200 non-null  object        \n",
      " 11  Nature_Goods_Code          75200 non-null  object        \n",
      " 12  Road_Type_Code             75200 non-null  object        \n",
      " 13  Vehicle_Driven_By_Code     75200 non-null  object        \n",
      " 14  Driver_Exp_Code            75200 non-null  object        \n",
      " 15  Claims_History_Code        75200 non-null  object        \n",
      " 16  Driver_Qualification_Code  75200 non-null  object        \n",
      " 17  Incurred_Claims_Code       75200 non-null  object        \n",
      " 18  TPPD_Statutory_Cover_only  75200 non-null  int64         \n",
      " 19  Claim_Year                 75200 non-null  object        \n",
      " 20  Date_Accident_Loss         75200 non-null  datetime64[ns]\n",
      " 21  Place_Accident             75200 non-null  object        \n",
      " 22  Date_Claim_Intimation      75200 non-null  datetime64[ns]\n",
      " 23  TAC_NOL_Code               75200 non-null  object        \n",
      " 24  Date_Disbursement          71465 non-null  datetime64[ns]\n",
      " 25  OD_Total_Loss              75200 non-null  int64         \n",
      " 26  DRV_CLAIM_AMT              75200 non-null  float64       \n",
      " 27  DRV_CLAIM_STATUS           75200 non-null  object        \n",
      " 28  _AntiTheft                 75200 non-null  int64         \n",
      " 29  No_Claim_Bonus             75200 non-null  int64         \n",
      " 30  Net_OD_Premium             75200 non-null  int64         \n",
      "dtypes: datetime64[ns](3), float64(2), int64(6), object(20)\n",
      "memory usage: 17.8+ MB\n"
     ]
    }
   ],
   "source": [
    "df.info()"
   ]
  },
  {
   "cell_type": "code",
   "execution_count": 33,
   "id": "170ee622",
   "metadata": {},
   "outputs": [
    {
     "data": {
      "text/plain": [
       "(75200, 25)"
      ]
     },
     "execution_count": 33,
     "metadata": {},
     "output_type": "execute_result"
    }
   ],
   "source": [
    "df_num.shape"
   ]
  },
  {
   "cell_type": "code",
   "execution_count": 34,
   "id": "d3e3d52f",
   "metadata": {},
   "outputs": [
    {
     "name": "stdout",
     "output_type": "stream",
     "text": [
      "<class 'pandas.core.frame.DataFrame'>\n",
      "RangeIndex: 75200 entries, 0 to 75199\n",
      "Data columns (total 11 columns):\n",
      " #   Column                     Non-Null Count  Dtype         \n",
      "---  ------                     --------------  -----         \n",
      " 0   Vehicle_Age                75200 non-null  int64         \n",
      " 1   IDV                        75200 non-null  float64       \n",
      " 2   TPPD_Statutory_Cover_only  75200 non-null  int64         \n",
      " 3   Date_Accident_Loss         75200 non-null  datetime64[ns]\n",
      " 4   Date_Claim_Intimation      75200 non-null  datetime64[ns]\n",
      " 5   Date_Disbursement          71465 non-null  datetime64[ns]\n",
      " 6   OD_Total_Loss              75200 non-null  int64         \n",
      " 7   DRV_CLAIM_AMT              75200 non-null  float64       \n",
      " 8   _AntiTheft                 75200 non-null  int64         \n",
      " 9   No_Claim_Bonus             75200 non-null  int64         \n",
      " 10  Net_OD_Premium             75200 non-null  int64         \n",
      "dtypes: datetime64[ns](3), float64(2), int64(6)\n",
      "memory usage: 6.3 MB\n"
     ]
    }
   ],
   "source": [
    "\n",
    "df_num=df.select_dtypes(exclude='object')\n",
    "df_num.info()\n"
   ]
  },
  {
   "cell_type": "code",
   "execution_count": 35,
   "id": "a7de2e36",
   "metadata": {},
   "outputs": [
    {
     "name": "stdout",
     "output_type": "stream",
     "text": [
      "<class 'pandas.core.frame.DataFrame'>\n",
      "RangeIndex: 75200 entries, 0 to 75199\n",
      "Data columns (total 20 columns):\n",
      " #   Column                     Non-Null Count  Dtype \n",
      "---  ------                     --------------  ----- \n",
      " 0   Policy_Year                75200 non-null  object\n",
      " 1   Endorsement                75200 non-null  object\n",
      " 2   Location_RTA               75197 non-null  object\n",
      " 3   Policy_Code                75200 non-null  object\n",
      " 4   Class_Code                 75200 non-null  object\n",
      " 5   Zone_Code                  75200 non-null  object\n",
      " 6   CC_PCC_GVW_Code            75200 non-null  object\n",
      " 7   Colour_Vehicle             75200 non-null  object\n",
      " 8   Permit_Code                75200 non-null  object\n",
      " 9   Nature_Goods_Code          75200 non-null  object\n",
      " 10  Road_Type_Code             75200 non-null  object\n",
      " 11  Vehicle_Driven_By_Code     75200 non-null  object\n",
      " 12  Driver_Exp_Code            75200 non-null  object\n",
      " 13  Claims_History_Code        75200 non-null  object\n",
      " 14  Driver_Qualification_Code  75200 non-null  object\n",
      " 15  Incurred_Claims_Code       75200 non-null  object\n",
      " 16  Claim_Year                 75200 non-null  object\n",
      " 17  Place_Accident             75200 non-null  object\n",
      " 18  TAC_NOL_Code               75200 non-null  object\n",
      " 19  DRV_CLAIM_STATUS           75200 non-null  object\n",
      "dtypes: object(20)\n",
      "memory usage: 11.5+ MB\n"
     ]
    }
   ],
   "source": [
    "\n",
    "df_cat=df.select_dtypes(include='object')\n",
    "df_cat.info()\n"
   ]
  },
  {
   "cell_type": "code",
   "execution_count": 36,
   "id": "e91215a8",
   "metadata": {},
   "outputs": [
    {
     "data": {
      "text/plain": [
       "(75200, 20)"
      ]
     },
     "execution_count": 36,
     "metadata": {},
     "output_type": "execute_result"
    }
   ],
   "source": [
    "df_cat.shape"
   ]
  },
  {
   "cell_type": "code",
   "execution_count": 37,
   "id": "772fe955",
   "metadata": {},
   "outputs": [],
   "source": [
    "# bi-variate"
   ]
  },
  {
   "cell_type": "code",
   "execution_count": 38,
   "id": "11884b7c",
   "metadata": {},
   "outputs": [
    {
     "data": {
      "text/html": [
       "<div>\n",
       "<style scoped>\n",
       "    .dataframe tbody tr th:only-of-type {\n",
       "        vertical-align: middle;\n",
       "    }\n",
       "\n",
       "    .dataframe tbody tr th {\n",
       "        vertical-align: top;\n",
       "    }\n",
       "\n",
       "    .dataframe thead th {\n",
       "        text-align: right;\n",
       "    }\n",
       "</style>\n",
       "<table border=\"1\" class=\"dataframe\">\n",
       "  <thead>\n",
       "    <tr style=\"text-align: right;\">\n",
       "      <th></th>\n",
       "      <th>Vehicle_Age</th>\n",
       "      <th>IDV</th>\n",
       "      <th>TPPD_Statutory_Cover_only</th>\n",
       "      <th>OD_Total_Loss</th>\n",
       "      <th>DRV_CLAIM_AMT</th>\n",
       "      <th>_AntiTheft</th>\n",
       "      <th>No_Claim_Bonus</th>\n",
       "      <th>Net_OD_Premium</th>\n",
       "    </tr>\n",
       "  </thead>\n",
       "  <tbody>\n",
       "    <tr>\n",
       "      <th>Vehicle_Age</th>\n",
       "      <td>1.000000</td>\n",
       "      <td>-0.003049</td>\n",
       "      <td>-0.017973</td>\n",
       "      <td>-0.057053</td>\n",
       "      <td>-0.026864</td>\n",
       "      <td>-0.007187</td>\n",
       "      <td>0.058997</td>\n",
       "      <td>0.035260</td>\n",
       "    </tr>\n",
       "    <tr>\n",
       "      <th>IDV</th>\n",
       "      <td>-0.003049</td>\n",
       "      <td>1.000000</td>\n",
       "      <td>-0.000437</td>\n",
       "      <td>-0.000981</td>\n",
       "      <td>0.118423</td>\n",
       "      <td>-0.001811</td>\n",
       "      <td>-0.002186</td>\n",
       "      <td>-0.002367</td>\n",
       "    </tr>\n",
       "    <tr>\n",
       "      <th>TPPD_Statutory_Cover_only</th>\n",
       "      <td>-0.017973</td>\n",
       "      <td>-0.000437</td>\n",
       "      <td>1.000000</td>\n",
       "      <td>0.087294</td>\n",
       "      <td>-0.017364</td>\n",
       "      <td>-0.031366</td>\n",
       "      <td>-0.060137</td>\n",
       "      <td>-0.095432</td>\n",
       "    </tr>\n",
       "    <tr>\n",
       "      <th>OD_Total_Loss</th>\n",
       "      <td>-0.057053</td>\n",
       "      <td>-0.000981</td>\n",
       "      <td>0.087294</td>\n",
       "      <td>1.000000</td>\n",
       "      <td>0.228286</td>\n",
       "      <td>-0.054553</td>\n",
       "      <td>-0.094954</td>\n",
       "      <td>-0.168677</td>\n",
       "    </tr>\n",
       "    <tr>\n",
       "      <th>DRV_CLAIM_AMT</th>\n",
       "      <td>-0.026864</td>\n",
       "      <td>0.118423</td>\n",
       "      <td>-0.017364</td>\n",
       "      <td>0.228286</td>\n",
       "      <td>1.000000</td>\n",
       "      <td>-0.041616</td>\n",
       "      <td>0.003003</td>\n",
       "      <td>0.076054</td>\n",
       "    </tr>\n",
       "    <tr>\n",
       "      <th>_AntiTheft</th>\n",
       "      <td>-0.007187</td>\n",
       "      <td>-0.001811</td>\n",
       "      <td>-0.031366</td>\n",
       "      <td>-0.054553</td>\n",
       "      <td>-0.041616</td>\n",
       "      <td>1.000000</td>\n",
       "      <td>-0.077751</td>\n",
       "      <td>0.122744</td>\n",
       "    </tr>\n",
       "    <tr>\n",
       "      <th>No_Claim_Bonus</th>\n",
       "      <td>0.058997</td>\n",
       "      <td>-0.002186</td>\n",
       "      <td>-0.060137</td>\n",
       "      <td>-0.094954</td>\n",
       "      <td>0.003003</td>\n",
       "      <td>-0.077751</td>\n",
       "      <td>1.000000</td>\n",
       "      <td>-0.010712</td>\n",
       "    </tr>\n",
       "    <tr>\n",
       "      <th>Net_OD_Premium</th>\n",
       "      <td>0.035260</td>\n",
       "      <td>-0.002367</td>\n",
       "      <td>-0.095432</td>\n",
       "      <td>-0.168677</td>\n",
       "      <td>0.076054</td>\n",
       "      <td>0.122744</td>\n",
       "      <td>-0.010712</td>\n",
       "      <td>1.000000</td>\n",
       "    </tr>\n",
       "  </tbody>\n",
       "</table>\n",
       "</div>"
      ],
      "text/plain": [
       "                           Vehicle_Age       IDV  TPPD_Statutory_Cover_only  OD_Total_Loss  DRV_CLAIM_AMT  _AntiTheft  No_Claim_Bonus  Net_OD_Premium\n",
       "Vehicle_Age                   1.000000 -0.003049                  -0.017973      -0.057053      -0.026864   -0.007187        0.058997        0.035260\n",
       "IDV                          -0.003049  1.000000                  -0.000437      -0.000981       0.118423   -0.001811       -0.002186       -0.002367\n",
       "TPPD_Statutory_Cover_only    -0.017973 -0.000437                   1.000000       0.087294      -0.017364   -0.031366       -0.060137       -0.095432\n",
       "OD_Total_Loss                -0.057053 -0.000981                   0.087294       1.000000       0.228286   -0.054553       -0.094954       -0.168677\n",
       "DRV_CLAIM_AMT                -0.026864  0.118423                  -0.017364       0.228286       1.000000   -0.041616        0.003003        0.076054\n",
       "_AntiTheft                   -0.007187 -0.001811                  -0.031366      -0.054553      -0.041616    1.000000       -0.077751        0.122744\n",
       "No_Claim_Bonus                0.058997 -0.002186                  -0.060137      -0.094954       0.003003   -0.077751        1.000000       -0.010712\n",
       "Net_OD_Premium                0.035260 -0.002367                  -0.095432      -0.168677       0.076054    0.122744       -0.010712        1.000000"
      ]
     },
     "execution_count": 38,
     "metadata": {},
     "output_type": "execute_result"
    }
   ],
   "source": [
    "df.corr()"
   ]
  },
  {
   "cell_type": "code",
   "execution_count": 39,
   "id": "bd6b5dff",
   "metadata": {},
   "outputs": [],
   "source": [
    "# we wat tp prove wheteher the correlation is statically significant .hence in end to do some statsically test"
   ]
  },
  {
   "cell_type": "code",
   "execution_count": 40,
   "id": "d92cbd55",
   "metadata": {},
   "outputs": [
    {
     "data": {
      "text/plain": [
       "(0.0352598184060686, 3.9650484964770273e-22)"
      ]
     },
     "execution_count": 40,
     "metadata": {},
     "output_type": "execute_result"
    }
   ],
   "source": [
    "st.pearsonr(df.Vehicle_Age,df.Net_OD_Premium)\n"
   ]
  },
  {
   "cell_type": "code",
   "execution_count": 41,
   "id": "a628ed9e",
   "metadata": {},
   "outputs": [
    {
     "data": {
      "image/png": "[encoded data removed]",
      "text/plain": [
       "<Figure size 1080x720 with 1 Axes>"
      ]
     },
     "metadata": {
      "needs_background": "light"
     },
     "output_type": "display_data"
    }
   ],
   "source": [
    "sns.boxplot(df.DRV_CLAIM_STATUS,df_num.Vehicle_Age);"
   ]
  },
  {
   "cell_type": "code",
   "execution_count": 42,
   "id": "7aa6fd99",
   "metadata": {},
   "outputs": [
    {
     "data": {
      "text/plain": [
       "<AxesSubplot:xlabel='Road_Type_Code', ylabel='count'>"
      ]
     },
     "execution_count": 42,
     "metadata": {},
     "output_type": "execute_result"
    },
    {
     "data": {
      "image/png": "[encoded data removed]",
      "text/plain": [
       "<Figure size 1080x720 with 1 Axes>"
      ]
     },
     "metadata": {
      "needs_background": "light"
     },
     "output_type": "display_data"
    }
   ],
   "source": [
    "sns.countplot(x='Road_Type_Code', hue='DRV_CLAIM_STATUS',data=df,order=df.Road_Type_Code.value_counts().index )\n"
   ]
  },
  {
   "cell_type": "code",
   "execution_count": 43,
   "id": "5778069c",
   "metadata": {},
   "outputs": [
    {
     "data": {
      "text/plain": [
       "<AxesSubplot:xlabel='Vehicle_Driven_By_Code', ylabel='count'>"
      ]
     },
     "execution_count": 43,
     "metadata": {},
     "output_type": "execute_result"
    },
    {
     "data": {
      "image/png": "[encoded data removed]",
      "text/plain": [
       "<Figure size 1080x720 with 1 Axes>"
      ]
     },
     "metadata": {
      "needs_background": "light"
     },
     "output_type": "display_data"
    }
   ],
   "source": [
    "sns.countplot(x='Vehicle_Driven_By_Code', hue='DRV_CLAIM_STATUS',data=df,order=df.Road_Type_Code.value_counts().index )\n"
   ]
  },
  {
   "cell_type": "markdown",
   "id": "70683212",
   "metadata": {},
   "source": [
    "# chi square test"
   ]
  },
  {
   "cell_type": "code",
   "execution_count": 44,
   "id": "aeee4541",
   "metadata": {},
   "outputs": [
    {
     "data": {
      "text/plain": [
       "(7036.661593892817,\n",
       " 0.0,\n",
       " 13,\n",
       " array([[1.89691489e+00, 9.48457447e-01, 1.89691489e+00, 2.18145213e+01,\n",
       "         1.04330319e+01, 2.94021809e+01, 5.69074468e+01, 7.49281383e+01,\n",
       "         1.14763351e+02, 4.46723457e+02, 1.99839984e+03, 2.37996427e+04,\n",
       "         4.12948888e+04, 3.47135426e+03],\n",
       "        [1.03085106e-01, 5.15425532e-02, 1.03085106e-01, 1.18547872e+00,\n",
       "         5.66968085e-01, 1.59781915e+00, 3.09255319e+00, 4.07186170e+00,\n",
       "         6.23664894e+00, 2.42765426e+01, 1.08600160e+02, 1.29335729e+03,\n",
       "         2.24411122e+03, 1.88645745e+02]]))"
      ]
     },
     "execution_count": 44,
     "metadata": {},
     "output_type": "execute_result"
    }
   ],
   "source": [
    "st.chi2_contingency(pd.crosstab(df.DRV_CLAIM_STATUS,df.Claim_Year))\n"
   ]
  },
  {
   "cell_type": "markdown",
   "id": "80b7e64c",
   "metadata": {},
   "source": [
    "statistical value is 7036.661593892817\n",
    "\n",
    "p value : 0\n",
    "\n",
    "degree of freedom = 13"
   ]
  },
  {
   "cell_type": "markdown",
   "id": "194f1994",
   "metadata": {},
   "source": [
    "1 as the calculated value is less than 0.05, it means that the assiciation between the categorical variables is significant\n",
    "\n",
    "2 claim status is impacted by the claim year or influnced by the claim year"
   ]
  },
  {
   "cell_type": "code",
   "execution_count": 45,
   "id": "3de5ed46",
   "metadata": {},
   "outputs": [
    {
     "data": {
      "text/plain": [
       "(743.7275909275469,\n",
       " 6.915687943584987e-161,\n",
       " 3,\n",
       " array([[18352.65159574, 14843.35904255, 16600.85069149, 21527.13867021],\n",
       "        [  997.34840426,   806.64095745,   902.14930851,  1169.86132979]]))"
      ]
     },
     "execution_count": 45,
     "metadata": {},
     "output_type": "execute_result"
    }
   ],
   "source": [
    "st.chi2_contingency(pd.crosstab(df.DRV_CLAIM_STATUS,df.Driver_Qualification_Code))\n"
   ]
  },
  {
   "cell_type": "code",
   "execution_count": 46,
   "id": "37cf6674",
   "metadata": {},
   "outputs": [
    {
     "data": {
      "text/plain": [
       "(1333.290606496367,\n",
       " 3.915671727107809e-286,\n",
       " 5,\n",
       " array([[22815.14388298,  2663.26851064,  4352.4712234 ,  9888.61734043,\n",
       "          6241.79845745, 25362.70058511],\n",
       "        [ 1239.85611702,   144.73148936,   236.5287766 ,   537.38265957,\n",
       "           339.20154255,  1378.29941489]]))"
      ]
     },
     "execution_count": 46,
     "metadata": {},
     "output_type": "execute_result"
    }
   ],
   "source": [
    "st.chi2_contingency(pd.crosstab(df.DRV_CLAIM_STATUS,df.Driver_Exp_Code))\n"
   ]
  },
  {
   "cell_type": "code",
   "execution_count": 47,
   "id": "7e131417",
   "metadata": {},
   "outputs": [
    {
     "data": {
      "text/plain": [
       "(0.7949900369435544,\n",
       " 0.9391184555067269,\n",
       " 4,\n",
       " array([[1.34680957e+02, 7.11798345e+04, 9.48457447e-01, 7.58765957e+00,\n",
       "         9.48457447e-01],\n",
       "        [7.31904255e+00, 3.86816553e+03, 5.15425532e-02, 4.12340426e-01,\n",
       "         5.15425532e-02]]))"
      ]
     },
     "execution_count": 47,
     "metadata": {},
     "output_type": "execute_result"
    }
   ],
   "source": [
    "st.chi2_contingency(pd.crosstab(df.DRV_CLAIM_STATUS,df.Policy_Code))\n"
   ]
  },
  {
   "cell_type": "code",
   "execution_count": 48,
   "id": "9fff5b0a",
   "metadata": {},
   "outputs": [],
   "source": [
    "# multivariate Analysis"
   ]
  },
  {
   "cell_type": "code",
   "execution_count": 49,
   "id": "c44f4f6c",
   "metadata": {},
   "outputs": [
    {
     "data": {
      "text/plain": [
       "Index(['Vehicle_Age', 'IDV', 'TPPD_Statutory_Cover_only', 'Date_Accident_Loss', 'Date_Claim_Intimation', 'Date_Disbursement', 'OD_Total_Loss', 'DRV_CLAIM_AMT', '_AntiTheft', 'No_Claim_Bonus', 'Net_OD_Premium'], dtype='object')"
      ]
     },
     "execution_count": 49,
     "metadata": {},
     "output_type": "execute_result"
    }
   ],
   "source": [
    "df_num.columns"
   ]
  },
  {
   "cell_type": "code",
   "execution_count": 50,
   "id": "dcb23b03",
   "metadata": {},
   "outputs": [
    {
     "data": {
      "text/plain": [
       "Index(['Policy_Year', 'Endorsement', 'Location_RTA', 'Policy_Code', 'Class_Code', 'Zone_Code', 'CC_PCC_GVW_Code', 'Colour_Vehicle', 'Permit_Code', 'Nature_Goods_Code', 'Road_Type_Code', 'Vehicle_Driven_By_Code', 'Driver_Exp_Code', 'Claims_History_Code', 'Driver_Qualification_Code', 'Incurred_Claims_Code', 'Claim_Year', 'Place_Accident', 'TAC_NOL_Code', 'DRV_CLAIM_STATUS'], dtype='object')"
      ]
     },
     "execution_count": 50,
     "metadata": {},
     "output_type": "execute_result"
    }
   ],
   "source": [
    "df_cat.columns"
   ]
  },
  {
   "cell_type": "code",
   "execution_count": 51,
   "id": "9b7f5fe1",
   "metadata": {},
   "outputs": [
    {
     "data": {
      "text/html": [
       "<div>\n",
       "<style scoped>\n",
       "    .dataframe tbody tr th:only-of-type {\n",
       "        vertical-align: middle;\n",
       "    }\n",
       "\n",
       "    .dataframe tbody tr th {\n",
       "        vertical-align: top;\n",
       "    }\n",
       "\n",
       "    .dataframe thead tr th {\n",
       "        text-align: left;\n",
       "    }\n",
       "\n",
       "    .dataframe thead tr:last-of-type th {\n",
       "        text-align: right;\n",
       "    }\n",
       "</style>\n",
       "<table border=\"1\" class=\"dataframe\">\n",
       "  <thead>\n",
       "    <tr>\n",
       "      <th></th>\n",
       "      <th colspan=\"6\" halign=\"left\">DRV_CLAIM_AMT</th>\n",
       "    </tr>\n",
       "    <tr>\n",
       "      <th>Claims_History_Code</th>\n",
       "      <th>1</th>\n",
       "      <th>2</th>\n",
       "      <th>3</th>\n",
       "      <th>4</th>\n",
       "      <th>5</th>\n",
       "      <th>6</th>\n",
       "    </tr>\n",
       "    <tr>\n",
       "      <th>DRV_CLAIM_STATUS</th>\n",
       "      <th></th>\n",
       "      <th></th>\n",
       "      <th></th>\n",
       "      <th></th>\n",
       "      <th></th>\n",
       "      <th></th>\n",
       "    </tr>\n",
       "  </thead>\n",
       "  <tbody>\n",
       "    <tr>\n",
       "      <th>CLOSED</th>\n",
       "      <td>41880.881190</td>\n",
       "      <td>45809.836699</td>\n",
       "      <td>39034.332586</td>\n",
       "      <td>37035.757384</td>\n",
       "      <td>33662.057792</td>\n",
       "      <td>35491.539872</td>\n",
       "    </tr>\n",
       "    <tr>\n",
       "      <th>REJECTED</th>\n",
       "      <td>1.466305</td>\n",
       "      <td>0.645087</td>\n",
       "      <td>0.608305</td>\n",
       "      <td>0.297872</td>\n",
       "      <td>0.463951</td>\n",
       "      <td>0.459004</td>\n",
       "    </tr>\n",
       "  </tbody>\n",
       "</table>\n",
       "</div>"
      ],
      "text/plain": [
       "                    DRV_CLAIM_AMT                                                                      \n",
       "Claims_History_Code             1             2             3             4             5             6\n",
       "DRV_CLAIM_STATUS                                                                                       \n",
       "CLOSED               41880.881190  45809.836699  39034.332586  37035.757384  33662.057792  35491.539872\n",
       "REJECTED                 1.466305      0.645087      0.608305      0.297872      0.463951      0.459004"
      ]
     },
     "execution_count": 51,
     "metadata": {},
     "output_type": "execute_result"
    }
   ],
   "source": [
    "pd.pivot_table(df,index=['DRV_CLAIM_STATUS'],columns=['Claims_History_Code'],values=['DRV_CLAIM_AMT'],aggfunc=np.mean)\n"
   ]
  },
  {
   "cell_type": "code",
   "execution_count": 52,
   "id": "0b7d5d08",
   "metadata": {},
   "outputs": [
    {
     "data": {
      "text/plain": [
       "<AxesSubplot:title={'center':'Stacked bar chart'}, xlabel='Driver_Exp_Code'>"
      ]
     },
     "execution_count": 52,
     "metadata": {},
     "output_type": "execute_result"
    },
    {
     "data": {
      "image/png": "[encoded data removed]",
      "text/plain": [
       "<Figure size 1080x720 with 1 Axes>"
      ]
     },
     "metadata": {
      "needs_background": "light"
     },
     "output_type": "display_data"
    }
   ],
   "source": [
    "stack= pd.pivot_table(df, index=['Driver_Exp_Code'], columns=['Vehicle_Driven_By_Code'], values=['DRV_CLAIM_AMT'], aggfunc=np.mean )\n",
    "stack.plot.bar(title='Stacked bar chart', stacked=False, label='Type')\n"
   ]
  },
  {
   "cell_type": "markdown",
   "id": "c9ad6a99",
   "metadata": {},
   "source": [
    "## Feature Engineering"
   ]
  },
  {
   "cell_type": "code",
   "execution_count": 53,
   "id": "32199aa9",
   "metadata": {},
   "outputs": [],
   "source": [
    "df['claim_processing_time']=(pd.to_datetime(df['Date_Disbursement']))-(pd.to_datetime(df['Date_Claim_Intimation']))\n"
   ]
  },
  {
   "cell_type": "code",
   "execution_count": 54,
   "id": "0d1aeb0a",
   "metadata": {},
   "outputs": [
    {
     "data": {
      "text/plain": [
       "0           NaT\n",
       "1           NaT\n",
       "2       60 days\n",
       "3       60 days\n",
       "4           NaT\n",
       "          ...  \n",
       "75195   60 days\n",
       "75196   60 days\n",
       "75197   80 days\n",
       "75198    2 days\n",
       "75199   19 days\n",
       "Name: claim_processing_time, Length: 75200, dtype: timedelta64[ns]"
      ]
     },
     "execution_count": 54,
     "metadata": {},
     "output_type": "execute_result"
    }
   ],
   "source": [
    "df['claim_processing_time'] =pd.DataFrame(df['claim_processing_time']) \n",
    "df['claim_processing_time']\n"
   ]
  },
  {
   "cell_type": "code",
   "execution_count": 55,
   "id": "8e936e2d",
   "metadata": {},
   "outputs": [],
   "source": [
    "df['claim_processing_time'] = df['claim_processing_time']/ np.timedelta64(1, 'D')\n"
   ]
  },
  {
   "cell_type": "code",
   "execution_count": 56,
   "id": "92c709e8",
   "metadata": {},
   "outputs": [
    {
     "data": {
      "text/plain": [
       "0         NaN\n",
       "1         NaN\n",
       "2        60.0\n",
       "3        60.0\n",
       "4         NaN\n",
       "         ... \n",
       "75195    60.0\n",
       "75196    60.0\n",
       "75197    80.0\n",
       "75198     2.0\n",
       "75199    19.0\n",
       "Name: claim_processing_time, Length: 75200, dtype: float64"
      ]
     },
     "execution_count": 56,
     "metadata": {},
     "output_type": "execute_result"
    }
   ],
   "source": [
    "df['claim_processing_time']"
   ]
  },
  {
   "cell_type": "code",
   "execution_count": 57,
   "id": "a9666a85",
   "metadata": {},
   "outputs": [
    {
     "data": {
      "text/plain": [
       "<AxesSubplot:xlabel='claim_processing_time', ylabel='DRV_CLAIM_AMT'>"
      ]
     },
     "execution_count": 57,
     "metadata": {},
     "output_type": "execute_result"
    },
    {
     "data": {
      "image/png": "[encoded data removed]",
      "text/plain": [
       "<Figure size 1080x720 with 1 Axes>"
      ]
     },
     "metadata": {
      "needs_background": "light"
     },
     "output_type": "display_data"
    }
   ],
   "source": [
    "sns.lineplot(df.claim_processing_time, df.DRV_CLAIM_AMT)\n"
   ]
  },
  {
   "cell_type": "code",
   "execution_count": 58,
   "id": "58b4e1c9",
   "metadata": {},
   "outputs": [
    {
     "data": {
      "text/html": [
       "<div>\n",
       "<style scoped>\n",
       "    .dataframe tbody tr th:only-of-type {\n",
       "        vertical-align: middle;\n",
       "    }\n",
       "\n",
       "    .dataframe tbody tr th {\n",
       "        vertical-align: top;\n",
       "    }\n",
       "\n",
       "    .dataframe thead th {\n",
       "        text-align: right;\n",
       "    }\n",
       "</style>\n",
       "<table border=\"1\" class=\"dataframe\">\n",
       "  <thead>\n",
       "    <tr style=\"text-align: right;\">\n",
       "      <th></th>\n",
       "      <th>Policy_Year</th>\n",
       "      <th>Endorsement</th>\n",
       "      <th>Location_RTA</th>\n",
       "      <th>Policy_Code</th>\n",
       "      <th>Class_Code</th>\n",
       "      <th>Zone_Code</th>\n",
       "      <th>Vehicle_Age</th>\n",
       "      <th>CC_PCC_GVW_Code</th>\n",
       "      <th>Colour_Vehicle</th>\n",
       "      <th>IDV</th>\n",
       "      <th>Permit_Code</th>\n",
       "      <th>Nature_Goods_Code</th>\n",
       "      <th>Road_Type_Code</th>\n",
       "      <th>Vehicle_Driven_By_Code</th>\n",
       "      <th>Driver_Exp_Code</th>\n",
       "      <th>Claims_History_Code</th>\n",
       "      <th>Driver_Qualification_Code</th>\n",
       "      <th>Incurred_Claims_Code</th>\n",
       "      <th>TPPD_Statutory_Cover_only</th>\n",
       "      <th>Claim_Year</th>\n",
       "      <th>Date_Accident_Loss</th>\n",
       "      <th>Place_Accident</th>\n",
       "      <th>Date_Claim_Intimation</th>\n",
       "      <th>TAC_NOL_Code</th>\n",
       "      <th>Date_Disbursement</th>\n",
       "      <th>OD_Total_Loss</th>\n",
       "      <th>DRV_CLAIM_AMT</th>\n",
       "      <th>DRV_CLAIM_STATUS</th>\n",
       "      <th>_AntiTheft</th>\n",
       "      <th>No_Claim_Bonus</th>\n",
       "      <th>Net_OD_Premium</th>\n",
       "      <th>claim_processing_time</th>\n",
       "    </tr>\n",
       "  </thead>\n",
       "  <tbody>\n",
       "    <tr>\n",
       "      <th>48314</th>\n",
       "      <td>1998-99</td>\n",
       "      <td>0</td>\n",
       "      <td>DELHI</td>\n",
       "      <td>2</td>\n",
       "      <td>11</td>\n",
       "      <td>40</td>\n",
       "      <td>0</td>\n",
       "      <td>50</td>\n",
       "      <td>OTHER COLOR</td>\n",
       "      <td>297949.0</td>\n",
       "      <td>2</td>\n",
       "      <td>2</td>\n",
       "      <td>4</td>\n",
       "      <td>2</td>\n",
       "      <td>1</td>\n",
       "      <td>3</td>\n",
       "      <td>1</td>\n",
       "      <td>3</td>\n",
       "      <td>0</td>\n",
       "      <td>2008-09</td>\n",
       "      <td>1999-08-19</td>\n",
       "      <td>204-R, IST FLOOR, MO</td>\n",
       "      <td>2003-02-04</td>\n",
       "      <td>5</td>\n",
       "      <td>2011-10-21</td>\n",
       "      <td>0</td>\n",
       "      <td>315000.0</td>\n",
       "      <td>CLOSED</td>\n",
       "      <td>0</td>\n",
       "      <td>0</td>\n",
       "      <td>17519</td>\n",
       "      <td>3181.0</td>\n",
       "    </tr>\n",
       "    <tr>\n",
       "      <th>61035</th>\n",
       "      <td>2002-03</td>\n",
       "      <td>0</td>\n",
       "      <td>DELHI</td>\n",
       "      <td>2</td>\n",
       "      <td>11</td>\n",
       "      <td>40</td>\n",
       "      <td>0</td>\n",
       "      <td>50</td>\n",
       "      <td>OTHER COLOR</td>\n",
       "      <td>280000.0</td>\n",
       "      <td>2</td>\n",
       "      <td>2</td>\n",
       "      <td>4</td>\n",
       "      <td>2</td>\n",
       "      <td>1</td>\n",
       "      <td>3</td>\n",
       "      <td>2</td>\n",
       "      <td>2</td>\n",
       "      <td>0</td>\n",
       "      <td>2006-07</td>\n",
       "      <td>2003-10-15</td>\n",
       "      <td>WZB-47,RANGA ENCLAVE</td>\n",
       "      <td>2003-10-30</td>\n",
       "      <td>59</td>\n",
       "      <td>2012-02-17</td>\n",
       "      <td>0</td>\n",
       "      <td>5000.0</td>\n",
       "      <td>CLOSED</td>\n",
       "      <td>0</td>\n",
       "      <td>0</td>\n",
       "      <td>17519</td>\n",
       "      <td>3032.0</td>\n",
       "    </tr>\n",
       "    <tr>\n",
       "      <th>62697</th>\n",
       "      <td>2001-02</td>\n",
       "      <td>0</td>\n",
       "      <td>DELHI</td>\n",
       "      <td>2</td>\n",
       "      <td>11</td>\n",
       "      <td>40</td>\n",
       "      <td>0</td>\n",
       "      <td>50</td>\n",
       "      <td>OTHER COLOR</td>\n",
       "      <td>560000.0</td>\n",
       "      <td>2</td>\n",
       "      <td>2</td>\n",
       "      <td>4</td>\n",
       "      <td>2</td>\n",
       "      <td>1</td>\n",
       "      <td>2</td>\n",
       "      <td>4</td>\n",
       "      <td>8</td>\n",
       "      <td>0</td>\n",
       "      <td>2010-11</td>\n",
       "      <td>2002-02-03</td>\n",
       "      <td>JEET HOSPITAL PARK R</td>\n",
       "      <td>2002-02-03</td>\n",
       "      <td>5</td>\n",
       "      <td>2011-01-29</td>\n",
       "      <td>0</td>\n",
       "      <td>320000.0</td>\n",
       "      <td>CLOSED</td>\n",
       "      <td>0</td>\n",
       "      <td>0</td>\n",
       "      <td>17519</td>\n",
       "      <td>3282.0</td>\n",
       "    </tr>\n",
       "    <tr>\n",
       "      <th>63012</th>\n",
       "      <td>2001-02</td>\n",
       "      <td>0</td>\n",
       "      <td>DELHI</td>\n",
       "      <td>2</td>\n",
       "      <td>11</td>\n",
       "      <td>40</td>\n",
       "      <td>0</td>\n",
       "      <td>50</td>\n",
       "      <td>OTHER COLOR</td>\n",
       "      <td>297949.0</td>\n",
       "      <td>2</td>\n",
       "      <td>2</td>\n",
       "      <td>4</td>\n",
       "      <td>2</td>\n",
       "      <td>1</td>\n",
       "      <td>1</td>\n",
       "      <td>1</td>\n",
       "      <td>4</td>\n",
       "      <td>0</td>\n",
       "      <td>2011-12</td>\n",
       "      <td>2002-08-30</td>\n",
       "      <td>GOHANA</td>\n",
       "      <td>2002-08-30</td>\n",
       "      <td>5</td>\n",
       "      <td>2012-02-13</td>\n",
       "      <td>0</td>\n",
       "      <td>4500.0</td>\n",
       "      <td>CLOSED</td>\n",
       "      <td>0</td>\n",
       "      <td>1</td>\n",
       "      <td>17519</td>\n",
       "      <td>3454.0</td>\n",
       "    </tr>\n",
       "  </tbody>\n",
       "</table>\n",
       "</div>"
      ],
      "text/plain": [
       "      Policy_Year Endorsement Location_RTA Policy_Code Class_Code Zone_Code  Vehicle_Age CC_PCC_GVW_Code Colour_Vehicle       IDV Permit_Code Nature_Goods_Code Road_Type_Code Vehicle_Driven_By_Code Driver_Exp_Code Claims_History_Code Driver_Qualification_Code Incurred_Claims_Code  TPPD_Statutory_Cover_only Claim_Year Date_Accident_Loss        Place_Accident Date_Claim_Intimation TAC_NOL_Code Date_Disbursement  OD_Total_Loss  DRV_CLAIM_AMT DRV_CLAIM_STATUS  _AntiTheft  No_Claim_Bonus  Net_OD_Premium  claim_processing_time\n",
       "48314     1998-99           0        DELHI           2         11        40            0              50    OTHER COLOR  297949.0           2                 2              4                      2               1                   3                         1                    3                          0    2008-09         1999-08-19  204-R, IST FLOOR, MO            2003-02-04            5        2011-10-21              0       315000.0           CLOSED           0               0           17519                 3181.0\n",
       "61035     2002-03           0        DELHI           2         11        40            0              50    OTHER COLOR  280000.0           2                 2              4                      2               1                   3                         2                    2                          0    2006-07         2003-10-15  WZB-47,RANGA ENCLAVE            2003-10-30           59        2012-02-17              0         5000.0           CLOSED           0               0           17519                 3032.0\n",
       "62697     2001-02           0        DELHI           2         11        40            0              50    OTHER COLOR  560000.0           2                 2              4                      2               1                   2                         4                    8                          0    2010-11         2002-02-03  JEET HOSPITAL PARK R            2002-02-03            5        2011-01-29              0       320000.0           CLOSED           0               0           17519                 3282.0\n",
       "63012     2001-02           0        DELHI           2         11        40            0              50    OTHER COLOR  297949.0           2                 2              4                      2               1                   1                         1                    4                          0    2011-12         2002-08-30                GOHANA            2002-08-30            5        2012-02-13              0         4500.0           CLOSED           0               1           17519                 3454.0"
      ]
     },
     "execution_count": 58,
     "metadata": {},
     "output_type": "execute_result"
    }
   ],
   "source": [
    "df[df.claim_processing_time > 3000]\n"
   ]
  },
  {
   "cell_type": "markdown",
   "id": "22b69b83",
   "metadata": {},
   "source": [
    "## Outliers"
   ]
  },
  {
   "cell_type": "code",
   "execution_count": 59,
   "id": "99d2db00",
   "metadata": {},
   "outputs": [],
   "source": [
    "from sklearn.preprocessing import PowerTransformer\n"
   ]
  },
  {
   "cell_type": "code",
   "execution_count": 60,
   "id": "751def84",
   "metadata": {},
   "outputs": [],
   "source": [
    "# before applying power transformation"
   ]
  },
  {
   "cell_type": "code",
   "execution_count": 61,
   "id": "7d04996f",
   "metadata": {},
   "outputs": [
    {
     "data": {
      "text/plain": [
       "Index(['Vehicle_Age', 'IDV', 'TPPD_Statutory_Cover_only', 'Date_Accident_Loss', 'Date_Claim_Intimation', 'Date_Disbursement', 'OD_Total_Loss', 'DRV_CLAIM_AMT', '_AntiTheft', 'No_Claim_Bonus', 'Net_OD_Premium'], dtype='object')"
      ]
     },
     "execution_count": 61,
     "metadata": {},
     "output_type": "execute_result"
    }
   ],
   "source": [
    "df_num.columns"
   ]
  },
  {
   "cell_type": "code",
   "execution_count": 62,
   "id": "11e6f658",
   "metadata": {},
   "outputs": [],
   "source": [
    "list1=['Vehicle_Age', 'IDV', 'TPPD_Statutory_Cover_only', 'OD_Total_Loss', 'DRV_CLAIM_AMT', '_AntiTheft', 'No_Claim_Bonus',\n",
    "       'Net_OD_Premium']\n"
   ]
  },
  {
   "cell_type": "code",
   "execution_count": 63,
   "id": "7463a397",
   "metadata": {},
   "outputs": [
    {
     "data": {
      "image/png": "[encoded data removed]",
      "text/plain": [
       "<Figure size 1080x720 with 9 Axes>"
      ]
     },
     "metadata": {
      "needs_background": "light"
     },
     "output_type": "display_data"
    }
   ],
   "source": [
    "df[['Vehicle_Age', 'IDV', 'TPPD_Statutory_Cover_only', 'OD_Total_Loss', 'DRV_CLAIM_AMT', '_AntiTheft', 'No_Claim_Bonus',\n",
    "       'Net_OD_Premium']].hist()\n",
    "plt.tight_layout()\n",
    "plt.show()\n"
   ]
  },
  {
   "cell_type": "code",
   "execution_count": 64,
   "id": "11027e75",
   "metadata": {},
   "outputs": [],
   "source": [
    "df['PT_Veh_Age'] =PowerTransformer(method='yeo-johnson').fit_transform(df['Vehicle_Age'].values.reshape(-1,1))\n",
    "df['PT_IDV'] =PowerTransformer(method='yeo-johnson').fit_transform(df['IDV'].values.reshape(-1,1))\n",
    "df['PT_Stat_Cover'] =PowerTransformer(method='yeo-johnson').fit_transform(df['TPPD_Statutory_Cover_only'].values.reshape(-1,1))\n",
    "df['PT_OD_Loss'] =PowerTransformer(method='yeo-johnson').fit_transform(df['OD_Total_Loss'].values.reshape(-1,1))\n",
    "df['PT_DRV_CLM_AMT'] =PowerTransformer(method='yeo-johnson').fit_transform(df['DRV_CLAIM_AMT'].values.reshape(-1,1))\n",
    "df['PT_No_Claim_Bonus'] =PowerTransformer(method='yeo-johnson').fit_transform(df['No_Claim_Bonus'].values.reshape(-1,1))\n",
    "df['PT_Net_OD_Premium'] =PowerTransformer(method='yeo-johnson').fit_transform(df['Net_OD_Premium'].values.reshape(-1,1))\n"
   ]
  },
  {
   "cell_type": "code",
   "execution_count": 65,
   "id": "ca7cd42f",
   "metadata": {},
   "outputs": [],
   "source": [
    "# after transformation"
   ]
  },
  {
   "cell_type": "code",
   "execution_count": 66,
   "id": "7245e6b3",
   "metadata": {},
   "outputs": [
    {
     "data": {
      "image/png": "[encoded data removed]",
      "text/plain": [
       "<Figure size 1080x720 with 9 Axes>"
      ]
     },
     "metadata": {
      "needs_background": "light"
     },
     "output_type": "display_data"
    }
   ],
   "source": [
    "df[['PT_Veh_Age','PT_IDV', 'PT_Stat_Cover', 'PT_OD_Loss', 'PT_DRV_CLM_AMT', 'PT_No_Claim_Bonus',\n",
    "       'PT_Net_OD_Premium']].hist()\n",
    "plt.tight_layout()\n",
    "plt.show()\n"
   ]
  },
  {
   "cell_type": "code",
   "execution_count": 67,
   "id": "7f84711f",
   "metadata": {},
   "outputs": [],
   "source": [
    "# statisticaltest - shapiro"
   ]
  },
  {
   "cell_type": "markdown",
   "id": "8a93b2cd",
   "metadata": {},
   "source": [
    "H0 : data is normal\n",
    "    \n",
    "Ha: data is not normal"
   ]
  },
  {
   "cell_type": "code",
   "execution_count": 68,
   "id": "9ec73a9a",
   "metadata": {},
   "outputs": [
    {
     "data": {
      "text/plain": [
       "Index(['Policy_Year', 'Endorsement', 'Location_RTA', 'Policy_Code', 'Class_Code', 'Zone_Code', 'Vehicle_Age', 'CC_PCC_GVW_Code', 'Colour_Vehicle', 'IDV', 'Permit_Code', 'Nature_Goods_Code', 'Road_Type_Code', 'Vehicle_Driven_By_Code', 'Driver_Exp_Code', 'Claims_History_Code', 'Driver_Qualification_Code', 'Incurred_Claims_Code', 'TPPD_Statutory_Cover_only', 'Claim_Year', 'Date_Accident_Loss', 'Place_Accident', 'Date_Claim_Intimation', 'TAC_NOL_Code', 'Date_Disbursement', 'OD_Total_Loss', 'DRV_CLAIM_AMT', 'DRV_CLAIM_STATUS', '_AntiTheft', 'No_Claim_Bonus', 'Net_OD_Premium', 'claim_processing_time', 'PT_Veh_Age', 'PT_IDV', 'PT_Stat_Cover', 'PT_OD_Loss', 'PT_DRV_CLM_AMT', 'PT_No_Claim_Bonus', 'PT_Net_OD_Premium'], dtype='object')"
      ]
     },
     "execution_count": 68,
     "metadata": {},
     "output_type": "execute_result"
    }
   ],
   "source": [
    "df.columns"
   ]
  },
  {
   "cell_type": "code",
   "execution_count": 69,
   "id": "b86fe03d",
   "metadata": {},
   "outputs": [
    {
     "ename": "AttributeError",
     "evalue": "'DataFrame' object has no attribute 'PT'",
     "output_type": "error",
     "traceback": [
      "\u001b[1;31m---------------------------------------------------------------------------\u001b[0m",
      "\u001b[1;31mAttributeError\u001b[0m                            Traceback (most recent call last)",
      "\u001b[1;32m~\\AppData\\Local\\Temp/ipykernel_8276/2591078426.py\u001b[0m in \u001b[0;36m<module>\u001b[1;34m\u001b[0m\n\u001b[1;32m----> 1\u001b[1;33m \u001b[0mst\u001b[0m\u001b[1;33m.\u001b[0m\u001b[0mshapiro\u001b[0m\u001b[1;33m(\u001b[0m\u001b[0mdf\u001b[0m\u001b[1;33m.\u001b[0m\u001b[0mPT\u001b[0m\u001b[1;33m)\u001b[0m\u001b[1;33m\u001b[0m\u001b[1;33m\u001b[0m\u001b[0m\n\u001b[0m",
      "\u001b[1;32m~\\anaconda3\\lib\\site-packages\\pandas\\core\\generic.py\u001b[0m in \u001b[0;36m__getattr__\u001b[1;34m(self, name)\u001b[0m\n\u001b[0;32m   5485\u001b[0m         ):\n\u001b[0;32m   5486\u001b[0m             \u001b[1;32mreturn\u001b[0m \u001b[0mself\u001b[0m\u001b[1;33m[\u001b[0m\u001b[0mname\u001b[0m\u001b[1;33m]\u001b[0m\u001b[1;33m\u001b[0m\u001b[1;33m\u001b[0m\u001b[0m\n\u001b[1;32m-> 5487\u001b[1;33m         \u001b[1;32mreturn\u001b[0m \u001b[0mobject\u001b[0m\u001b[1;33m.\u001b[0m\u001b[0m__getattribute__\u001b[0m\u001b[1;33m(\u001b[0m\u001b[0mself\u001b[0m\u001b[1;33m,\u001b[0m \u001b[0mname\u001b[0m\u001b[1;33m)\u001b[0m\u001b[1;33m\u001b[0m\u001b[1;33m\u001b[0m\u001b[0m\n\u001b[0m\u001b[0;32m   5488\u001b[0m \u001b[1;33m\u001b[0m\u001b[0m\n\u001b[0;32m   5489\u001b[0m     \u001b[1;32mdef\u001b[0m \u001b[0m__setattr__\u001b[0m\u001b[1;33m(\u001b[0m\u001b[0mself\u001b[0m\u001b[1;33m,\u001b[0m \u001b[0mname\u001b[0m\u001b[1;33m:\u001b[0m \u001b[0mstr\u001b[0m\u001b[1;33m,\u001b[0m \u001b[0mvalue\u001b[0m\u001b[1;33m)\u001b[0m \u001b[1;33m->\u001b[0m \u001b[1;32mNone\u001b[0m\u001b[1;33m:\u001b[0m\u001b[1;33m\u001b[0m\u001b[1;33m\u001b[0m\u001b[0m\n",
      "\u001b[1;31mAttributeError\u001b[0m: 'DataFrame' object has no attribute 'PT'"
     ]
    }
   ],
   "source": [
    "st.shapiro(df.PT)"
   ]
  },
  {
   "cell_type": "code",
   "execution_count": 70,
   "id": "5e4bf705",
   "metadata": {},
   "outputs": [
    {
     "data": {
      "text/plain": [
       "<function scipy.stats.stats.skew(a, axis=0, bias=True, nan_policy='propagate')>"
      ]
     },
     "execution_count": 70,
     "metadata": {},
     "output_type": "execute_result"
    }
   ],
   "source": [
    "st.skew"
   ]
  },
  {
   "cell_type": "code",
   "execution_count": 71,
   "id": "4e436e4b",
   "metadata": {},
   "outputs": [
    {
     "data": {
      "text/plain": [
       "ShapiroResult(statistic=0.9562820792198181, pvalue=0.0)"
      ]
     },
     "execution_count": 71,
     "metadata": {},
     "output_type": "execute_result"
    }
   ],
   "source": [
    "st.shapiro(df.PT_IDV)"
   ]
  },
  {
   "cell_type": "code",
   "execution_count": 72,
   "id": "299357f3",
   "metadata": {},
   "outputs": [
    {
     "data": {
      "text/plain": [
       "0.13158699612761124"
      ]
     },
     "execution_count": 72,
     "metadata": {},
     "output_type": "execute_result"
    }
   ],
   "source": [
    "st.skew(df.PT_IDV)"
   ]
  },
  {
   "cell_type": "code",
   "execution_count": 73,
   "id": "5a4608e9",
   "metadata": {},
   "outputs": [
    {
     "data": {
      "text/plain": [
       "ShapiroResult(statistic=0.09272277355194092, pvalue=0.0)"
      ]
     },
     "execution_count": 73,
     "metadata": {},
     "output_type": "execute_result"
    }
   ],
   "source": [
    "st.shapiro(df.PT_Stat_Cover)  "
   ]
  },
  {
   "cell_type": "code",
   "execution_count": 74,
   "id": "d0a3c108",
   "metadata": {},
   "outputs": [
    {
     "data": {
      "text/plain": [
       "8.243645643878681"
      ]
     },
     "execution_count": 74,
     "metadata": {},
     "output_type": "execute_result"
    }
   ],
   "source": [
    "st.skew(df.TPPD_Statutory_Cover_only)"
   ]
  },
  {
   "cell_type": "code",
   "execution_count": null,
   "id": "a9ba1583",
   "metadata": {},
   "outputs": [],
   "source": [
    "# why power transformation \n",
    "# in skewness"
   ]
  },
  {
   "cell_type": "code",
   "execution_count": null,
   "id": "65e7e2a1",
   "metadata": {},
   "outputs": [],
   "source": [
    "# scaling"
   ]
  },
  {
   "cell_type": "code",
   "execution_count": 75,
   "id": "5c2e040f",
   "metadata": {},
   "outputs": [],
   "source": [
    "from sklearn.preprocessing import StandardScaler\n",
    "sc = StandardScaler()\n"
   ]
  },
  {
   "cell_type": "code",
   "execution_count": 76,
   "id": "c92bf7e1",
   "metadata": {},
   "outputs": [],
   "source": [
    "df['sc_Veh_Age'] =sc.fit_transform(df['PT_Veh_Age'].values.reshape(-1,1))\n",
    "df['sc_IDV'] =sc.fit_transform(df['PT_IDV'].values.reshape(-1,1))\n",
    "df['sc_Stat_Cover'] =sc.fit_transform(df['PT_Stat_Cover'].values.reshape(-1,1))\n",
    "df['sc_OD_Loss'] =sc.fit_transform(df['PT_OD_Loss'].values.reshape(-1,1))\n",
    "df['sc_DRV_CLM_AMT'] =sc.fit_transform(df['PT_DRV_CLM_AMT'].values.reshape(-1,1))\n",
    "df['sc_No_Claim_Bonus'] =sc.fit_transform(df['PT_No_Claim_Bonus'].values.reshape(-1,1))\n",
    "df['sc_Net_OD_Premium'] =sc.fit_transform(df['PT_Net_OD_Premium'].values.reshape(-1,1))\n"
   ]
  },
  {
   "cell_type": "code",
   "execution_count": 77,
   "id": "88737969",
   "metadata": {},
   "outputs": [
    {
     "data": {
      "text/html": [
       "<div>\n",
       "<style scoped>\n",
       "    .dataframe tbody tr th:only-of-type {\n",
       "        vertical-align: middle;\n",
       "    }\n",
       "\n",
       "    .dataframe tbody tr th {\n",
       "        vertical-align: top;\n",
       "    }\n",
       "\n",
       "    .dataframe thead th {\n",
       "        text-align: right;\n",
       "    }\n",
       "</style>\n",
       "<table border=\"1\" class=\"dataframe\">\n",
       "  <thead>\n",
       "    <tr style=\"text-align: right;\">\n",
       "      <th></th>\n",
       "      <th>Policy_Year</th>\n",
       "      <th>Endorsement</th>\n",
       "      <th>Location_RTA</th>\n",
       "      <th>Policy_Code</th>\n",
       "      <th>Class_Code</th>\n",
       "      <th>Zone_Code</th>\n",
       "      <th>Vehicle_Age</th>\n",
       "      <th>CC_PCC_GVW_Code</th>\n",
       "      <th>Colour_Vehicle</th>\n",
       "      <th>IDV</th>\n",
       "      <th>Permit_Code</th>\n",
       "      <th>Nature_Goods_Code</th>\n",
       "      <th>Road_Type_Code</th>\n",
       "      <th>Vehicle_Driven_By_Code</th>\n",
       "      <th>Driver_Exp_Code</th>\n",
       "      <th>Claims_History_Code</th>\n",
       "      <th>Driver_Qualification_Code</th>\n",
       "      <th>Incurred_Claims_Code</th>\n",
       "      <th>TPPD_Statutory_Cover_only</th>\n",
       "      <th>Claim_Year</th>\n",
       "      <th>Date_Accident_Loss</th>\n",
       "      <th>Place_Accident</th>\n",
       "      <th>Date_Claim_Intimation</th>\n",
       "      <th>TAC_NOL_Code</th>\n",
       "      <th>Date_Disbursement</th>\n",
       "      <th>OD_Total_Loss</th>\n",
       "      <th>DRV_CLAIM_AMT</th>\n",
       "      <th>DRV_CLAIM_STATUS</th>\n",
       "      <th>_AntiTheft</th>\n",
       "      <th>No_Claim_Bonus</th>\n",
       "      <th>Net_OD_Premium</th>\n",
       "      <th>claim_processing_time</th>\n",
       "      <th>PT_Veh_Age</th>\n",
       "      <th>PT_IDV</th>\n",
       "      <th>PT_Stat_Cover</th>\n",
       "      <th>PT_OD_Loss</th>\n",
       "      <th>PT_DRV_CLM_AMT</th>\n",
       "      <th>PT_No_Claim_Bonus</th>\n",
       "      <th>PT_Net_OD_Premium</th>\n",
       "      <th>sc_Veh_Age</th>\n",
       "      <th>sc_IDV</th>\n",
       "      <th>sc_Stat_Cover</th>\n",
       "      <th>sc_OD_Loss</th>\n",
       "      <th>sc_DRV_CLM_AMT</th>\n",
       "      <th>sc_No_Claim_Bonus</th>\n",
       "      <th>sc_Net_OD_Premium</th>\n",
       "    </tr>\n",
       "  </thead>\n",
       "  <tbody>\n",
       "    <tr>\n",
       "      <th>0</th>\n",
       "      <td>2011-12</td>\n",
       "      <td>0</td>\n",
       "      <td>GOA</td>\n",
       "      <td>2</td>\n",
       "      <td>11</td>\n",
       "      <td>36</td>\n",
       "      <td>7</td>\n",
       "      <td>50</td>\n",
       "      <td>OTHER COLOR</td>\n",
       "      <td>104000.0</td>\n",
       "      <td>1</td>\n",
       "      <td>2</td>\n",
       "      <td>3</td>\n",
       "      <td>1</td>\n",
       "      <td>6</td>\n",
       "      <td>4</td>\n",
       "      <td>2</td>\n",
       "      <td>2</td>\n",
       "      <td>0</td>\n",
       "      <td>2012-13</td>\n",
       "      <td>2011-10-14</td>\n",
       "      <td>GOA</td>\n",
       "      <td>2011-10-15</td>\n",
       "      <td>59</td>\n",
       "      <td>NaT</td>\n",
       "      <td>0</td>\n",
       "      <td>0.0</td>\n",
       "      <td>REJECTED</td>\n",
       "      <td>0</td>\n",
       "      <td>0</td>\n",
       "      <td>5088</td>\n",
       "      <td>NaN</td>\n",
       "      <td>1.454822</td>\n",
       "      <td>-0.679118</td>\n",
       "      <td>-0.119571</td>\n",
       "      <td>-0.268421</td>\n",
       "      <td>-2.496671</td>\n",
       "      <td>-0.599224</td>\n",
       "      <td>0.235886</td>\n",
       "      <td>1.454822</td>\n",
       "      <td>-0.679118</td>\n",
       "      <td>-0.119571</td>\n",
       "      <td>-0.268421</td>\n",
       "      <td>-2.496671</td>\n",
       "      <td>-0.599224</td>\n",
       "      <td>0.235886</td>\n",
       "    </tr>\n",
       "    <tr>\n",
       "      <th>1</th>\n",
       "      <td>2011-12</td>\n",
       "      <td>0</td>\n",
       "      <td>AKOLA</td>\n",
       "      <td>2</td>\n",
       "      <td>11</td>\n",
       "      <td>36</td>\n",
       "      <td>7</td>\n",
       "      <td>50</td>\n",
       "      <td>OTHER COLOR</td>\n",
       "      <td>88000.0</td>\n",
       "      <td>1</td>\n",
       "      <td>2</td>\n",
       "      <td>3</td>\n",
       "      <td>1</td>\n",
       "      <td>6</td>\n",
       "      <td>2</td>\n",
       "      <td>1</td>\n",
       "      <td>5</td>\n",
       "      <td>0</td>\n",
       "      <td>2012-13</td>\n",
       "      <td>2011-10-08</td>\n",
       "      <td>AKOLA</td>\n",
       "      <td>2011-10-14</td>\n",
       "      <td>59</td>\n",
       "      <td>NaT</td>\n",
       "      <td>0</td>\n",
       "      <td>0.0</td>\n",
       "      <td>REJECTED</td>\n",
       "      <td>0</td>\n",
       "      <td>0</td>\n",
       "      <td>4712</td>\n",
       "      <td>NaN</td>\n",
       "      <td>1.454822</td>\n",
       "      <td>-0.814440</td>\n",
       "      <td>-0.119571</td>\n",
       "      <td>-0.268421</td>\n",
       "      <td>-2.496671</td>\n",
       "      <td>-0.599224</td>\n",
       "      <td>0.160604</td>\n",
       "      <td>1.454822</td>\n",
       "      <td>-0.814440</td>\n",
       "      <td>-0.119571</td>\n",
       "      <td>-0.268421</td>\n",
       "      <td>-2.496671</td>\n",
       "      <td>-0.599224</td>\n",
       "      <td>0.160604</td>\n",
       "    </tr>\n",
       "    <tr>\n",
       "      <th>2</th>\n",
       "      <td>2011-12</td>\n",
       "      <td>0</td>\n",
       "      <td>NAGPUR</td>\n",
       "      <td>2</td>\n",
       "      <td>14</td>\n",
       "      <td>36</td>\n",
       "      <td>2</td>\n",
       "      <td>47</td>\n",
       "      <td>OTHER COLOR</td>\n",
       "      <td>29850.0</td>\n",
       "      <td>1</td>\n",
       "      <td>2</td>\n",
       "      <td>3</td>\n",
       "      <td>1</td>\n",
       "      <td>1</td>\n",
       "      <td>5</td>\n",
       "      <td>2</td>\n",
       "      <td>2</td>\n",
       "      <td>0</td>\n",
       "      <td>2012-13</td>\n",
       "      <td>2011-10-12</td>\n",
       "      <td>NAGPUR</td>\n",
       "      <td>2011-10-14</td>\n",
       "      <td>59</td>\n",
       "      <td>2011-12-13</td>\n",
       "      <td>0</td>\n",
       "      <td>1876.0</td>\n",
       "      <td>CLOSED</td>\n",
       "      <td>0</td>\n",
       "      <td>0</td>\n",
       "      <td>330</td>\n",
       "      <td>60.0</td>\n",
       "      <td>0.361945</td>\n",
       "      <td>-1.653832</td>\n",
       "      <td>-0.119571</td>\n",
       "      <td>-0.268421</td>\n",
       "      <td>-0.938658</td>\n",
       "      <td>-0.599224</td>\n",
       "      <td>-1.513020</td>\n",
       "      <td>0.361945</td>\n",
       "      <td>-1.653832</td>\n",
       "      <td>-0.119571</td>\n",
       "      <td>-0.268421</td>\n",
       "      <td>-0.938658</td>\n",
       "      <td>-0.599224</td>\n",
       "      <td>-1.513020</td>\n",
       "    </tr>\n",
       "    <tr>\n",
       "      <th>3</th>\n",
       "      <td>2010-11</td>\n",
       "      <td>0</td>\n",
       "      <td>MUMBAI WEST</td>\n",
       "      <td>2</td>\n",
       "      <td>14</td>\n",
       "      <td>35</td>\n",
       "      <td>3</td>\n",
       "      <td>47</td>\n",
       "      <td>OTHER COLOR</td>\n",
       "      <td>30000.0</td>\n",
       "      <td>1</td>\n",
       "      <td>2</td>\n",
       "      <td>3</td>\n",
       "      <td>1</td>\n",
       "      <td>1</td>\n",
       "      <td>6</td>\n",
       "      <td>2</td>\n",
       "      <td>8</td>\n",
       "      <td>0</td>\n",
       "      <td>2012-13</td>\n",
       "      <td>2011-10-09</td>\n",
       "      <td>MUMBAI WEST</td>\n",
       "      <td>2011-10-14</td>\n",
       "      <td>59</td>\n",
       "      <td>2011-12-13</td>\n",
       "      <td>0</td>\n",
       "      <td>5026.0</td>\n",
       "      <td>CLOSED</td>\n",
       "      <td>0</td>\n",
       "      <td>0</td>\n",
       "      <td>405</td>\n",
       "      <td>60.0</td>\n",
       "      <td>0.707797</td>\n",
       "      <td>-1.650082</td>\n",
       "      <td>-0.119571</td>\n",
       "      <td>-0.268421</td>\n",
       "      <td>-0.517881</td>\n",
       "      <td>-0.599224</td>\n",
       "      <td>-1.432140</td>\n",
       "      <td>0.707797</td>\n",
       "      <td>-1.650082</td>\n",
       "      <td>-0.119571</td>\n",
       "      <td>-0.268421</td>\n",
       "      <td>-0.517881</td>\n",
       "      <td>-0.599224</td>\n",
       "      <td>-1.432140</td>\n",
       "    </tr>\n",
       "    <tr>\n",
       "      <th>4</th>\n",
       "      <td>2010-11</td>\n",
       "      <td>0</td>\n",
       "      <td>RANCHI</td>\n",
       "      <td>2</td>\n",
       "      <td>11</td>\n",
       "      <td>36</td>\n",
       "      <td>4</td>\n",
       "      <td>50</td>\n",
       "      <td>OTHER COLOR</td>\n",
       "      <td>143140.0</td>\n",
       "      <td>1</td>\n",
       "      <td>2</td>\n",
       "      <td>3</td>\n",
       "      <td>1</td>\n",
       "      <td>6</td>\n",
       "      <td>2</td>\n",
       "      <td>4</td>\n",
       "      <td>1</td>\n",
       "      <td>0</td>\n",
       "      <td>2012-13</td>\n",
       "      <td>2011-10-09</td>\n",
       "      <td>RANCHI</td>\n",
       "      <td>2011-10-15</td>\n",
       "      <td>59</td>\n",
       "      <td>NaT</td>\n",
       "      <td>0</td>\n",
       "      <td>0.0</td>\n",
       "      <td>REJECTED</td>\n",
       "      <td>0</td>\n",
       "      <td>0</td>\n",
       "      <td>2832</td>\n",
       "      <td>NaN</td>\n",
       "      <td>0.961089</td>\n",
       "      <td>-0.416020</td>\n",
       "      <td>-0.119571</td>\n",
       "      <td>-0.268421</td>\n",
       "      <td>-2.496671</td>\n",
       "      <td>-0.599224</td>\n",
       "      <td>-0.290563</td>\n",
       "      <td>0.961089</td>\n",
       "      <td>-0.416020</td>\n",
       "      <td>-0.119571</td>\n",
       "      <td>-0.268421</td>\n",
       "      <td>-2.496671</td>\n",
       "      <td>-0.599224</td>\n",
       "      <td>-0.290563</td>\n",
       "    </tr>\n",
       "  </tbody>\n",
       "</table>\n",
       "</div>"
      ],
      "text/plain": [
       "  Policy_Year Endorsement Location_RTA Policy_Code Class_Code Zone_Code  Vehicle_Age CC_PCC_GVW_Code Colour_Vehicle       IDV Permit_Code Nature_Goods_Code Road_Type_Code Vehicle_Driven_By_Code Driver_Exp_Code Claims_History_Code Driver_Qualification_Code Incurred_Claims_Code  TPPD_Statutory_Cover_only Claim_Year Date_Accident_Loss Place_Accident Date_Claim_Intimation TAC_NOL_Code Date_Disbursement  OD_Total_Loss  DRV_CLAIM_AMT DRV_CLAIM_STATUS  _AntiTheft  No_Claim_Bonus  Net_OD_Premium  claim_processing_time  PT_Veh_Age    PT_IDV  PT_Stat_Cover  PT_OD_Loss  PT_DRV_CLM_AMT  PT_No_Claim_Bonus  PT_Net_OD_Premium  sc_Veh_Age    sc_IDV  sc_Stat_Cover  sc_OD_Loss  sc_DRV_CLM_AMT  sc_No_Claim_Bonus  sc_Net_OD_Premium\n",
       "0     2011-12           0          GOA           2         11        36            7              50    OTHER COLOR  104000.0           1                 2              3                      1               6                   4                         2                    2                          0    2012-13         2011-10-14            GOA            2011-10-15           59               NaT              0            0.0         REJECTED           0               0            5088                    NaN    1.454822 -0.679118      -0.119571   -0.268421       -2.496671          -0.599224           0.235886    1.454822 -0.679118      -0.119571   -0.268421       -2.496671          -0.599224           0.235886\n",
       "1     2011-12           0        AKOLA           2         11        36            7              50    OTHER COLOR   88000.0           1                 2              3                      1               6                   2                         1                    5                          0    2012-13         2011-10-08          AKOLA            2011-10-14           59               NaT              0            0.0         REJECTED           0               0            4712                    NaN    1.454822 -0.814440      -0.119571   -0.268421       -2.496671          -0.599224           0.160604    1.454822 -0.814440      -0.119571   -0.268421       -2.496671          -0.599224           0.160604\n",
       "2     2011-12           0       NAGPUR           2         14        36            2              47    OTHER COLOR   29850.0           1                 2              3                      1               1                   5                         2                    2                          0    2012-13         2011-10-12         NAGPUR            2011-10-14           59        2011-12-13              0         1876.0           CLOSED           0               0             330                   60.0    0.361945 -1.653832      -0.119571   -0.268421       -0.938658          -0.599224          -1.513020    0.361945 -1.653832      -0.119571   -0.268421       -0.938658          -0.599224          -1.513020\n",
       "3     2010-11           0  MUMBAI WEST           2         14        35            3              47    OTHER COLOR   30000.0           1                 2              3                      1               1                   6                         2                    8                          0    2012-13         2011-10-09    MUMBAI WEST            2011-10-14           59        2011-12-13              0         5026.0           CLOSED           0               0             405                   60.0    0.707797 -1.650082      -0.119571   -0.268421       -0.517881          -0.599224          -1.432140    0.707797 -1.650082      -0.119571   -0.268421       -0.517881          -0.599224          -1.432140\n",
       "4     2010-11           0       RANCHI           2         11        36            4              50    OTHER COLOR  143140.0           1                 2              3                      1               6                   2                         4                    1                          0    2012-13         2011-10-09         RANCHI            2011-10-15           59               NaT              0            0.0         REJECTED           0               0            2832                    NaN    0.961089 -0.416020      -0.119571   -0.268421       -2.496671          -0.599224          -0.290563    0.961089 -0.416020      -0.119571   -0.268421       -2.496671          -0.599224          -0.290563"
      ]
     },
     "execution_count": 77,
     "metadata": {},
     "output_type": "execute_result"
    }
   ],
   "source": [
    "df.head()"
   ]
  },
  {
   "cell_type": "code",
   "execution_count": null,
   "id": "10eac779",
   "metadata": {},
   "outputs": [],
   "source": [
    "# Num columns - IDV not imp\n",
    "# cat column - policy code not imp\n"
   ]
  },
  {
   "cell_type": "markdown",
   "id": "d0789b74",
   "metadata": {},
   "source": [
    "## Encoding"
   ]
  },
  {
   "cell_type": "code",
   "execution_count": 78,
   "id": "a9376c2f",
   "metadata": {},
   "outputs": [
    {
     "data": {
      "text/plain": [
       "Policy_Year                     15\n",
       "Endorsement                      2\n",
       "Location_RTA                  5597\n",
       "Policy_Code                      5\n",
       "Class_Code                      10\n",
       "Zone_Code                        6\n",
       "CC_PCC_GVW_Code                 19\n",
       "Colour_Vehicle                 103\n",
       "Permit_Code                      5\n",
       "Nature_Goods_Code                2\n",
       "Road_Type_Code                   5\n",
       "Vehicle_Driven_By_Code           2\n",
       "Driver_Exp_Code                  6\n",
       "Claims_History_Code              6\n",
       "Driver_Qualification_Code        4\n",
       "Incurred_Claims_Code             9\n",
       "Claim_Year                      14\n",
       "Place_Accident               15552\n",
       "TAC_NOL_Code                    27\n",
       "DRV_CLAIM_STATUS                 2\n",
       "dtype: int64"
      ]
     },
     "execution_count": 78,
     "metadata": {},
     "output_type": "execute_result"
    }
   ],
   "source": [
    "df.select_dtypes(include='object').nunique()"
   ]
  },
  {
   "cell_type": "markdown",
   "id": "1645e0ae",
   "metadata": {},
   "source": [
    "- Policy_year and claim_year will be treated seperately"
   ]
  },
  {
   "cell_type": "markdown",
   "id": "4b132600",
   "metadata": {},
   "source": [
    "- We will do frequency encoding for Location_RTA, Place_Accident and Colour_Vehicle"
   ]
  },
  {
   "cell_type": "code",
   "execution_count": 79,
   "id": "5a03eb46",
   "metadata": {},
   "outputs": [],
   "source": [
    "def freq_encod(col):    \n",
    "    dic = df[col].value_counts().to_dict()\n",
    "\n",
    "    dic = {i:round(j/(len(df)),5) for i,j in dic.items()}\n",
    "\n",
    "    df[col] = df[col].map(dic)\n"
   ]
  },
  {
   "cell_type": "code",
   "execution_count": 82,
   "id": "ffc1a0b3",
   "metadata": {},
   "outputs": [],
   "source": [
    "fe = ['Location_RTA', 'Place_Accident', 'Colour_Vehicle']\n",
    "for i in fe:\n",
    "    freq_encod(i)"
   ]
  },
  {
   "cell_type": "code",
   "execution_count": 83,
   "id": "b4b726f6",
   "metadata": {},
   "outputs": [
    {
     "data": {
      "text/html": [
       "<div>\n",
       "<style scoped>\n",
       "    .dataframe tbody tr th:only-of-type {\n",
       "        vertical-align: middle;\n",
       "    }\n",
       "\n",
       "    .dataframe tbody tr th {\n",
       "        vertical-align: top;\n",
       "    }\n",
       "\n",
       "    .dataframe thead th {\n",
       "        text-align: right;\n",
       "    }\n",
       "</style>\n",
       "<table border=\"1\" class=\"dataframe\">\n",
       "  <thead>\n",
       "    <tr style=\"text-align: right;\">\n",
       "      <th></th>\n",
       "      <th>Policy_Year</th>\n",
       "      <th>Endorsement</th>\n",
       "      <th>Location_RTA</th>\n",
       "      <th>Policy_Code</th>\n",
       "      <th>Class_Code</th>\n",
       "      <th>Zone_Code</th>\n",
       "      <th>Vehicle_Age</th>\n",
       "      <th>CC_PCC_GVW_Code</th>\n",
       "      <th>Colour_Vehicle</th>\n",
       "      <th>IDV</th>\n",
       "      <th>Permit_Code</th>\n",
       "      <th>Nature_Goods_Code</th>\n",
       "      <th>Road_Type_Code</th>\n",
       "      <th>Vehicle_Driven_By_Code</th>\n",
       "      <th>Driver_Exp_Code</th>\n",
       "      <th>Claims_History_Code</th>\n",
       "      <th>Driver_Qualification_Code</th>\n",
       "      <th>Incurred_Claims_Code</th>\n",
       "      <th>TPPD_Statutory_Cover_only</th>\n",
       "      <th>Claim_Year</th>\n",
       "      <th>Date_Accident_Loss</th>\n",
       "      <th>Place_Accident</th>\n",
       "      <th>Date_Claim_Intimation</th>\n",
       "      <th>TAC_NOL_Code</th>\n",
       "      <th>Date_Disbursement</th>\n",
       "      <th>OD_Total_Loss</th>\n",
       "      <th>DRV_CLAIM_AMT</th>\n",
       "      <th>DRV_CLAIM_STATUS</th>\n",
       "      <th>_AntiTheft</th>\n",
       "      <th>No_Claim_Bonus</th>\n",
       "      <th>Net_OD_Premium</th>\n",
       "      <th>claim_processing_time</th>\n",
       "      <th>PT_Veh_Age</th>\n",
       "      <th>PT_IDV</th>\n",
       "      <th>PT_Stat_Cover</th>\n",
       "      <th>PT_OD_Loss</th>\n",
       "      <th>PT_DRV_CLM_AMT</th>\n",
       "      <th>PT_No_Claim_Bonus</th>\n",
       "      <th>PT_Net_OD_Premium</th>\n",
       "      <th>sc_Veh_Age</th>\n",
       "      <th>sc_IDV</th>\n",
       "      <th>sc_Stat_Cover</th>\n",
       "      <th>sc_OD_Loss</th>\n",
       "      <th>sc_DRV_CLM_AMT</th>\n",
       "      <th>sc_No_Claim_Bonus</th>\n",
       "      <th>sc_Net_OD_Premium</th>\n",
       "    </tr>\n",
       "  </thead>\n",
       "  <tbody>\n",
       "    <tr>\n",
       "      <th>0</th>\n",
       "      <td>2011-12</td>\n",
       "      <td>0</td>\n",
       "      <td>0.00180</td>\n",
       "      <td>2</td>\n",
       "      <td>11</td>\n",
       "      <td>36</td>\n",
       "      <td>7</td>\n",
       "      <td>50</td>\n",
       "      <td>0.86181</td>\n",
       "      <td>104000.0</td>\n",
       "      <td>1</td>\n",
       "      <td>2</td>\n",
       "      <td>3</td>\n",
       "      <td>1</td>\n",
       "      <td>6</td>\n",
       "      <td>4</td>\n",
       "      <td>2</td>\n",
       "      <td>2</td>\n",
       "      <td>0</td>\n",
       "      <td>2012-13</td>\n",
       "      <td>2011-10-14</td>\n",
       "      <td>0.00351</td>\n",
       "      <td>2011-10-15</td>\n",
       "      <td>59</td>\n",
       "      <td>NaT</td>\n",
       "      <td>0</td>\n",
       "      <td>0.0</td>\n",
       "      <td>REJECTED</td>\n",
       "      <td>0</td>\n",
       "      <td>0</td>\n",
       "      <td>5088</td>\n",
       "      <td>NaN</td>\n",
       "      <td>1.454822</td>\n",
       "      <td>-0.679118</td>\n",
       "      <td>-0.119571</td>\n",
       "      <td>-0.268421</td>\n",
       "      <td>-2.496671</td>\n",
       "      <td>-0.599224</td>\n",
       "      <td>0.235886</td>\n",
       "      <td>1.454822</td>\n",
       "      <td>-0.679118</td>\n",
       "      <td>-0.119571</td>\n",
       "      <td>-0.268421</td>\n",
       "      <td>-2.496671</td>\n",
       "      <td>-0.599224</td>\n",
       "      <td>0.235886</td>\n",
       "    </tr>\n",
       "    <tr>\n",
       "      <th>1</th>\n",
       "      <td>2011-12</td>\n",
       "      <td>0</td>\n",
       "      <td>0.00261</td>\n",
       "      <td>2</td>\n",
       "      <td>11</td>\n",
       "      <td>36</td>\n",
       "      <td>7</td>\n",
       "      <td>50</td>\n",
       "      <td>0.86181</td>\n",
       "      <td>88000.0</td>\n",
       "      <td>1</td>\n",
       "      <td>2</td>\n",
       "      <td>3</td>\n",
       "      <td>1</td>\n",
       "      <td>6</td>\n",
       "      <td>2</td>\n",
       "      <td>1</td>\n",
       "      <td>5</td>\n",
       "      <td>0</td>\n",
       "      <td>2012-13</td>\n",
       "      <td>2011-10-08</td>\n",
       "      <td>0.00122</td>\n",
       "      <td>2011-10-14</td>\n",
       "      <td>59</td>\n",
       "      <td>NaT</td>\n",
       "      <td>0</td>\n",
       "      <td>0.0</td>\n",
       "      <td>REJECTED</td>\n",
       "      <td>0</td>\n",
       "      <td>0</td>\n",
       "      <td>4712</td>\n",
       "      <td>NaN</td>\n",
       "      <td>1.454822</td>\n",
       "      <td>-0.814440</td>\n",
       "      <td>-0.119571</td>\n",
       "      <td>-0.268421</td>\n",
       "      <td>-2.496671</td>\n",
       "      <td>-0.599224</td>\n",
       "      <td>0.160604</td>\n",
       "      <td>1.454822</td>\n",
       "      <td>-0.814440</td>\n",
       "      <td>-0.119571</td>\n",
       "      <td>-0.268421</td>\n",
       "      <td>-2.496671</td>\n",
       "      <td>-0.599224</td>\n",
       "      <td>0.160604</td>\n",
       "    </tr>\n",
       "    <tr>\n",
       "      <th>2</th>\n",
       "      <td>2011-12</td>\n",
       "      <td>0</td>\n",
       "      <td>0.00713</td>\n",
       "      <td>2</td>\n",
       "      <td>14</td>\n",
       "      <td>36</td>\n",
       "      <td>2</td>\n",
       "      <td>47</td>\n",
       "      <td>0.86181</td>\n",
       "      <td>29850.0</td>\n",
       "      <td>1</td>\n",
       "      <td>2</td>\n",
       "      <td>3</td>\n",
       "      <td>1</td>\n",
       "      <td>1</td>\n",
       "      <td>5</td>\n",
       "      <td>2</td>\n",
       "      <td>2</td>\n",
       "      <td>0</td>\n",
       "      <td>2012-13</td>\n",
       "      <td>2011-10-12</td>\n",
       "      <td>0.00624</td>\n",
       "      <td>2011-10-14</td>\n",
       "      <td>59</td>\n",
       "      <td>2011-12-13</td>\n",
       "      <td>0</td>\n",
       "      <td>1876.0</td>\n",
       "      <td>CLOSED</td>\n",
       "      <td>0</td>\n",
       "      <td>0</td>\n",
       "      <td>330</td>\n",
       "      <td>60.0</td>\n",
       "      <td>0.361945</td>\n",
       "      <td>-1.653832</td>\n",
       "      <td>-0.119571</td>\n",
       "      <td>-0.268421</td>\n",
       "      <td>-0.938658</td>\n",
       "      <td>-0.599224</td>\n",
       "      <td>-1.513020</td>\n",
       "      <td>0.361945</td>\n",
       "      <td>-1.653832</td>\n",
       "      <td>-0.119571</td>\n",
       "      <td>-0.268421</td>\n",
       "      <td>-0.938658</td>\n",
       "      <td>-0.599224</td>\n",
       "      <td>-1.513020</td>\n",
       "    </tr>\n",
       "    <tr>\n",
       "      <th>3</th>\n",
       "      <td>2010-11</td>\n",
       "      <td>0</td>\n",
       "      <td>0.00586</td>\n",
       "      <td>2</td>\n",
       "      <td>14</td>\n",
       "      <td>35</td>\n",
       "      <td>3</td>\n",
       "      <td>47</td>\n",
       "      <td>0.86181</td>\n",
       "      <td>30000.0</td>\n",
       "      <td>1</td>\n",
       "      <td>2</td>\n",
       "      <td>3</td>\n",
       "      <td>1</td>\n",
       "      <td>1</td>\n",
       "      <td>6</td>\n",
       "      <td>2</td>\n",
       "      <td>8</td>\n",
       "      <td>0</td>\n",
       "      <td>2012-13</td>\n",
       "      <td>2011-10-09</td>\n",
       "      <td>0.00305</td>\n",
       "      <td>2011-10-14</td>\n",
       "      <td>59</td>\n",
       "      <td>2011-12-13</td>\n",
       "      <td>0</td>\n",
       "      <td>5026.0</td>\n",
       "      <td>CLOSED</td>\n",
       "      <td>0</td>\n",
       "      <td>0</td>\n",
       "      <td>405</td>\n",
       "      <td>60.0</td>\n",
       "      <td>0.707797</td>\n",
       "      <td>-1.650082</td>\n",
       "      <td>-0.119571</td>\n",
       "      <td>-0.268421</td>\n",
       "      <td>-0.517881</td>\n",
       "      <td>-0.599224</td>\n",
       "      <td>-1.432140</td>\n",
       "      <td>0.707797</td>\n",
       "      <td>-1.650082</td>\n",
       "      <td>-0.119571</td>\n",
       "      <td>-0.268421</td>\n",
       "      <td>-0.517881</td>\n",
       "      <td>-0.599224</td>\n",
       "      <td>-1.432140</td>\n",
       "    </tr>\n",
       "    <tr>\n",
       "      <th>4</th>\n",
       "      <td>2010-11</td>\n",
       "      <td>0</td>\n",
       "      <td>0.00513</td>\n",
       "      <td>2</td>\n",
       "      <td>11</td>\n",
       "      <td>36</td>\n",
       "      <td>4</td>\n",
       "      <td>50</td>\n",
       "      <td>0.86181</td>\n",
       "      <td>143140.0</td>\n",
       "      <td>1</td>\n",
       "      <td>2</td>\n",
       "      <td>3</td>\n",
       "      <td>1</td>\n",
       "      <td>6</td>\n",
       "      <td>2</td>\n",
       "      <td>4</td>\n",
       "      <td>1</td>\n",
       "      <td>0</td>\n",
       "      <td>2012-13</td>\n",
       "      <td>2011-10-09</td>\n",
       "      <td>0.00403</td>\n",
       "      <td>2011-10-15</td>\n",
       "      <td>59</td>\n",
       "      <td>NaT</td>\n",
       "      <td>0</td>\n",
       "      <td>0.0</td>\n",
       "      <td>REJECTED</td>\n",
       "      <td>0</td>\n",
       "      <td>0</td>\n",
       "      <td>2832</td>\n",
       "      <td>NaN</td>\n",
       "      <td>0.961089</td>\n",
       "      <td>-0.416020</td>\n",
       "      <td>-0.119571</td>\n",
       "      <td>-0.268421</td>\n",
       "      <td>-2.496671</td>\n",
       "      <td>-0.599224</td>\n",
       "      <td>-0.290563</td>\n",
       "      <td>0.961089</td>\n",
       "      <td>-0.416020</td>\n",
       "      <td>-0.119571</td>\n",
       "      <td>-0.268421</td>\n",
       "      <td>-2.496671</td>\n",
       "      <td>-0.599224</td>\n",
       "      <td>-0.290563</td>\n",
       "    </tr>\n",
       "  </tbody>\n",
       "</table>\n",
       "</div>"
      ],
      "text/plain": [
       "  Policy_Year Endorsement  Location_RTA Policy_Code Class_Code Zone_Code  Vehicle_Age CC_PCC_GVW_Code  Colour_Vehicle       IDV Permit_Code Nature_Goods_Code Road_Type_Code Vehicle_Driven_By_Code Driver_Exp_Code Claims_History_Code Driver_Qualification_Code Incurred_Claims_Code  TPPD_Statutory_Cover_only Claim_Year Date_Accident_Loss  Place_Accident Date_Claim_Intimation TAC_NOL_Code Date_Disbursement  OD_Total_Loss  DRV_CLAIM_AMT DRV_CLAIM_STATUS  _AntiTheft  No_Claim_Bonus  Net_OD_Premium  claim_processing_time  PT_Veh_Age    PT_IDV  PT_Stat_Cover  PT_OD_Loss  PT_DRV_CLM_AMT  PT_No_Claim_Bonus  PT_Net_OD_Premium  sc_Veh_Age    sc_IDV  sc_Stat_Cover  sc_OD_Loss  sc_DRV_CLM_AMT  sc_No_Claim_Bonus  sc_Net_OD_Premium\n",
       "0     2011-12           0       0.00180           2         11        36            7              50         0.86181  104000.0           1                 2              3                      1               6                   4                         2                    2                          0    2012-13         2011-10-14         0.00351            2011-10-15           59               NaT              0            0.0         REJECTED           0               0            5088                    NaN    1.454822 -0.679118      -0.119571   -0.268421       -2.496671          -0.599224           0.235886    1.454822 -0.679118      -0.119571   -0.268421       -2.496671          -0.599224           0.235886\n",
       "1     2011-12           0       0.00261           2         11        36            7              50         0.86181   88000.0           1                 2              3                      1               6                   2                         1                    5                          0    2012-13         2011-10-08         0.00122            2011-10-14           59               NaT              0            0.0         REJECTED           0               0            4712                    NaN    1.454822 -0.814440      -0.119571   -0.268421       -2.496671          -0.599224           0.160604    1.454822 -0.814440      -0.119571   -0.268421       -2.496671          -0.599224           0.160604\n",
       "2     2011-12           0       0.00713           2         14        36            2              47         0.86181   29850.0           1                 2              3                      1               1                   5                         2                    2                          0    2012-13         2011-10-12         0.00624            2011-10-14           59        2011-12-13              0         1876.0           CLOSED           0               0             330                   60.0    0.361945 -1.653832      -0.119571   -0.268421       -0.938658          -0.599224          -1.513020    0.361945 -1.653832      -0.119571   -0.268421       -0.938658          -0.599224          -1.513020\n",
       "3     2010-11           0       0.00586           2         14        35            3              47         0.86181   30000.0           1                 2              3                      1               1                   6                         2                    8                          0    2012-13         2011-10-09         0.00305            2011-10-14           59        2011-12-13              0         5026.0           CLOSED           0               0             405                   60.0    0.707797 -1.650082      -0.119571   -0.268421       -0.517881          -0.599224          -1.432140    0.707797 -1.650082      -0.119571   -0.268421       -0.517881          -0.599224          -1.432140\n",
       "4     2010-11           0       0.00513           2         11        36            4              50         0.86181  143140.0           1                 2              3                      1               6                   2                         4                    1                          0    2012-13         2011-10-09         0.00403            2011-10-15           59               NaT              0            0.0         REJECTED           0               0            2832                    NaN    0.961089 -0.416020      -0.119571   -0.268421       -2.496671          -0.599224          -0.290563    0.961089 -0.416020      -0.119571   -0.268421       -2.496671          -0.599224          -0.290563"
      ]
     },
     "execution_count": 83,
     "metadata": {},
     "output_type": "execute_result"
    }
   ],
   "source": [
    "df.head()"
   ]
  },
  {
   "cell_type": "code",
   "execution_count": 84,
   "id": "6c7f44b1",
   "metadata": {},
   "outputs": [
    {
     "data": {
      "text/plain": [
       "0.86181    64808\n",
       "0.03941     2964\n",
       "0.02859     2150\n",
       "0.01503     1130\n",
       "0.01238      931\n",
       "0.00689      518\n",
       "0.00528      397\n",
       "0.00524      394\n",
       "0.00339      255\n",
       "0.00266      200\n",
       "0.00263      198\n",
       "0.00253      190\n",
       "0.00118       89\n",
       "0.00113       85\n",
       "0.00076       57\n",
       "0.00074       56\n",
       "0.00072       54\n",
       "0.00035       52\n",
       "0.00066       50\n",
       "0.00007       45\n",
       "0.00055       41\n",
       "0.00053       40\n",
       "0.00051       38\n",
       "0.00045       34\n",
       "0.00044       33\n",
       "0.00005       32\n",
       "0.00036       27\n",
       "0.00033       25\n",
       "0.00001       24\n",
       "0.00008       24\n",
       "0.00031       23\n",
       "0.00029       22\n",
       "0.00009       21\n",
       "0.00027       20\n",
       "0.00013       20\n",
       "0.00003       20\n",
       "0.00024       18\n",
       "0.00012       18\n",
       "0.00023       17\n",
       "0.00021       16\n",
       "0.00011       16\n",
       "0.00020       15\n",
       "0.00017       13\n",
       "0.00015       11\n",
       "0.00004        9\n",
       "Name: Colour_Vehicle, dtype: int64"
      ]
     },
     "execution_count": 84,
     "metadata": {},
     "output_type": "execute_result"
    }
   ],
   "source": [
    "df['Colour_Vehicle'].value_counts()"
   ]
  },
  {
   "cell_type": "code",
   "execution_count": 85,
   "id": "7a6667b9",
   "metadata": {},
   "outputs": [],
   "source": [
    "# Encoding of Policy year and Claim year\n",
    "df['en_Policy_Year']= df['Policy_Year'].replace({'1998-99':1, '1999-00':2,'2000-01':3,'2001-02':4,'2002-03':5,'2003-04':6,'2004-05':7,\n",
    "                                                 '2005-06':8,'2006-07':9,'2007-08':10,'2008-09':11,'2009-10':12,'2010-11':13,'2011-12':14,'2012-13':15})\n"
   ]
  },
  {
   "cell_type": "code",
   "execution_count": 86,
   "id": "5c533778",
   "metadata": {},
   "outputs": [
    {
     "data": {
      "text/plain": [
       "13    48279\n",
       "14    16265\n",
       "12     8476\n",
       "11     1375\n",
       "10      353\n",
       "9       152\n",
       "8       106\n",
       "7        62\n",
       "6        51\n",
       "4        32\n",
       "5        25\n",
       "3        12\n",
       "1         7\n",
       "2         4\n",
       "15        1\n",
       "Name: en_Policy_Year, dtype: int64"
      ]
     },
     "execution_count": 86,
     "metadata": {},
     "output_type": "execute_result"
    }
   ],
   "source": [
    "df['en_Policy_Year'].value_counts()"
   ]
  },
  {
   "cell_type": "code",
   "execution_count": 87,
   "id": "3333d33e",
   "metadata": {},
   "outputs": [],
   "source": [
    "df['en_Claim_Year']= df['Claim_Year'].replace({'1998-99':1, '1999-00':2,'2000-01':3,'2001-02':4,'2002-03':5,'2003-04':6,'2004-05':7,\n",
    "                                                 '2005-06':8,'2006-07':9,'2007-08':10,'2008-09':11,'2009-10':12,'2010-11':13,'2011-12':14,'2012-13':15})\n"
   ]
  },
  {
   "cell_type": "code",
   "execution_count": 88,
   "id": "7764f901",
   "metadata": {},
   "outputs": [
    {
     "data": {
      "text/plain": [
       "14    43539\n",
       "13    25093\n",
       "15     3660\n",
       "12     2107\n",
       "11      471\n",
       "10      121\n",
       "9        79\n",
       "8        60\n",
       "7        31\n",
       "5        23\n",
       "6        11\n",
       "2         2\n",
       "4         2\n",
       "3         1\n",
       "Name: en_Claim_Year, dtype: int64"
      ]
     },
     "execution_count": 88,
     "metadata": {},
     "output_type": "execute_result"
    }
   ],
   "source": [
    "df['en_Claim_Year'].value_counts()"
   ]
  },
  {
   "cell_type": "markdown",
   "id": "ace52703",
   "metadata": {},
   "source": [
    "**Encodig for target column**"
   ]
  },
  {
   "cell_type": "code",
   "execution_count": 90,
   "id": "75b4df27",
   "metadata": {},
   "outputs": [],
   "source": [
    "df['DRV_CLAIM_STATUS'] = df['DRV_CLAIM_STATUS'].replace({'CLOSED':0,'REJECTED':1})"
   ]
  },
  {
   "cell_type": "markdown",
   "id": "2028e0c3",
   "metadata": {},
   "source": [
    "## Remove the columns that are not required- Feature Engineering"
   ]
  },
  {
   "cell_type": "code",
   "execution_count": 91,
   "id": "e1832143",
   "metadata": {},
   "outputs": [
    {
     "data": {
      "text/plain": [
       "Index(['Policy_Year', 'Endorsement', 'Location_RTA', 'Policy_Code', 'Class_Code', 'Zone_Code', 'Vehicle_Age', 'CC_PCC_GVW_Code', 'Colour_Vehicle', 'IDV', 'Permit_Code', 'Nature_Goods_Code', 'Road_Type_Code', 'Vehicle_Driven_By_Code', 'Driver_Exp_Code', 'Claims_History_Code', 'Driver_Qualification_Code', 'Incurred_Claims_Code', 'TPPD_Statutory_Cover_only', 'Claim_Year', 'Place_Accident', 'TAC_NOL_Code', 'Date_Disbursement', 'OD_Total_Loss', 'DRV_CLAIM_AMT', 'DRV_CLAIM_STATUS', '_AntiTheft', 'No_Claim_Bonus', 'Net_OD_Premium', 'claim_processing_time', 'PT_Veh_Age', 'PT_IDV', 'PT_Stat_Cover', 'PT_OD_Loss', 'PT_DRV_CLM_AMT', 'PT_No_Claim_Bonus', 'PT_Net_OD_Premium', 'sc_Veh_Age', 'sc_IDV', 'sc_Stat_Cover', 'sc_OD_Loss', 'sc_DRV_CLM_AMT', 'sc_No_Claim_Bonus', 'sc_Net_OD_Premium', 'en_Policy_Year', 'en_Claim_Year'], dtype='object')"
      ]
     },
     "execution_count": 91,
     "metadata": {},
     "output_type": "execute_result"
    }
   ],
   "source": [
    "df_new =df.drop(['Date_Accident_Loss','Date_Claim_Intimation'],axis=1)\n",
    "df_new.columns\n",
    "    "
   ]
  },
  {
   "cell_type": "markdown",
   "id": "e2ddef44",
   "metadata": {},
   "source": [
    "**Drop duplicate columns**"
   ]
  },
  {
   "cell_type": "markdown",
   "id": "c676429a",
   "metadata": {},
   "source": [
    "- We are dropping these columns as these are power transformed on which we get the scaled data"
   ]
  },
  {
   "cell_type": "code",
   "execution_count": 92,
   "id": "6aa68ddb",
   "metadata": {},
   "outputs": [],
   "source": [
    "df_new =df_new.drop(['PT_Veh_Age', 'PT_IDV', 'PT_Stat_Cover', 'PT_OD_Loss', 'PT_DRV_CLM_AMT',\n",
    " 'PT_No_Claim_Bonus', 'PT_Net_OD_Premium'],axis=1)\n"
   ]
  },
  {
   "cell_type": "markdown",
   "id": "d1e50e5c",
   "metadata": {},
   "source": [
    "- Below columns are original columns which were Power Transformed as well as sclaed.\n",
    "- Hence, dropping these columns"
   ]
  },
  {
   "cell_type": "code",
   "execution_count": 93,
   "id": "c4e52671",
   "metadata": {},
   "outputs": [],
   "source": [
    "df_new =df_new.drop(['Policy_Year','Vehicle_Age', 'IDV', 'TPPD_Statutory_Cover_only', 'OD_Total_Loss', 'DRV_CLAIM_AMT',\n",
    " 'No_Claim_Bonus', 'Net_OD_Premium','Date_Disbursement','Claim_Year'],axis=1)\n"
   ]
  },
  {
   "cell_type": "code",
   "execution_count": 94,
   "id": "5b9e6821",
   "metadata": {},
   "outputs": [
    {
     "data": {
      "text/plain": [
       "Index(['Endorsement', 'Location_RTA', 'Policy_Code', 'Class_Code', 'Zone_Code', 'CC_PCC_GVW_Code', 'Colour_Vehicle', 'Permit_Code', 'Nature_Goods_Code', 'Road_Type_Code', 'Vehicle_Driven_By_Code', 'Driver_Exp_Code', 'Claims_History_Code', 'Driver_Qualification_Code', 'Incurred_Claims_Code', 'Place_Accident', 'TAC_NOL_Code', 'DRV_CLAIM_STATUS', '_AntiTheft', 'claim_processing_time', 'sc_Veh_Age', 'sc_IDV', 'sc_Stat_Cover', 'sc_OD_Loss', 'sc_DRV_CLM_AMT', 'sc_No_Claim_Bonus', 'sc_Net_OD_Premium', 'en_Policy_Year', 'en_Claim_Year'], dtype='object')"
      ]
     },
     "execution_count": 94,
     "metadata": {},
     "output_type": "execute_result"
    }
   ],
   "source": [
    "df_new.columns"
   ]
  },
  {
   "cell_type": "code",
   "execution_count": 95,
   "id": "f69381ab",
   "metadata": {},
   "outputs": [
    {
     "data": {
      "text/html": [
       "<div>\n",
       "<style scoped>\n",
       "    .dataframe tbody tr th:only-of-type {\n",
       "        vertical-align: middle;\n",
       "    }\n",
       "\n",
       "    .dataframe tbody tr th {\n",
       "        vertical-align: top;\n",
       "    }\n",
       "\n",
       "    .dataframe thead th {\n",
       "        text-align: right;\n",
       "    }\n",
       "</style>\n",
       "<table border=\"1\" class=\"dataframe\">\n",
       "  <thead>\n",
       "    <tr style=\"text-align: right;\">\n",
       "      <th></th>\n",
       "      <th>Endorsement</th>\n",
       "      <th>Location_RTA</th>\n",
       "      <th>Policy_Code</th>\n",
       "      <th>Class_Code</th>\n",
       "      <th>Zone_Code</th>\n",
       "      <th>CC_PCC_GVW_Code</th>\n",
       "      <th>Colour_Vehicle</th>\n",
       "      <th>Permit_Code</th>\n",
       "      <th>Nature_Goods_Code</th>\n",
       "      <th>Road_Type_Code</th>\n",
       "      <th>Vehicle_Driven_By_Code</th>\n",
       "      <th>Driver_Exp_Code</th>\n",
       "      <th>Claims_History_Code</th>\n",
       "      <th>Driver_Qualification_Code</th>\n",
       "      <th>Incurred_Claims_Code</th>\n",
       "      <th>Place_Accident</th>\n",
       "      <th>TAC_NOL_Code</th>\n",
       "      <th>DRV_CLAIM_STATUS</th>\n",
       "      <th>_AntiTheft</th>\n",
       "      <th>claim_processing_time</th>\n",
       "      <th>sc_Veh_Age</th>\n",
       "      <th>sc_IDV</th>\n",
       "      <th>sc_Stat_Cover</th>\n",
       "      <th>sc_OD_Loss</th>\n",
       "      <th>sc_DRV_CLM_AMT</th>\n",
       "      <th>sc_No_Claim_Bonus</th>\n",
       "      <th>sc_Net_OD_Premium</th>\n",
       "      <th>en_Policy_Year</th>\n",
       "      <th>en_Claim_Year</th>\n",
       "    </tr>\n",
       "  </thead>\n",
       "  <tbody>\n",
       "    <tr>\n",
       "      <th>0</th>\n",
       "      <td>0</td>\n",
       "      <td>0.00180</td>\n",
       "      <td>2</td>\n",
       "      <td>11</td>\n",
       "      <td>36</td>\n",
       "      <td>50</td>\n",
       "      <td>0.86181</td>\n",
       "      <td>1</td>\n",
       "      <td>2</td>\n",
       "      <td>3</td>\n",
       "      <td>1</td>\n",
       "      <td>6</td>\n",
       "      <td>4</td>\n",
       "      <td>2</td>\n",
       "      <td>2</td>\n",
       "      <td>0.00351</td>\n",
       "      <td>59</td>\n",
       "      <td>1</td>\n",
       "      <td>0</td>\n",
       "      <td>NaN</td>\n",
       "      <td>1.454822</td>\n",
       "      <td>-0.679118</td>\n",
       "      <td>-0.119571</td>\n",
       "      <td>-0.268421</td>\n",
       "      <td>-2.496671</td>\n",
       "      <td>-0.599224</td>\n",
       "      <td>0.235886</td>\n",
       "      <td>14</td>\n",
       "      <td>15</td>\n",
       "    </tr>\n",
       "    <tr>\n",
       "      <th>1</th>\n",
       "      <td>0</td>\n",
       "      <td>0.00261</td>\n",
       "      <td>2</td>\n",
       "      <td>11</td>\n",
       "      <td>36</td>\n",
       "      <td>50</td>\n",
       "      <td>0.86181</td>\n",
       "      <td>1</td>\n",
       "      <td>2</td>\n",
       "      <td>3</td>\n",
       "      <td>1</td>\n",
       "      <td>6</td>\n",
       "      <td>2</td>\n",
       "      <td>1</td>\n",
       "      <td>5</td>\n",
       "      <td>0.00122</td>\n",
       "      <td>59</td>\n",
       "      <td>1</td>\n",
       "      <td>0</td>\n",
       "      <td>NaN</td>\n",
       "      <td>1.454822</td>\n",
       "      <td>-0.814440</td>\n",
       "      <td>-0.119571</td>\n",
       "      <td>-0.268421</td>\n",
       "      <td>-2.496671</td>\n",
       "      <td>-0.599224</td>\n",
       "      <td>0.160604</td>\n",
       "      <td>14</td>\n",
       "      <td>15</td>\n",
       "    </tr>\n",
       "    <tr>\n",
       "      <th>2</th>\n",
       "      <td>0</td>\n",
       "      <td>0.00713</td>\n",
       "      <td>2</td>\n",
       "      <td>14</td>\n",
       "      <td>36</td>\n",
       "      <td>47</td>\n",
       "      <td>0.86181</td>\n",
       "      <td>1</td>\n",
       "      <td>2</td>\n",
       "      <td>3</td>\n",
       "      <td>1</td>\n",
       "      <td>1</td>\n",
       "      <td>5</td>\n",
       "      <td>2</td>\n",
       "      <td>2</td>\n",
       "      <td>0.00624</td>\n",
       "      <td>59</td>\n",
       "      <td>0</td>\n",
       "      <td>0</td>\n",
       "      <td>60.0</td>\n",
       "      <td>0.361945</td>\n",
       "      <td>-1.653832</td>\n",
       "      <td>-0.119571</td>\n",
       "      <td>-0.268421</td>\n",
       "      <td>-0.938658</td>\n",
       "      <td>-0.599224</td>\n",
       "      <td>-1.513020</td>\n",
       "      <td>14</td>\n",
       "      <td>15</td>\n",
       "    </tr>\n",
       "    <tr>\n",
       "      <th>3</th>\n",
       "      <td>0</td>\n",
       "      <td>0.00586</td>\n",
       "      <td>2</td>\n",
       "      <td>14</td>\n",
       "      <td>35</td>\n",
       "      <td>47</td>\n",
       "      <td>0.86181</td>\n",
       "      <td>1</td>\n",
       "      <td>2</td>\n",
       "      <td>3</td>\n",
       "      <td>1</td>\n",
       "      <td>1</td>\n",
       "      <td>6</td>\n",
       "      <td>2</td>\n",
       "      <td>8</td>\n",
       "      <td>0.00305</td>\n",
       "      <td>59</td>\n",
       "      <td>0</td>\n",
       "      <td>0</td>\n",
       "      <td>60.0</td>\n",
       "      <td>0.707797</td>\n",
       "      <td>-1.650082</td>\n",
       "      <td>-0.119571</td>\n",
       "      <td>-0.268421</td>\n",
       "      <td>-0.517881</td>\n",
       "      <td>-0.599224</td>\n",
       "      <td>-1.432140</td>\n",
       "      <td>13</td>\n",
       "      <td>15</td>\n",
       "    </tr>\n",
       "    <tr>\n",
       "      <th>4</th>\n",
       "      <td>0</td>\n",
       "      <td>0.00513</td>\n",
       "      <td>2</td>\n",
       "      <td>11</td>\n",
       "      <td>36</td>\n",
       "      <td>50</td>\n",
       "      <td>0.86181</td>\n",
       "      <td>1</td>\n",
       "      <td>2</td>\n",
       "      <td>3</td>\n",
       "      <td>1</td>\n",
       "      <td>6</td>\n",
       "      <td>2</td>\n",
       "      <td>4</td>\n",
       "      <td>1</td>\n",
       "      <td>0.00403</td>\n",
       "      <td>59</td>\n",
       "      <td>1</td>\n",
       "      <td>0</td>\n",
       "      <td>NaN</td>\n",
       "      <td>0.961089</td>\n",
       "      <td>-0.416020</td>\n",
       "      <td>-0.119571</td>\n",
       "      <td>-0.268421</td>\n",
       "      <td>-2.496671</td>\n",
       "      <td>-0.599224</td>\n",
       "      <td>-0.290563</td>\n",
       "      <td>13</td>\n",
       "      <td>15</td>\n",
       "    </tr>\n",
       "  </tbody>\n",
       "</table>\n",
       "</div>"
      ],
      "text/plain": [
       "  Endorsement  Location_RTA Policy_Code Class_Code Zone_Code CC_PCC_GVW_Code  Colour_Vehicle Permit_Code Nature_Goods_Code Road_Type_Code Vehicle_Driven_By_Code Driver_Exp_Code Claims_History_Code Driver_Qualification_Code Incurred_Claims_Code  Place_Accident TAC_NOL_Code  DRV_CLAIM_STATUS  _AntiTheft  claim_processing_time  sc_Veh_Age    sc_IDV  sc_Stat_Cover  sc_OD_Loss  sc_DRV_CLM_AMT  sc_No_Claim_Bonus  sc_Net_OD_Premium  en_Policy_Year  en_Claim_Year\n",
       "0           0       0.00180           2         11        36              50         0.86181           1                 2              3                      1               6                   4                         2                    2         0.00351           59                 1           0                    NaN    1.454822 -0.679118      -0.119571   -0.268421       -2.496671          -0.599224           0.235886              14             15\n",
       "1           0       0.00261           2         11        36              50         0.86181           1                 2              3                      1               6                   2                         1                    5         0.00122           59                 1           0                    NaN    1.454822 -0.814440      -0.119571   -0.268421       -2.496671          -0.599224           0.160604              14             15\n",
       "2           0       0.00713           2         14        36              47         0.86181           1                 2              3                      1               1                   5                         2                    2         0.00624           59                 0           0                   60.0    0.361945 -1.653832      -0.119571   -0.268421       -0.938658          -0.599224          -1.513020              14             15\n",
       "3           0       0.00586           2         14        35              47         0.86181           1                 2              3                      1               1                   6                         2                    8         0.00305           59                 0           0                   60.0    0.707797 -1.650082      -0.119571   -0.268421       -0.517881          -0.599224          -1.432140              13             15\n",
       "4           0       0.00513           2         11        36              50         0.86181           1                 2              3                      1               6                   2                         4                    1         0.00403           59                 1           0                    NaN    0.961089 -0.416020      -0.119571   -0.268421       -2.496671          -0.599224          -0.290563              13             15"
      ]
     },
     "execution_count": 95,
     "metadata": {},
     "output_type": "execute_result"
    }
   ],
   "source": [
    "df_new.head()"
   ]
  },
  {
   "cell_type": "markdown",
   "id": "9ae4010a",
   "metadata": {},
   "source": [
    "## Clustering"
   ]
  },
  {
   "cell_type": "code",
   "execution_count": 96,
   "id": "76251779",
   "metadata": {},
   "outputs": [
    {
     "name": "stdout",
     "output_type": "stream",
     "text": [
      "<class 'pandas.core.frame.DataFrame'>\n",
      "RangeIndex: 75200 entries, 0 to 75199\n",
      "Data columns (total 29 columns):\n",
      " #   Column                     Non-Null Count  Dtype  \n",
      "---  ------                     --------------  -----  \n",
      " 0   Endorsement                75200 non-null  object \n",
      " 1   Location_RTA               75197 non-null  float64\n",
      " 2   Policy_Code                75200 non-null  object \n",
      " 3   Class_Code                 75200 non-null  object \n",
      " 4   Zone_Code                  75200 non-null  object \n",
      " 5   CC_PCC_GVW_Code            75200 non-null  object \n",
      " 6   Colour_Vehicle             75200 non-null  float64\n",
      " 7   Permit_Code                75200 non-null  object \n",
      " 8   Nature_Goods_Code          75200 non-null  object \n",
      " 9   Road_Type_Code             75200 non-null  object \n",
      " 10  Vehicle_Driven_By_Code     75200 non-null  object \n",
      " 11  Driver_Exp_Code            75200 non-null  object \n",
      " 12  Claims_History_Code        75200 non-null  object \n",
      " 13  Driver_Qualification_Code  75200 non-null  object \n",
      " 14  Incurred_Claims_Code       75200 non-null  object \n",
      " 15  Place_Accident             75200 non-null  float64\n",
      " 16  TAC_NOL_Code               75200 non-null  object \n",
      " 17  DRV_CLAIM_STATUS           75200 non-null  int64  \n",
      " 18  _AntiTheft                 75200 non-null  int64  \n",
      " 19  claim_processing_time      71465 non-null  float64\n",
      " 20  sc_Veh_Age                 75200 non-null  float64\n",
      " 21  sc_IDV                     75200 non-null  float64\n",
      " 22  sc_Stat_Cover              75200 non-null  float64\n",
      " 23  sc_OD_Loss                 75200 non-null  float64\n",
      " 24  sc_DRV_CLM_AMT             75200 non-null  float64\n",
      " 25  sc_No_Claim_Bonus          75200 non-null  float64\n",
      " 26  sc_Net_OD_Premium          75200 non-null  float64\n",
      " 27  en_Policy_Year             75200 non-null  int64  \n",
      " 28  en_Claim_Year              75200 non-null  int64  \n",
      "dtypes: float64(11), int64(4), object(14)\n",
      "memory usage: 16.6+ MB\n"
     ]
    }
   ],
   "source": [
    "df_new.info()"
   ]
  },
  {
   "cell_type": "code",
   "execution_count": 97,
   "id": "39f8ca7d",
   "metadata": {},
   "outputs": [
    {
     "data": {
      "image/png": "[encoded data removed]",
      "text/plain": [
       "<Figure size 864x432 with 2 Axes>"
      ]
     },
     "metadata": {
      "needs_background": "light"
     },
     "output_type": "display_data"
    }
   ],
   "source": [
    "plt.figure(figsize=(12,6))\n",
    "sns.heatmap(df_new.corr(),cmap='plasma',fmt='.2g',annot=True,mask=np.triu(df_new.corr(),+1))\n",
    "plt.show()\n"
   ]
  },
  {
   "cell_type": "markdown",
   "id": "dc57d03b",
   "metadata": {},
   "source": [
    "**Remove the dependent variable**"
   ]
  },
  {
   "cell_type": "code",
   "execution_count": 98,
   "id": "bdaf8c3e",
   "metadata": {},
   "outputs": [],
   "source": [
    "df_new =df_new.drop(['DRV_CLAIM_STATUS'],axis=1)\n"
   ]
  },
  {
   "cell_type": "code",
   "execution_count": 99,
   "id": "8374b9ca",
   "metadata": {},
   "outputs": [],
   "source": [
    "df_new =df_new.drop(['claim_processing_time'],axis=1)\n"
   ]
  },
  {
   "cell_type": "code",
   "execution_count": 100,
   "id": "166a25cf",
   "metadata": {},
   "outputs": [
    {
     "name": "stdout",
     "output_type": "stream",
     "text": [
      "<class 'pandas.core.frame.DataFrame'>\n",
      "RangeIndex: 75200 entries, 0 to 75199\n",
      "Data columns (total 27 columns):\n",
      " #   Column                     Non-Null Count  Dtype  \n",
      "---  ------                     --------------  -----  \n",
      " 0   Endorsement                75200 non-null  object \n",
      " 1   Location_RTA               75197 non-null  float64\n",
      " 2   Policy_Code                75200 non-null  object \n",
      " 3   Class_Code                 75200 non-null  object \n",
      " 4   Zone_Code                  75200 non-null  object \n",
      " 5   CC_PCC_GVW_Code            75200 non-null  object \n",
      " 6   Colour_Vehicle             75200 non-null  float64\n",
      " 7   Permit_Code                75200 non-null  object \n",
      " 8   Nature_Goods_Code          75200 non-null  object \n",
      " 9   Road_Type_Code             75200 non-null  object \n",
      " 10  Vehicle_Driven_By_Code     75200 non-null  object \n",
      " 11  Driver_Exp_Code            75200 non-null  object \n",
      " 12  Claims_History_Code        75200 non-null  object \n",
      " 13  Driver_Qualification_Code  75200 non-null  object \n",
      " 14  Incurred_Claims_Code       75200 non-null  object \n",
      " 15  Place_Accident             75200 non-null  float64\n",
      " 16  TAC_NOL_Code               75200 non-null  object \n",
      " 17  _AntiTheft                 75200 non-null  int64  \n",
      " 18  sc_Veh_Age                 75200 non-null  float64\n",
      " 19  sc_IDV                     75200 non-null  float64\n",
      " 20  sc_Stat_Cover              75200 non-null  float64\n",
      " 21  sc_OD_Loss                 75200 non-null  float64\n",
      " 22  sc_DRV_CLM_AMT             75200 non-null  float64\n",
      " 23  sc_No_Claim_Bonus          75200 non-null  float64\n",
      " 24  sc_Net_OD_Premium          75200 non-null  float64\n",
      " 25  en_Policy_Year             75200 non-null  int64  \n",
      " 26  en_Claim_Year              75200 non-null  int64  \n",
      "dtypes: float64(10), int64(3), object(14)\n",
      "memory usage: 15.5+ MB\n"
     ]
    }
   ],
   "source": [
    "df_new.info()"
   ]
  },
  {
   "cell_type": "markdown",
   "id": "203ba107",
   "metadata": {},
   "source": [
    "**Missing values-columns-Location RTA**"
   ]
  },
  {
   "cell_type": "code",
   "execution_count": 101,
   "id": "4d992939",
   "metadata": {},
   "outputs": [],
   "source": [
    "df_new.fillna(999,inplace=True)"
   ]
  },
  {
   "cell_type": "code",
   "execution_count": 103,
   "id": "2f46def6",
   "metadata": {},
   "outputs": [
    {
     "data": {
      "text/html": [
       "<div>\n",
       "<style scoped>\n",
       "    .dataframe tbody tr th:only-of-type {\n",
       "        vertical-align: middle;\n",
       "    }\n",
       "\n",
       "    .dataframe tbody tr th {\n",
       "        vertical-align: top;\n",
       "    }\n",
       "\n",
       "    .dataframe thead th {\n",
       "        text-align: right;\n",
       "    }\n",
       "</style>\n",
       "<table border=\"1\" class=\"dataframe\">\n",
       "  <thead>\n",
       "    <tr style=\"text-align: right;\">\n",
       "      <th></th>\n",
       "      <th>num_clusters</th>\n",
       "      <th>cluster_errors</th>\n",
       "    </tr>\n",
       "  </thead>\n",
       "  <tbody>\n",
       "    <tr>\n",
       "      <th>0</th>\n",
       "      <td>1</td>\n",
       "      <td>2.846058e+07</td>\n",
       "    </tr>\n",
       "    <tr>\n",
       "      <th>1</th>\n",
       "      <td>2</td>\n",
       "      <td>7.139983e+06</td>\n",
       "    </tr>\n",
       "    <tr>\n",
       "      <th>2</th>\n",
       "      <td>3</td>\n",
       "      <td>4.147509e+06</td>\n",
       "    </tr>\n",
       "    <tr>\n",
       "      <th>3</th>\n",
       "      <td>4</td>\n",
       "      <td>2.939815e+06</td>\n",
       "    </tr>\n",
       "    <tr>\n",
       "      <th>4</th>\n",
       "      <td>5</td>\n",
       "      <td>2.613591e+06</td>\n",
       "    </tr>\n",
       "    <tr>\n",
       "      <th>5</th>\n",
       "      <td>6</td>\n",
       "      <td>2.358333e+06</td>\n",
       "    </tr>\n",
       "    <tr>\n",
       "      <th>6</th>\n",
       "      <td>7</td>\n",
       "      <td>2.143470e+06</td>\n",
       "    </tr>\n",
       "    <tr>\n",
       "      <th>7</th>\n",
       "      <td>8</td>\n",
       "      <td>1.976424e+06</td>\n",
       "    </tr>\n",
       "    <tr>\n",
       "      <th>8</th>\n",
       "      <td>9</td>\n",
       "      <td>1.868835e+06</td>\n",
       "    </tr>\n",
       "    <tr>\n",
       "      <th>9</th>\n",
       "      <td>10</td>\n",
       "      <td>1.767900e+06</td>\n",
       "    </tr>\n",
       "  </tbody>\n",
       "</table>\n",
       "</div>"
      ],
      "text/plain": [
       "   num_clusters  cluster_errors\n",
       "0             1    2.846058e+07\n",
       "1             2    7.139983e+06\n",
       "2             3    4.147509e+06\n",
       "3             4    2.939815e+06\n",
       "4             5    2.613591e+06\n",
       "5             6    2.358333e+06\n",
       "6             7    2.143470e+06\n",
       "7             8    1.976424e+06\n",
       "8             9    1.868835e+06\n",
       "9            10    1.767900e+06"
      ]
     },
     "execution_count": 103,
     "metadata": {},
     "output_type": "execute_result"
    }
   ],
   "source": [
    "from sklearn.cluster import KMeans\n",
    "\n",
    "cluster_range = range( 1, 11 )\n",
    "cluster_errors = []\n",
    "for num_clusters in cluster_range:\n",
    "  clusters = KMeans( num_clusters,n_init = 15, random_state=2)\n",
    "  clusters.fit(df_new)\n",
    "  labels = clusters.labels_\n",
    "  centroids = clusters.cluster_centers_\n",
    "  cluster_errors.append( clusters.inertia_ )\n",
    "clusters_df = pd.DataFrame( { \"num_clusters\":cluster_range, \"cluster_errors\": cluster_errors } )\n",
    "clusters_df[0:15]\n"
   ]
  },
  {
   "cell_type": "code",
   "execution_count": 104,
   "id": "8bcd1950",
   "metadata": {},
   "outputs": [
    {
     "data": {
      "text/plain": [
       "[<matplotlib.lines.Line2D at 0x16e349f34c0>]"
      ]
     },
     "execution_count": 104,
     "metadata": {},
     "output_type": "execute_result"
    },
    {
     "data": {
      "image/png": "[encoded data removed]",
      "text/plain": [
       "<Figure size 864x432 with 1 Axes>"
      ]
     },
     "metadata": {
      "needs_background": "light"
     },
     "output_type": "display_data"
    }
   ],
   "source": [
    "# Elbow plot\n",
    "\n",
    "plt.figure(figsize=(12,6))\n",
    "plt.plot( clusters_df.num_clusters, clusters_df.cluster_errors, marker = \"o\" )\n"
   ]
  },
  {
   "cell_type": "markdown",
   "id": "bdec08b7",
   "metadata": {},
   "source": [
    "k = 3 will the optimal number of clusters that can be considered"
   ]
  },
  {
   "cell_type": "markdown",
   "id": "8660d7e0",
   "metadata": {},
   "source": [
    "**Silhoutte Score**- it is used to determine the quality of the cluster"
   ]
  },
  {
   "cell_type": "code",
   "execution_count": 105,
   "id": "c2833498",
   "metadata": {},
   "outputs": [],
   "source": [
    "from sklearn.metrics import silhouette_score, silhouette_samples\n"
   ]
  },
  {
   "cell_type": "code",
   "execution_count": 106,
   "id": "2247abef",
   "metadata": {},
   "outputs": [
    {
     "name": "stdout",
     "output_type": "stream",
     "text": [
      "For 2 clusters the silhouette score is 0.8077012273280768)\n",
      "For 3 clusters the silhouette score is 0.8081849835726194)\n",
      "For 4 clusters the silhouette score is 0.46741840643772464)\n",
      "For 5 clusters the silhouette score is 0.2847655005856704)\n"
     ]
    }
   ],
   "source": [
    "# create a list for different values of K\n",
    "n_clusters = [2, 3, 4, 5,]\n",
    "\n",
    "# use 'for' loop to build the clusters\n",
    "# 'random_state' returns the same sample each time you run the code  \n",
    "# fit and predict on the scaled data\n",
    "# 'silhouette_score' function computes the silhouette score for each K\n",
    "for K in n_clusters:\n",
    "    cluster = KMeans (n_clusters= K, random_state= 10)\n",
    "    predict = cluster.fit_predict(df_new)\n",
    "    score = silhouette_score(df_new, predict, random_state= 10)\n",
    "    print (\"For {} clusters the silhouette score is {})\".format(K, score))\n"
   ]
  },
  {
   "cell_type": "markdown",
   "id": "c79b8a64",
   "metadata": {},
   "source": [
    "**Visualisation of Silhoutte Score**"
   ]
  },
  {
   "cell_type": "code",
   "execution_count": 110,
   "id": "f3c70db8",
   "metadata": {},
   "outputs": [
    {
     "name": "stdout",
     "output_type": "stream",
     "text": [
      "Collecting yellowbrick\n",
      "  Downloading yellowbrick-1.5-py3-none-any.whl (282 kB)\n",
      "Requirement already satisfied: scipy>=1.0.0 in c:\\users\\sneha\\anaconda3\\lib\\site-packages (from yellowbrick) (1.7.1)\n",
      "Requirement already satisfied: matplotlib!=3.0.0,>=2.0.2 in c:\\users\\sneha\\anaconda3\\lib\\site-packages (from yellowbrick) (3.4.3)\n",
      "Requirement already satisfied: scikit-learn>=1.0.0 in c:\\users\\sneha\\anaconda3\\lib\\site-packages (from yellowbrick) (1.1.3)\n",
      "Requirement already satisfied: cycler>=0.10.0 in c:\\users\\sneha\\anaconda3\\lib\\site-packages (from yellowbrick) (0.10.0)\n",
      "Requirement already satisfied: numpy>=1.16.0 in c:\\users\\sneha\\anaconda3\\lib\\site-packages (from yellowbrick) (1.20.3)\n",
      "Requirement already satisfied: six in c:\\users\\sneha\\anaconda3\\lib\\site-packages (from cycler>=0.10.0->yellowbrick) (1.16.0)\n",
      "Requirement already satisfied: pillow>=6.2.0 in c:\\users\\sneha\\anaconda3\\lib\\site-packages (from matplotlib!=3.0.0,>=2.0.2->yellowbrick) (8.4.0)\n",
      "Requirement already satisfied: pyparsing>=2.2.1 in c:\\users\\sneha\\anaconda3\\lib\\site-packages (from matplotlib!=3.0.0,>=2.0.2->yellowbrick) (3.0.4)\n",
      "Requirement already satisfied: python-dateutil>=2.7 in c:\\users\\sneha\\anaconda3\\lib\\site-packages (from matplotlib!=3.0.0,>=2.0.2->yellowbrick) (2.8.2)\n",
      "Requirement already satisfied: kiwisolver>=1.0.1 in c:\\users\\sneha\\anaconda3\\lib\\site-packages (from matplotlib!=3.0.0,>=2.0.2->yellowbrick) (1.3.1)\n",
      "Requirement already satisfied: threadpoolctl>=2.0.0 in c:\\users\\sneha\\anaconda3\\lib\\site-packages (from scikit-learn>=1.0.0->yellowbrick) (2.2.0)\n",
      "Requirement already satisfied: joblib>=1.0.0 in c:\\users\\sneha\\anaconda3\\lib\\site-packages (from scikit-learn>=1.0.0->yellowbrick) (1.1.0)\n",
      "Installing collected packages: yellowbrick\n",
      "Successfully installed yellowbrick-1.5\n"
     ]
    }
   ],
   "source": [
    "! pip install yellowbrick"
   ]
  },
  {
   "cell_type": "code",
   "execution_count": 111,
   "id": "871f1572",
   "metadata": {},
   "outputs": [],
   "source": [
    "from yellowbrick.cluster import SilhouetteVisualizer\n"
   ]
  },
  {
   "cell_type": "code",
   "execution_count": 108,
   "id": "b9429049",
   "metadata": {},
   "outputs": [],
   "source": [
    "from sklearn.metrics import silhouette_score\n"
   ]
  },
  {
   "cell_type": "code",
   "execution_count": 109,
   "id": "1be5793f",
   "metadata": {},
   "outputs": [],
   "source": [
    "# for i in range(2,7):\n",
    "#   kms=KMeans(n_clusters=i)\n",
    "#   kms.fit(df_new)\n",
    "#   model = KMeans(n_clusters=i, random_state=42)\n",
    "#   visualizer = SilhouetteVisualizer(model, colors='yellowbrick')\n",
    "#   visualizer.fit(df_new)        # Fit the data to the visualizer\n",
    "#   visualizer.show()        # Finalize and render the figure\n"
   ]
  },
  {
   "cell_type": "markdown",
   "id": "8b52ceb5",
   "metadata": {},
   "source": [
    "**Optimal Number of Clusters**"
   ]
  },
  {
   "cell_type": "code",
   "execution_count": 112,
   "id": "2eea71d6",
   "metadata": {},
   "outputs": [
    {
     "data": {
      "text/html": [
       "<style>#sk-container-id-1 {color: black;background-color: white;}#sk-container-id-1 pre{padding: 0;}#sk-container-id-1 div.sk-toggleable {background-color: white;}#sk-container-id-1 label.sk-toggleable__label {cursor: pointer;display: block;width: 100%;margin-bottom: 0;padding: 0.3em;box-sizing: border-box;text-align: center;}#sk-container-id-1 label.sk-toggleable__label-arrow:before {content: \"▸\";float: left;margin-right: 0.25em;color: #696969;}#sk-container-id-1 label.sk-toggleable__label-arrow:hover:before {color: black;}#sk-container-id-1 div.sk-estimator:hover label.sk-toggleable__label-arrow:before {color: black;}#sk-container-id-1 div.sk-toggleable__content {max-height: 0;max-width: 0;overflow: hidden;text-align: left;background-color: #f0f8ff;}#sk-container-id-1 div.sk-toggleable__content pre {margin: 0.2em;color: black;border-radius: 0.25em;background-color: #f0f8ff;}#sk-container-id-1 input.sk-toggleable__control:checked~div.sk-toggleable__content {max-height: 200px;max-width: 100%;overflow: auto;}#sk-container-id-1 input.sk-toggleable__control:checked~label.sk-toggleable__label-arrow:before {content: \"▾\";}#sk-container-id-1 div.sk-estimator input.sk-toggleable__control:checked~label.sk-toggleable__label {background-color: #d4ebff;}#sk-container-id-1 div.sk-label input.sk-toggleable__control:checked~label.sk-toggleable__label {background-color: #d4ebff;}#sk-container-id-1 input.sk-hidden--visually {border: 0;clip: rect(1px 1px 1px 1px);clip: rect(1px, 1px, 1px, 1px);height: 1px;margin: -1px;overflow: hidden;padding: 0;position: absolute;width: 1px;}#sk-container-id-1 div.sk-estimator {font-family: monospace;background-color: #f0f8ff;border: 1px dotted black;border-radius: 0.25em;box-sizing: border-box;margin-bottom: 0.5em;}#sk-container-id-1 div.sk-estimator:hover {background-color: #d4ebff;}#sk-container-id-1 div.sk-parallel-item::after {content: \"\";width: 100%;border-bottom: 1px solid gray;flex-grow: 1;}#sk-container-id-1 div.sk-label:hover label.sk-toggleable__label {background-color: #d4ebff;}#sk-container-id-1 div.sk-serial::before {content: \"\";position: absolute;border-left: 1px solid gray;box-sizing: border-box;top: 0;bottom: 0;left: 50%;z-index: 0;}#sk-container-id-1 div.sk-serial {display: flex;flex-direction: column;align-items: center;background-color: white;padding-right: 0.2em;padding-left: 0.2em;position: relative;}#sk-container-id-1 div.sk-item {position: relative;z-index: 1;}#sk-container-id-1 div.sk-parallel {display: flex;align-items: stretch;justify-content: center;background-color: white;position: relative;}#sk-container-id-1 div.sk-item::before, #sk-container-id-1 div.sk-parallel-item::before {content: \"\";position: absolute;border-left: 1px solid gray;box-sizing: border-box;top: 0;bottom: 0;left: 50%;z-index: -1;}#sk-container-id-1 div.sk-parallel-item {display: flex;flex-direction: column;z-index: 1;position: relative;background-color: white;}#sk-container-id-1 div.sk-parallel-item:first-child::after {align-self: flex-end;width: 50%;}#sk-container-id-1 div.sk-parallel-item:last-child::after {align-self: flex-start;width: 50%;}#sk-container-id-1 div.sk-parallel-item:only-child::after {width: 0;}#sk-container-id-1 div.sk-dashed-wrapped {border: 1px dashed gray;margin: 0 0.4em 0.5em 0.4em;box-sizing: border-box;padding-bottom: 0.4em;background-color: white;}#sk-container-id-1 div.sk-label label {font-family: monospace;font-weight: bold;display: inline-block;line-height: 1.2em;}#sk-container-id-1 div.sk-label-container {text-align: center;}#sk-container-id-1 div.sk-container {/* jupyter's `normalize.less` sets `[hidden] { display: none; }` but bootstrap.min.css set `[hidden] { display: none !important; }` so we also need the `!important` here to be able to override the default hidden behavior on the sphinx rendered scikit-learn.org. See: https://github.com/scikit-learn/scikit-learn/issues/21755 */display: inline-block !important;position: relative;}#sk-container-id-1 div.sk-text-repr-fallback {display: none;}</style><div id=\"sk-container-id-1\" class=\"sk-top-container\"><div class=\"sk-text-repr-fallback\"><pre>KMeans(n_clusters=3, n_init=15, random_state=2)</pre><b>In a Jupyter environment, please rerun this cell to show the HTML representation or trust the notebook. <br />On GitHub, the HTML representation is unable to render, please try loading this page with nbviewer.org.</b></div><div class=\"sk-container\" hidden><div class=\"sk-item\"><div class=\"sk-estimator sk-toggleable\"><input class=\"sk-toggleable__control sk-hidden--visually\" id=\"sk-estimator-id-1\" type=\"checkbox\" checked><label for=\"sk-estimator-id-1\" class=\"sk-toggleable__label sk-toggleable__label-arrow\">KMeans</label><div class=\"sk-toggleable__content\"><pre>KMeans(n_clusters=3, n_init=15, random_state=2)</pre></div></div></div></div></div>"
      ],
      "text/plain": [
       "KMeans(n_clusters=3, n_init=15, random_state=2)"
      ]
     },
     "execution_count": 112,
     "metadata": {},
     "output_type": "execute_result"
    }
   ],
   "source": [
    "kmeans = KMeans(n_clusters=3, n_init = 15, random_state=2)\n",
    "kmeans.fit(df_new)\n"
   ]
  },
  {
   "cell_type": "code",
   "execution_count": 113,
   "id": "f12ae84c",
   "metadata": {},
   "outputs": [],
   "source": [
    "## creating a new dataframe only for labels and converting it into categorical variable\n",
    "df_labels = pd.DataFrame(kmeans.labels_ , columns = list(['labels']))\n",
    "\n",
    "df_labels['labels'] = df_labels['labels'].astype('category')\n"
   ]
  },
  {
   "cell_type": "code",
   "execution_count": 114,
   "id": "47f58cca",
   "metadata": {},
   "outputs": [],
   "source": [
    "df_insurance = df.copy()"
   ]
  },
  {
   "cell_type": "code",
   "execution_count": 115,
   "id": "756188cc",
   "metadata": {},
   "outputs": [],
   "source": [
    "df_new_clusters = df_insurance.join(df_labels)\n"
   ]
  },
  {
   "cell_type": "code",
   "execution_count": 116,
   "id": "31e6dd36",
   "metadata": {},
   "outputs": [
    {
     "data": {
      "text/plain": [
       "Index(['Policy_Year', 'Endorsement', 'Location_RTA', 'Policy_Code', 'Class_Code', 'Zone_Code', 'Vehicle_Age', 'CC_PCC_GVW_Code', 'Colour_Vehicle', 'IDV', 'Permit_Code', 'Nature_Goods_Code', 'Road_Type_Code', 'Vehicle_Driven_By_Code', 'Driver_Exp_Code', 'Claims_History_Code', 'Driver_Qualification_Code', 'Incurred_Claims_Code', 'TPPD_Statutory_Cover_only', 'Claim_Year', 'Date_Accident_Loss', 'Place_Accident', 'Date_Claim_Intimation', 'TAC_NOL_Code', 'Date_Disbursement', 'OD_Total_Loss', 'DRV_CLAIM_AMT', 'DRV_CLAIM_STATUS', '_AntiTheft', 'No_Claim_Bonus', 'Net_OD_Premium', 'claim_processing_time', 'PT_Veh_Age', 'PT_IDV', 'PT_Stat_Cover', 'PT_OD_Loss', 'PT_DRV_CLM_AMT', 'PT_No_Claim_Bonus', 'PT_Net_OD_Premium', 'sc_Veh_Age', 'sc_IDV', 'sc_Stat_Cover', 'sc_OD_Loss', 'sc_DRV_CLM_AMT', 'sc_No_Claim_Bonus', 'sc_Net_OD_Premium', 'en_Policy_Year', 'en_Claim_Year', 'labels'], dtype='object')"
      ]
     },
     "execution_count": 116,
     "metadata": {},
     "output_type": "execute_result"
    }
   ],
   "source": [
    "df_new_clusters.columns\n"
   ]
  },
  {
   "cell_type": "code",
   "execution_count": 117,
   "id": "a0aecd73",
   "metadata": {},
   "outputs": [
    {
     "data": {
      "text/html": [
       "<div>\n",
       "<style scoped>\n",
       "    .dataframe tbody tr th:only-of-type {\n",
       "        vertical-align: middle;\n",
       "    }\n",
       "\n",
       "    .dataframe tbody tr th {\n",
       "        vertical-align: top;\n",
       "    }\n",
       "\n",
       "    .dataframe thead th {\n",
       "        text-align: right;\n",
       "    }\n",
       "</style>\n",
       "<table border=\"1\" class=\"dataframe\">\n",
       "  <thead>\n",
       "    <tr style=\"text-align: right;\">\n",
       "      <th></th>\n",
       "      <th>Policy_Year</th>\n",
       "      <th>Endorsement</th>\n",
       "      <th>Location_RTA</th>\n",
       "      <th>Policy_Code</th>\n",
       "      <th>Class_Code</th>\n",
       "      <th>Zone_Code</th>\n",
       "      <th>Vehicle_Age</th>\n",
       "      <th>CC_PCC_GVW_Code</th>\n",
       "      <th>Colour_Vehicle</th>\n",
       "      <th>IDV</th>\n",
       "      <th>Permit_Code</th>\n",
       "      <th>Nature_Goods_Code</th>\n",
       "      <th>Road_Type_Code</th>\n",
       "      <th>Vehicle_Driven_By_Code</th>\n",
       "      <th>Driver_Exp_Code</th>\n",
       "      <th>Claims_History_Code</th>\n",
       "      <th>Driver_Qualification_Code</th>\n",
       "      <th>Incurred_Claims_Code</th>\n",
       "      <th>TPPD_Statutory_Cover_only</th>\n",
       "      <th>Claim_Year</th>\n",
       "      <th>Date_Accident_Loss</th>\n",
       "      <th>Place_Accident</th>\n",
       "      <th>Date_Claim_Intimation</th>\n",
       "      <th>TAC_NOL_Code</th>\n",
       "      <th>Date_Disbursement</th>\n",
       "      <th>OD_Total_Loss</th>\n",
       "      <th>DRV_CLAIM_AMT</th>\n",
       "      <th>DRV_CLAIM_STATUS</th>\n",
       "      <th>_AntiTheft</th>\n",
       "      <th>No_Claim_Bonus</th>\n",
       "      <th>Net_OD_Premium</th>\n",
       "      <th>claim_processing_time</th>\n",
       "      <th>PT_Veh_Age</th>\n",
       "      <th>PT_IDV</th>\n",
       "      <th>PT_Stat_Cover</th>\n",
       "      <th>PT_OD_Loss</th>\n",
       "      <th>PT_DRV_CLM_AMT</th>\n",
       "      <th>PT_No_Claim_Bonus</th>\n",
       "      <th>PT_Net_OD_Premium</th>\n",
       "      <th>sc_Veh_Age</th>\n",
       "      <th>sc_IDV</th>\n",
       "      <th>sc_Stat_Cover</th>\n",
       "      <th>sc_OD_Loss</th>\n",
       "      <th>sc_DRV_CLM_AMT</th>\n",
       "      <th>sc_No_Claim_Bonus</th>\n",
       "      <th>sc_Net_OD_Premium</th>\n",
       "      <th>en_Policy_Year</th>\n",
       "      <th>en_Claim_Year</th>\n",
       "      <th>labels</th>\n",
       "    </tr>\n",
       "  </thead>\n",
       "  <tbody>\n",
       "    <tr>\n",
       "      <th>0</th>\n",
       "      <td>2011-12</td>\n",
       "      <td>0</td>\n",
       "      <td>0.00180</td>\n",
       "      <td>2</td>\n",
       "      <td>11</td>\n",
       "      <td>36</td>\n",
       "      <td>7</td>\n",
       "      <td>50</td>\n",
       "      <td>0.86181</td>\n",
       "      <td>104000.0</td>\n",
       "      <td>1</td>\n",
       "      <td>2</td>\n",
       "      <td>3</td>\n",
       "      <td>1</td>\n",
       "      <td>6</td>\n",
       "      <td>4</td>\n",
       "      <td>2</td>\n",
       "      <td>2</td>\n",
       "      <td>0</td>\n",
       "      <td>2012-13</td>\n",
       "      <td>2011-10-14</td>\n",
       "      <td>0.00351</td>\n",
       "      <td>2011-10-15</td>\n",
       "      <td>59</td>\n",
       "      <td>NaT</td>\n",
       "      <td>0</td>\n",
       "      <td>0.0</td>\n",
       "      <td>1</td>\n",
       "      <td>0</td>\n",
       "      <td>0</td>\n",
       "      <td>5088</td>\n",
       "      <td>NaN</td>\n",
       "      <td>1.454822</td>\n",
       "      <td>-0.679118</td>\n",
       "      <td>-0.119571</td>\n",
       "      <td>-0.268421</td>\n",
       "      <td>-2.496671</td>\n",
       "      <td>-0.599224</td>\n",
       "      <td>0.235886</td>\n",
       "      <td>1.454822</td>\n",
       "      <td>-0.679118</td>\n",
       "      <td>-0.119571</td>\n",
       "      <td>-0.268421</td>\n",
       "      <td>-2.496671</td>\n",
       "      <td>-0.599224</td>\n",
       "      <td>0.235886</td>\n",
       "      <td>14</td>\n",
       "      <td>15</td>\n",
       "      <td>1</td>\n",
       "    </tr>\n",
       "    <tr>\n",
       "      <th>1</th>\n",
       "      <td>2011-12</td>\n",
       "      <td>0</td>\n",
       "      <td>0.00261</td>\n",
       "      <td>2</td>\n",
       "      <td>11</td>\n",
       "      <td>36</td>\n",
       "      <td>7</td>\n",
       "      <td>50</td>\n",
       "      <td>0.86181</td>\n",
       "      <td>88000.0</td>\n",
       "      <td>1</td>\n",
       "      <td>2</td>\n",
       "      <td>3</td>\n",
       "      <td>1</td>\n",
       "      <td>6</td>\n",
       "      <td>2</td>\n",
       "      <td>1</td>\n",
       "      <td>5</td>\n",
       "      <td>0</td>\n",
       "      <td>2012-13</td>\n",
       "      <td>2011-10-08</td>\n",
       "      <td>0.00122</td>\n",
       "      <td>2011-10-14</td>\n",
       "      <td>59</td>\n",
       "      <td>NaT</td>\n",
       "      <td>0</td>\n",
       "      <td>0.0</td>\n",
       "      <td>1</td>\n",
       "      <td>0</td>\n",
       "      <td>0</td>\n",
       "      <td>4712</td>\n",
       "      <td>NaN</td>\n",
       "      <td>1.454822</td>\n",
       "      <td>-0.814440</td>\n",
       "      <td>-0.119571</td>\n",
       "      <td>-0.268421</td>\n",
       "      <td>-2.496671</td>\n",
       "      <td>-0.599224</td>\n",
       "      <td>0.160604</td>\n",
       "      <td>1.454822</td>\n",
       "      <td>-0.814440</td>\n",
       "      <td>-0.119571</td>\n",
       "      <td>-0.268421</td>\n",
       "      <td>-2.496671</td>\n",
       "      <td>-0.599224</td>\n",
       "      <td>0.160604</td>\n",
       "      <td>14</td>\n",
       "      <td>15</td>\n",
       "      <td>1</td>\n",
       "    </tr>\n",
       "    <tr>\n",
       "      <th>2</th>\n",
       "      <td>2011-12</td>\n",
       "      <td>0</td>\n",
       "      <td>0.00713</td>\n",
       "      <td>2</td>\n",
       "      <td>14</td>\n",
       "      <td>36</td>\n",
       "      <td>2</td>\n",
       "      <td>47</td>\n",
       "      <td>0.86181</td>\n",
       "      <td>29850.0</td>\n",
       "      <td>1</td>\n",
       "      <td>2</td>\n",
       "      <td>3</td>\n",
       "      <td>1</td>\n",
       "      <td>1</td>\n",
       "      <td>5</td>\n",
       "      <td>2</td>\n",
       "      <td>2</td>\n",
       "      <td>0</td>\n",
       "      <td>2012-13</td>\n",
       "      <td>2011-10-12</td>\n",
       "      <td>0.00624</td>\n",
       "      <td>2011-10-14</td>\n",
       "      <td>59</td>\n",
       "      <td>2011-12-13</td>\n",
       "      <td>0</td>\n",
       "      <td>1876.0</td>\n",
       "      <td>0</td>\n",
       "      <td>0</td>\n",
       "      <td>0</td>\n",
       "      <td>330</td>\n",
       "      <td>60.0</td>\n",
       "      <td>0.361945</td>\n",
       "      <td>-1.653832</td>\n",
       "      <td>-0.119571</td>\n",
       "      <td>-0.268421</td>\n",
       "      <td>-0.938658</td>\n",
       "      <td>-0.599224</td>\n",
       "      <td>-1.513020</td>\n",
       "      <td>0.361945</td>\n",
       "      <td>-1.653832</td>\n",
       "      <td>-0.119571</td>\n",
       "      <td>-0.268421</td>\n",
       "      <td>-0.938658</td>\n",
       "      <td>-0.599224</td>\n",
       "      <td>-1.513020</td>\n",
       "      <td>14</td>\n",
       "      <td>15</td>\n",
       "      <td>1</td>\n",
       "    </tr>\n",
       "    <tr>\n",
       "      <th>3</th>\n",
       "      <td>2010-11</td>\n",
       "      <td>0</td>\n",
       "      <td>0.00586</td>\n",
       "      <td>2</td>\n",
       "      <td>14</td>\n",
       "      <td>35</td>\n",
       "      <td>3</td>\n",
       "      <td>47</td>\n",
       "      <td>0.86181</td>\n",
       "      <td>30000.0</td>\n",
       "      <td>1</td>\n",
       "      <td>2</td>\n",
       "      <td>3</td>\n",
       "      <td>1</td>\n",
       "      <td>1</td>\n",
       "      <td>6</td>\n",
       "      <td>2</td>\n",
       "      <td>8</td>\n",
       "      <td>0</td>\n",
       "      <td>2012-13</td>\n",
       "      <td>2011-10-09</td>\n",
       "      <td>0.00305</td>\n",
       "      <td>2011-10-14</td>\n",
       "      <td>59</td>\n",
       "      <td>2011-12-13</td>\n",
       "      <td>0</td>\n",
       "      <td>5026.0</td>\n",
       "      <td>0</td>\n",
       "      <td>0</td>\n",
       "      <td>0</td>\n",
       "      <td>405</td>\n",
       "      <td>60.0</td>\n",
       "      <td>0.707797</td>\n",
       "      <td>-1.650082</td>\n",
       "      <td>-0.119571</td>\n",
       "      <td>-0.268421</td>\n",
       "      <td>-0.517881</td>\n",
       "      <td>-0.599224</td>\n",
       "      <td>-1.432140</td>\n",
       "      <td>0.707797</td>\n",
       "      <td>-1.650082</td>\n",
       "      <td>-0.119571</td>\n",
       "      <td>-0.268421</td>\n",
       "      <td>-0.517881</td>\n",
       "      <td>-0.599224</td>\n",
       "      <td>-1.432140</td>\n",
       "      <td>13</td>\n",
       "      <td>15</td>\n",
       "      <td>1</td>\n",
       "    </tr>\n",
       "    <tr>\n",
       "      <th>4</th>\n",
       "      <td>2010-11</td>\n",
       "      <td>0</td>\n",
       "      <td>0.00513</td>\n",
       "      <td>2</td>\n",
       "      <td>11</td>\n",
       "      <td>36</td>\n",
       "      <td>4</td>\n",
       "      <td>50</td>\n",
       "      <td>0.86181</td>\n",
       "      <td>143140.0</td>\n",
       "      <td>1</td>\n",
       "      <td>2</td>\n",
       "      <td>3</td>\n",
       "      <td>1</td>\n",
       "      <td>6</td>\n",
       "      <td>2</td>\n",
       "      <td>4</td>\n",
       "      <td>1</td>\n",
       "      <td>0</td>\n",
       "      <td>2012-13</td>\n",
       "      <td>2011-10-09</td>\n",
       "      <td>0.00403</td>\n",
       "      <td>2011-10-15</td>\n",
       "      <td>59</td>\n",
       "      <td>NaT</td>\n",
       "      <td>0</td>\n",
       "      <td>0.0</td>\n",
       "      <td>1</td>\n",
       "      <td>0</td>\n",
       "      <td>0</td>\n",
       "      <td>2832</td>\n",
       "      <td>NaN</td>\n",
       "      <td>0.961089</td>\n",
       "      <td>-0.416020</td>\n",
       "      <td>-0.119571</td>\n",
       "      <td>-0.268421</td>\n",
       "      <td>-2.496671</td>\n",
       "      <td>-0.599224</td>\n",
       "      <td>-0.290563</td>\n",
       "      <td>0.961089</td>\n",
       "      <td>-0.416020</td>\n",
       "      <td>-0.119571</td>\n",
       "      <td>-0.268421</td>\n",
       "      <td>-2.496671</td>\n",
       "      <td>-0.599224</td>\n",
       "      <td>-0.290563</td>\n",
       "      <td>13</td>\n",
       "      <td>15</td>\n",
       "      <td>1</td>\n",
       "    </tr>\n",
       "  </tbody>\n",
       "</table>\n",
       "</div>"
      ],
      "text/plain": [
       "  Policy_Year Endorsement  Location_RTA Policy_Code Class_Code Zone_Code  Vehicle_Age CC_PCC_GVW_Code  Colour_Vehicle       IDV Permit_Code Nature_Goods_Code Road_Type_Code Vehicle_Driven_By_Code Driver_Exp_Code Claims_History_Code Driver_Qualification_Code Incurred_Claims_Code  TPPD_Statutory_Cover_only Claim_Year Date_Accident_Loss  Place_Accident Date_Claim_Intimation TAC_NOL_Code Date_Disbursement  OD_Total_Loss  DRV_CLAIM_AMT  DRV_CLAIM_STATUS  _AntiTheft  No_Claim_Bonus  Net_OD_Premium  claim_processing_time  PT_Veh_Age    PT_IDV  PT_Stat_Cover  PT_OD_Loss  PT_DRV_CLM_AMT  PT_No_Claim_Bonus  PT_Net_OD_Premium  sc_Veh_Age    sc_IDV  sc_Stat_Cover  sc_OD_Loss  sc_DRV_CLM_AMT  sc_No_Claim_Bonus  sc_Net_OD_Premium  en_Policy_Year  en_Claim_Year labels\n",
       "0     2011-12           0       0.00180           2         11        36            7              50         0.86181  104000.0           1                 2              3                      1               6                   4                         2                    2                          0    2012-13         2011-10-14         0.00351            2011-10-15           59               NaT              0            0.0                 1           0               0            5088                    NaN    1.454822 -0.679118      -0.119571   -0.268421       -2.496671          -0.599224           0.235886    1.454822 -0.679118      -0.119571   -0.268421       -2.496671          -0.599224           0.235886              14             15      1\n",
       "1     2011-12           0       0.00261           2         11        36            7              50         0.86181   88000.0           1                 2              3                      1               6                   2                         1                    5                          0    2012-13         2011-10-08         0.00122            2011-10-14           59               NaT              0            0.0                 1           0               0            4712                    NaN    1.454822 -0.814440      -0.119571   -0.268421       -2.496671          -0.599224           0.160604    1.454822 -0.814440      -0.119571   -0.268421       -2.496671          -0.599224           0.160604              14             15      1\n",
       "2     2011-12           0       0.00713           2         14        36            2              47         0.86181   29850.0           1                 2              3                      1               1                   5                         2                    2                          0    2012-13         2011-10-12         0.00624            2011-10-14           59        2011-12-13              0         1876.0                 0           0               0             330                   60.0    0.361945 -1.653832      -0.119571   -0.268421       -0.938658          -0.599224          -1.513020    0.361945 -1.653832      -0.119571   -0.268421       -0.938658          -0.599224          -1.513020              14             15      1\n",
       "3     2010-11           0       0.00586           2         14        35            3              47         0.86181   30000.0           1                 2              3                      1               1                   6                         2                    8                          0    2012-13         2011-10-09         0.00305            2011-10-14           59        2011-12-13              0         5026.0                 0           0               0             405                   60.0    0.707797 -1.650082      -0.119571   -0.268421       -0.517881          -0.599224          -1.432140    0.707797 -1.650082      -0.119571   -0.268421       -0.517881          -0.599224          -1.432140              13             15      1\n",
       "4     2010-11           0       0.00513           2         11        36            4              50         0.86181  143140.0           1                 2              3                      1               6                   2                         4                    1                          0    2012-13         2011-10-09         0.00403            2011-10-15           59               NaT              0            0.0                 1           0               0            2832                    NaN    0.961089 -0.416020      -0.119571   -0.268421       -2.496671          -0.599224          -0.290563    0.961089 -0.416020      -0.119571   -0.268421       -2.496671          -0.599224          -0.290563              13             15      1"
      ]
     },
     "execution_count": 117,
     "metadata": {},
     "output_type": "execute_result"
    }
   ],
   "source": [
    "df_new_clusters.head()\n"
   ]
  },
  {
   "cell_type": "markdown",
   "id": "f97d9a8f",
   "metadata": {},
   "source": [
    "**Descriptive Statistics** - Five Point Summary"
   ]
  },
  {
   "cell_type": "code",
   "execution_count": 119,
   "id": "25c7fb31",
   "metadata": {},
   "outputs": [
    {
     "data": {
      "text/html": [
       "<div>\n",
       "<style scoped>\n",
       "    .dataframe tbody tr th:only-of-type {\n",
       "        vertical-align: middle;\n",
       "    }\n",
       "\n",
       "    .dataframe tbody tr th {\n",
       "        vertical-align: top;\n",
       "    }\n",
       "\n",
       "    .dataframe thead th {\n",
       "        text-align: right;\n",
       "    }\n",
       "</style>\n",
       "<table border=\"1\" class=\"dataframe\">\n",
       "  <thead>\n",
       "    <tr style=\"text-align: right;\">\n",
       "      <th></th>\n",
       "      <th>Location_RTA</th>\n",
       "      <th>Vehicle_Age</th>\n",
       "      <th>Colour_Vehicle</th>\n",
       "      <th>IDV</th>\n",
       "      <th>TPPD_Statutory_Cover_only</th>\n",
       "      <th>Place_Accident</th>\n",
       "      <th>OD_Total_Loss</th>\n",
       "      <th>DRV_CLAIM_AMT</th>\n",
       "      <th>DRV_CLAIM_STATUS</th>\n",
       "      <th>_AntiTheft</th>\n",
       "      <th>No_Claim_Bonus</th>\n",
       "      <th>Net_OD_Premium</th>\n",
       "      <th>claim_processing_time</th>\n",
       "      <th>PT_Veh_Age</th>\n",
       "      <th>PT_IDV</th>\n",
       "      <th>PT_Stat_Cover</th>\n",
       "      <th>PT_OD_Loss</th>\n",
       "      <th>PT_DRV_CLM_AMT</th>\n",
       "      <th>PT_No_Claim_Bonus</th>\n",
       "      <th>PT_Net_OD_Premium</th>\n",
       "      <th>sc_Veh_Age</th>\n",
       "      <th>sc_IDV</th>\n",
       "      <th>sc_Stat_Cover</th>\n",
       "      <th>sc_OD_Loss</th>\n",
       "      <th>sc_DRV_CLM_AMT</th>\n",
       "      <th>sc_No_Claim_Bonus</th>\n",
       "      <th>sc_Net_OD_Premium</th>\n",
       "      <th>en_Policy_Year</th>\n",
       "      <th>en_Claim_Year</th>\n",
       "    </tr>\n",
       "  </thead>\n",
       "  <tbody>\n",
       "    <tr>\n",
       "      <th>count</th>\n",
       "      <td>65475.000000</td>\n",
       "      <td>65475.000000</td>\n",
       "      <td>65475.000000</td>\n",
       "      <td>6.547500e+04</td>\n",
       "      <td>65475.000000</td>\n",
       "      <td>65475.000000</td>\n",
       "      <td>65475.000000</td>\n",
       "      <td>6.547500e+04</td>\n",
       "      <td>65475.000000</td>\n",
       "      <td>65475.000000</td>\n",
       "      <td>65475.000000</td>\n",
       "      <td>65475.000000</td>\n",
       "      <td>63174.000000</td>\n",
       "      <td>65475.000000</td>\n",
       "      <td>65475.000000</td>\n",
       "      <td>65475.000000</td>\n",
       "      <td>65475.000000</td>\n",
       "      <td>65475.000000</td>\n",
       "      <td>65475.000000</td>\n",
       "      <td>65475.000000</td>\n",
       "      <td>65475.000000</td>\n",
       "      <td>65475.000000</td>\n",
       "      <td>65475.000000</td>\n",
       "      <td>65475.000000</td>\n",
       "      <td>65475.000000</td>\n",
       "      <td>65475.000000</td>\n",
       "      <td>65475.000000</td>\n",
       "      <td>65475.000000</td>\n",
       "      <td>65475.000000</td>\n",
       "    </tr>\n",
       "    <tr>\n",
       "      <th>mean</th>\n",
       "      <td>0.016444</td>\n",
       "      <td>2.192211</td>\n",
       "      <td>0.737145</td>\n",
       "      <td>1.531862e+08</td>\n",
       "      <td>0.011607</td>\n",
       "      <td>0.041496</td>\n",
       "      <td>0.044383</td>\n",
       "      <td>3.513327e+04</td>\n",
       "      <td>0.037144</td>\n",
       "      <td>0.216739</td>\n",
       "      <td>0.268041</td>\n",
       "      <td>5764.359297</td>\n",
       "      <td>63.096780</td>\n",
       "      <td>-0.046805</td>\n",
       "      <td>0.080059</td>\n",
       "      <td>-0.021107</td>\n",
       "      <td>-0.091157</td>\n",
       "      <td>0.007825</td>\n",
       "      <td>0.008707</td>\n",
       "      <td>0.072632</td>\n",
       "      <td>-0.046805</td>\n",
       "      <td>0.080059</td>\n",
       "      <td>-0.021107</td>\n",
       "      <td>-0.091157</td>\n",
       "      <td>0.007825</td>\n",
       "      <td>0.008707</td>\n",
       "      <td>0.072632</td>\n",
       "      <td>13.020481</td>\n",
       "      <td>13.571730</td>\n",
       "    </tr>\n",
       "    <tr>\n",
       "      <th>std</th>\n",
       "      <td>0.020742</td>\n",
       "      <td>2.726022</td>\n",
       "      <td>0.298918</td>\n",
       "      <td>3.908069e+10</td>\n",
       "      <td>0.107112</td>\n",
       "      <td>0.061991</td>\n",
       "      <td>0.205947</td>\n",
       "      <td>1.012871e+05</td>\n",
       "      <td>0.189116</td>\n",
       "      <td>0.412027</td>\n",
       "      <td>0.442943</td>\n",
       "      <td>5385.790199</td>\n",
       "      <td>89.738155</td>\n",
       "      <td>1.006908</td>\n",
       "      <td>0.952162</td>\n",
       "      <td>0.908606</td>\n",
       "      <td>0.822534</td>\n",
       "      <td>0.920968</td>\n",
       "      <td>1.004616</td>\n",
       "      <td>0.969795</td>\n",
       "      <td>1.006908</td>\n",
       "      <td>0.952162</td>\n",
       "      <td>0.908606</td>\n",
       "      <td>0.822534</td>\n",
       "      <td>0.920968</td>\n",
       "      <td>1.004616</td>\n",
       "      <td>0.969795</td>\n",
       "      <td>0.783703</td>\n",
       "      <td>0.667998</td>\n",
       "    </tr>\n",
       "    <tr>\n",
       "      <th>min</th>\n",
       "      <td>0.000850</td>\n",
       "      <td>0.000000</td>\n",
       "      <td>0.000010</td>\n",
       "      <td>1.000000e+00</td>\n",
       "      <td>0.000000</td>\n",
       "      <td>0.000470</td>\n",
       "      <td>0.000000</td>\n",
       "      <td>0.000000e+00</td>\n",
       "      <td>0.000000</td>\n",
       "      <td>0.000000</td>\n",
       "      <td>0.000000</td>\n",
       "      <td>13.000000</td>\n",
       "      <td>-643.000000</td>\n",
       "      <td>-1.184918</td>\n",
       "      <td>-6.924225</td>\n",
       "      <td>-0.119571</td>\n",
       "      <td>-0.268421</td>\n",
       "      <td>-2.496671</td>\n",
       "      <td>-0.599224</td>\n",
       "      <td>-2.243840</td>\n",
       "      <td>-1.184918</td>\n",
       "      <td>-6.924225</td>\n",
       "      <td>-0.119571</td>\n",
       "      <td>-0.268421</td>\n",
       "      <td>-2.496671</td>\n",
       "      <td>-0.599224</td>\n",
       "      <td>-2.243840</td>\n",
       "      <td>1.000000</td>\n",
       "      <td>2.000000</td>\n",
       "    </tr>\n",
       "    <tr>\n",
       "      <th>25%</th>\n",
       "      <td>0.004040</td>\n",
       "      <td>0.000000</td>\n",
       "      <td>0.861810</td>\n",
       "      <td>1.433505e+05</td>\n",
       "      <td>0.000000</td>\n",
       "      <td>0.003710</td>\n",
       "      <td>0.000000</td>\n",
       "      <td>5.275500e+03</td>\n",
       "      <td>0.000000</td>\n",
       "      <td>0.000000</td>\n",
       "      <td>0.000000</td>\n",
       "      <td>2621.000000</td>\n",
       "      <td>23.000000</td>\n",
       "      <td>-1.184918</td>\n",
       "      <td>-0.414796</td>\n",
       "      <td>-0.119571</td>\n",
       "      <td>-0.268421</td>\n",
       "      <td>-0.495095</td>\n",
       "      <td>-0.599224</td>\n",
       "      <td>-0.352399</td>\n",
       "      <td>-1.184918</td>\n",
       "      <td>-0.414796</td>\n",
       "      <td>-0.119571</td>\n",
       "      <td>-0.268421</td>\n",
       "      <td>-0.495095</td>\n",
       "      <td>-0.599224</td>\n",
       "      <td>-0.352399</td>\n",
       "      <td>13.000000</td>\n",
       "      <td>13.000000</td>\n",
       "    </tr>\n",
       "    <tr>\n",
       "      <th>50%</th>\n",
       "      <td>0.007180</td>\n",
       "      <td>1.000000</td>\n",
       "      <td>0.861810</td>\n",
       "      <td>3.046470e+05</td>\n",
       "      <td>0.000000</td>\n",
       "      <td>0.010320</td>\n",
       "      <td>0.000000</td>\n",
       "      <td>1.245000e+04</td>\n",
       "      <td>0.000000</td>\n",
       "      <td>0.000000</td>\n",
       "      <td>0.000000</td>\n",
       "      <td>4932.000000</td>\n",
       "      <td>60.000000</td>\n",
       "      <td>-0.165052</td>\n",
       "      <td>0.229438</td>\n",
       "      <td>-0.119571</td>\n",
       "      <td>-0.268421</td>\n",
       "      <td>-0.054477</td>\n",
       "      <td>-0.599224</td>\n",
       "      <td>0.205106</td>\n",
       "      <td>-0.165052</td>\n",
       "      <td>0.229438</td>\n",
       "      <td>-0.119571</td>\n",
       "      <td>-0.268421</td>\n",
       "      <td>-0.054477</td>\n",
       "      <td>-0.599224</td>\n",
       "      <td>0.205106</td>\n",
       "      <td>13.000000</td>\n",
       "      <td>14.000000</td>\n",
       "    </tr>\n",
       "    <tr>\n",
       "      <th>75%</th>\n",
       "      <td>0.018990</td>\n",
       "      <td>3.000000</td>\n",
       "      <td>0.861810</td>\n",
       "      <td>4.981550e+05</td>\n",
       "      <td>0.000000</td>\n",
       "      <td>0.031490</td>\n",
       "      <td>0.000000</td>\n",
       "      <td>2.929500e+04</td>\n",
       "      <td>0.000000</td>\n",
       "      <td>0.000000</td>\n",
       "      <td>1.000000</td>\n",
       "      <td>7244.000000</td>\n",
       "      <td>68.000000</td>\n",
       "      <td>0.707797</td>\n",
       "      <td>0.667932</td>\n",
       "      <td>-0.119571</td>\n",
       "      <td>-0.268421</td>\n",
       "      <td>0.462153</td>\n",
       "      <td>1.668826</td>\n",
       "      <td>0.609627</td>\n",
       "      <td>0.707797</td>\n",
       "      <td>0.667932</td>\n",
       "      <td>-0.119571</td>\n",
       "      <td>-0.268421</td>\n",
       "      <td>0.462153</td>\n",
       "      <td>1.668826</td>\n",
       "      <td>0.609627</td>\n",
       "      <td>13.000000</td>\n",
       "      <td>14.000000</td>\n",
       "    </tr>\n",
       "    <tr>\n",
       "      <th>max</th>\n",
       "      <td>0.077330</td>\n",
       "      <td>29.000000</td>\n",
       "      <td>0.861810</td>\n",
       "      <td>1.000000e+13</td>\n",
       "      <td>1.000000</td>\n",
       "      <td>0.172210</td>\n",
       "      <td>1.000000</td>\n",
       "      <td>8.216000e+06</td>\n",
       "      <td>1.000000</td>\n",
       "      <td>1.000000</td>\n",
       "      <td>1.000000</td>\n",
       "      <td>96795.000000</td>\n",
       "      <td>3454.000000</td>\n",
       "      <td>2.593907</td>\n",
       "      <td>29.269673</td>\n",
       "      <td>8.363217</td>\n",
       "      <td>3.725494</td>\n",
       "      <td>7.056961</td>\n",
       "      <td>1.668826</td>\n",
       "      <td>5.357797</td>\n",
       "      <td>2.593907</td>\n",
       "      <td>29.269673</td>\n",
       "      <td>8.363217</td>\n",
       "      <td>3.725494</td>\n",
       "      <td>7.056961</td>\n",
       "      <td>1.668826</td>\n",
       "      <td>5.357797</td>\n",
       "      <td>15.000000</td>\n",
       "      <td>15.000000</td>\n",
       "    </tr>\n",
       "  </tbody>\n",
       "</table>\n",
       "</div>"
      ],
      "text/plain": [
       "       Location_RTA   Vehicle_Age  Colour_Vehicle           IDV  TPPD_Statutory_Cover_only  Place_Accident  OD_Total_Loss  DRV_CLAIM_AMT  DRV_CLAIM_STATUS    _AntiTheft  No_Claim_Bonus  Net_OD_Premium  claim_processing_time    PT_Veh_Age        PT_IDV  PT_Stat_Cover    PT_OD_Loss  PT_DRV_CLM_AMT  PT_No_Claim_Bonus  PT_Net_OD_Premium    sc_Veh_Age        sc_IDV  sc_Stat_Cover    sc_OD_Loss  sc_DRV_CLM_AMT  sc_No_Claim_Bonus  sc_Net_OD_Premium  en_Policy_Year  en_Claim_Year\n",
       "count  65475.000000  65475.000000    65475.000000  6.547500e+04               65475.000000    65475.000000   65475.000000   6.547500e+04      65475.000000  65475.000000    65475.000000    65475.000000           63174.000000  65475.000000  65475.000000   65475.000000  65475.000000    65475.000000       65475.000000       65475.000000  65475.000000  65475.000000   65475.000000  65475.000000    65475.000000       65475.000000       65475.000000    65475.000000   65475.000000\n",
       "mean       0.016444      2.192211        0.737145  1.531862e+08                   0.011607        0.041496       0.044383   3.513327e+04          0.037144      0.216739        0.268041     5764.359297              63.096780     -0.046805      0.080059      -0.021107     -0.091157        0.007825           0.008707           0.072632     -0.046805      0.080059      -0.021107     -0.091157        0.007825           0.008707           0.072632       13.020481      13.571730\n",
       "std        0.020742      2.726022        0.298918  3.908069e+10                   0.107112        0.061991       0.205947   1.012871e+05          0.189116      0.412027        0.442943     5385.790199              89.738155      1.006908      0.952162       0.908606      0.822534        0.920968           1.004616           0.969795      1.006908      0.952162       0.908606      0.822534        0.920968           1.004616           0.969795        0.783703       0.667998\n",
       "min        0.000850      0.000000        0.000010  1.000000e+00                   0.000000        0.000470       0.000000   0.000000e+00          0.000000      0.000000        0.000000       13.000000            -643.000000     -1.184918     -6.924225      -0.119571     -0.268421       -2.496671          -0.599224          -2.243840     -1.184918     -6.924225      -0.119571     -0.268421       -2.496671          -0.599224          -2.243840        1.000000       2.000000\n",
       "25%        0.004040      0.000000        0.861810  1.433505e+05                   0.000000        0.003710       0.000000   5.275500e+03          0.000000      0.000000        0.000000     2621.000000              23.000000     -1.184918     -0.414796      -0.119571     -0.268421       -0.495095          -0.599224          -0.352399     -1.184918     -0.414796      -0.119571     -0.268421       -0.495095          -0.599224          -0.352399       13.000000      13.000000\n",
       "50%        0.007180      1.000000        0.861810  3.046470e+05                   0.000000        0.010320       0.000000   1.245000e+04          0.000000      0.000000        0.000000     4932.000000              60.000000     -0.165052      0.229438      -0.119571     -0.268421       -0.054477          -0.599224           0.205106     -0.165052      0.229438      -0.119571     -0.268421       -0.054477          -0.599224           0.205106       13.000000      14.000000\n",
       "75%        0.018990      3.000000        0.861810  4.981550e+05                   0.000000        0.031490       0.000000   2.929500e+04          0.000000      0.000000        1.000000     7244.000000              68.000000      0.707797      0.667932      -0.119571     -0.268421        0.462153           1.668826           0.609627      0.707797      0.667932      -0.119571     -0.268421        0.462153           1.668826           0.609627       13.000000      14.000000\n",
       "max        0.077330     29.000000        0.861810  1.000000e+13                   1.000000        0.172210       1.000000   8.216000e+06          1.000000      1.000000        1.000000    96795.000000            3454.000000      2.593907     29.269673       8.363217      3.725494        7.056961           1.668826           5.357797      2.593907     29.269673       8.363217      3.725494        7.056961           1.668826           5.357797       15.000000      15.000000"
      ]
     },
     "execution_count": 119,
     "metadata": {},
     "output_type": "execute_result"
    }
   ],
   "source": [
    "df_new_clusters[df_new_clusters.labels==0].describe()"
   ]
  },
  {
   "cell_type": "code",
   "execution_count": 120,
   "id": "c9eee595",
   "metadata": {},
   "outputs": [
    {
     "data": {
      "text/html": [
       "<div>\n",
       "<style scoped>\n",
       "    .dataframe tbody tr th:only-of-type {\n",
       "        vertical-align: middle;\n",
       "    }\n",
       "\n",
       "    .dataframe tbody tr th {\n",
       "        vertical-align: top;\n",
       "    }\n",
       "\n",
       "    .dataframe thead th {\n",
       "        text-align: right;\n",
       "    }\n",
       "</style>\n",
       "<table border=\"1\" class=\"dataframe\">\n",
       "  <thead>\n",
       "    <tr style=\"text-align: right;\">\n",
       "      <th></th>\n",
       "      <th>Location_RTA</th>\n",
       "      <th>Vehicle_Age</th>\n",
       "      <th>Colour_Vehicle</th>\n",
       "      <th>IDV</th>\n",
       "      <th>TPPD_Statutory_Cover_only</th>\n",
       "      <th>Place_Accident</th>\n",
       "      <th>OD_Total_Loss</th>\n",
       "      <th>DRV_CLAIM_AMT</th>\n",
       "      <th>DRV_CLAIM_STATUS</th>\n",
       "      <th>_AntiTheft</th>\n",
       "      <th>No_Claim_Bonus</th>\n",
       "      <th>Net_OD_Premium</th>\n",
       "      <th>claim_processing_time</th>\n",
       "      <th>PT_Veh_Age</th>\n",
       "      <th>PT_IDV</th>\n",
       "      <th>PT_Stat_Cover</th>\n",
       "      <th>PT_OD_Loss</th>\n",
       "      <th>PT_DRV_CLM_AMT</th>\n",
       "      <th>PT_No_Claim_Bonus</th>\n",
       "      <th>PT_Net_OD_Premium</th>\n",
       "      <th>sc_Veh_Age</th>\n",
       "      <th>sc_IDV</th>\n",
       "      <th>sc_Stat_Cover</th>\n",
       "      <th>sc_OD_Loss</th>\n",
       "      <th>sc_DRV_CLM_AMT</th>\n",
       "      <th>sc_No_Claim_Bonus</th>\n",
       "      <th>sc_Net_OD_Premium</th>\n",
       "      <th>en_Policy_Year</th>\n",
       "      <th>en_Claim_Year</th>\n",
       "    </tr>\n",
       "  </thead>\n",
       "  <tbody>\n",
       "    <tr>\n",
       "      <th>count</th>\n",
       "      <td>9722.000000</td>\n",
       "      <td>9722.000000</td>\n",
       "      <td>9722.000000</td>\n",
       "      <td>9.722000e+03</td>\n",
       "      <td>9722.000000</td>\n",
       "      <td>9722.000000</td>\n",
       "      <td>9722.000000</td>\n",
       "      <td>9.722000e+03</td>\n",
       "      <td>9722.000000</td>\n",
       "      <td>9722.000000</td>\n",
       "      <td>9722.000000</td>\n",
       "      <td>9722.000000</td>\n",
       "      <td>8288.000000</td>\n",
       "      <td>9722.000000</td>\n",
       "      <td>9722.000000</td>\n",
       "      <td>9722.000000</td>\n",
       "      <td>9722.000000</td>\n",
       "      <td>9722.000000</td>\n",
       "      <td>9722.000000</td>\n",
       "      <td>9722.000000</td>\n",
       "      <td>9722.000000</td>\n",
       "      <td>9722.000000</td>\n",
       "      <td>9722.000000</td>\n",
       "      <td>9722.000000</td>\n",
       "      <td>9722.000000</td>\n",
       "      <td>9722.000000</td>\n",
       "      <td>9722.000000</td>\n",
       "      <td>9722.000000</td>\n",
       "      <td>9722.000000</td>\n",
       "    </tr>\n",
       "    <tr>\n",
       "      <th>mean</th>\n",
       "      <td>0.014291</td>\n",
       "      <td>2.862888</td>\n",
       "      <td>0.802557</td>\n",
       "      <td>2.708095e+05</td>\n",
       "      <td>0.030858</td>\n",
       "      <td>0.034243</td>\n",
       "      <td>0.220839</td>\n",
       "      <td>6.481408e+04</td>\n",
       "      <td>0.148529</td>\n",
       "      <td>0.071179</td>\n",
       "      <td>0.238428</td>\n",
       "      <td>3729.830282</td>\n",
       "      <td>96.036559</td>\n",
       "      <td>0.314915</td>\n",
       "      <td>-0.539316</td>\n",
       "      <td>0.142189</td>\n",
       "      <td>0.613593</td>\n",
       "      <td>-0.053133</td>\n",
       "      <td>-0.058456</td>\n",
       "      <td>-0.489062</td>\n",
       "      <td>0.314915</td>\n",
       "      <td>-0.539316</td>\n",
       "      <td>0.142189</td>\n",
       "      <td>0.613593</td>\n",
       "      <td>-0.053133</td>\n",
       "      <td>-0.058456</td>\n",
       "      <td>-0.489062</td>\n",
       "      <td>13.004320</td>\n",
       "      <td>13.915552</td>\n",
       "    </tr>\n",
       "    <tr>\n",
       "      <th>std</th>\n",
       "      <td>0.020138</td>\n",
       "      <td>2.673815</td>\n",
       "      <td>0.214764</td>\n",
       "      <td>4.174512e+05</td>\n",
       "      <td>0.172941</td>\n",
       "      <td>0.057954</td>\n",
       "      <td>0.414834</td>\n",
       "      <td>1.644910e+05</td>\n",
       "      <td>0.355642</td>\n",
       "      <td>0.257136</td>\n",
       "      <td>0.426144</td>\n",
       "      <td>4480.165773</td>\n",
       "      <td>138.340536</td>\n",
       "      <td>0.890414</td>\n",
       "      <td>1.137690</td>\n",
       "      <td>1.467025</td>\n",
       "      <td>1.656810</td>\n",
       "      <td>1.420609</td>\n",
       "      <td>0.966516</td>\n",
       "      <td>1.061239</td>\n",
       "      <td>0.890414</td>\n",
       "      <td>1.137690</td>\n",
       "      <td>1.467025</td>\n",
       "      <td>1.656810</td>\n",
       "      <td>1.420609</td>\n",
       "      <td>0.966516</td>\n",
       "      <td>1.061239</td>\n",
       "      <td>1.007523</td>\n",
       "      <td>1.058016</td>\n",
       "    </tr>\n",
       "    <tr>\n",
       "      <th>min</th>\n",
       "      <td>0.000850</td>\n",
       "      <td>0.000000</td>\n",
       "      <td>0.000010</td>\n",
       "      <td>5.000000e+03</td>\n",
       "      <td>0.000000</td>\n",
       "      <td>0.000470</td>\n",
       "      <td>0.000000</td>\n",
       "      <td>0.000000e+00</td>\n",
       "      <td>0.000000</td>\n",
       "      <td>0.000000</td>\n",
       "      <td>0.000000</td>\n",
       "      <td>32.000000</td>\n",
       "      <td>-169.000000</td>\n",
       "      <td>-1.184918</td>\n",
       "      <td>-2.911944</td>\n",
       "      <td>-0.119571</td>\n",
       "      <td>-0.268421</td>\n",
       "      <td>-2.496671</td>\n",
       "      <td>-0.599224</td>\n",
       "      <td>-2.117541</td>\n",
       "      <td>-1.184918</td>\n",
       "      <td>-2.911944</td>\n",
       "      <td>-0.119571</td>\n",
       "      <td>-0.268421</td>\n",
       "      <td>-2.496671</td>\n",
       "      <td>-0.599224</td>\n",
       "      <td>-2.117541</td>\n",
       "      <td>1.000000</td>\n",
       "      <td>5.000000</td>\n",
       "    </tr>\n",
       "    <tr>\n",
       "      <th>25%</th>\n",
       "      <td>0.003640</td>\n",
       "      <td>1.000000</td>\n",
       "      <td>0.861810</td>\n",
       "      <td>3.300000e+04</td>\n",
       "      <td>0.000000</td>\n",
       "      <td>0.003190</td>\n",
       "      <td>0.000000</td>\n",
       "      <td>3.128000e+03</td>\n",
       "      <td>0.000000</td>\n",
       "      <td>0.000000</td>\n",
       "      <td>0.000000</td>\n",
       "      <td>318.000000</td>\n",
       "      <td>60.000000</td>\n",
       "      <td>-0.165052</td>\n",
       "      <td>-1.578528</td>\n",
       "      <td>-0.119571</td>\n",
       "      <td>-0.268421</td>\n",
       "      <td>-0.730200</td>\n",
       "      <td>-0.599224</td>\n",
       "      <td>-1.527037</td>\n",
       "      <td>-0.165052</td>\n",
       "      <td>-1.578528</td>\n",
       "      <td>-0.119571</td>\n",
       "      <td>-0.268421</td>\n",
       "      <td>-0.730200</td>\n",
       "      <td>-0.599224</td>\n",
       "      <td>-1.527037</td>\n",
       "      <td>13.000000</td>\n",
       "      <td>13.000000</td>\n",
       "    </tr>\n",
       "    <tr>\n",
       "      <th>50%</th>\n",
       "      <td>0.006290</td>\n",
       "      <td>2.000000</td>\n",
       "      <td>0.861810</td>\n",
       "      <td>1.276500e+05</td>\n",
       "      <td>0.000000</td>\n",
       "      <td>0.005960</td>\n",
       "      <td>0.000000</td>\n",
       "      <td>1.621550e+04</td>\n",
       "      <td>0.000000</td>\n",
       "      <td>0.000000</td>\n",
       "      <td>0.000000</td>\n",
       "      <td>2155.000000</td>\n",
       "      <td>60.000000</td>\n",
       "      <td>0.361945</td>\n",
       "      <td>-0.511014</td>\n",
       "      <td>-0.119571</td>\n",
       "      <td>-0.268421</td>\n",
       "      <td>0.096211</td>\n",
       "      <td>-0.599224</td>\n",
       "      <td>-0.501468</td>\n",
       "      <td>0.361945</td>\n",
       "      <td>-0.511014</td>\n",
       "      <td>-0.119571</td>\n",
       "      <td>-0.268421</td>\n",
       "      <td>0.096211</td>\n",
       "      <td>-0.599224</td>\n",
       "      <td>-0.501468</td>\n",
       "      <td>13.000000</td>\n",
       "      <td>14.000000</td>\n",
       "    </tr>\n",
       "    <tr>\n",
       "      <th>75%</th>\n",
       "      <td>0.016320</td>\n",
       "      <td>4.000000</td>\n",
       "      <td>0.861810</td>\n",
       "      <td>3.909420e+05</td>\n",
       "      <td>0.000000</td>\n",
       "      <td>0.022500</td>\n",
       "      <td>0.000000</td>\n",
       "      <td>3.475000e+04</td>\n",
       "      <td>0.000000</td>\n",
       "      <td>0.000000</td>\n",
       "      <td>0.000000</td>\n",
       "      <td>5821.000000</td>\n",
       "      <td>90.000000</td>\n",
       "      <td>0.961089</td>\n",
       "      <td>0.449988</td>\n",
       "      <td>-0.119571</td>\n",
       "      <td>-0.268421</td>\n",
       "      <td>0.575672</td>\n",
       "      <td>-0.599224</td>\n",
       "      <td>0.372844</td>\n",
       "      <td>0.961089</td>\n",
       "      <td>0.449988</td>\n",
       "      <td>-0.119571</td>\n",
       "      <td>-0.268421</td>\n",
       "      <td>0.575672</td>\n",
       "      <td>-0.599224</td>\n",
       "      <td>0.372844</td>\n",
       "      <td>14.000000</td>\n",
       "      <td>15.000000</td>\n",
       "    </tr>\n",
       "    <tr>\n",
       "      <th>max</th>\n",
       "      <td>0.077330</td>\n",
       "      <td>26.000000</td>\n",
       "      <td>0.861810</td>\n",
       "      <td>9.208000e+06</td>\n",
       "      <td>1.000000</td>\n",
       "      <td>0.172210</td>\n",
       "      <td>1.000000</td>\n",
       "      <td>2.098500e+06</td>\n",
       "      <td>1.000000</td>\n",
       "      <td>1.000000</td>\n",
       "      <td>1.000000</td>\n",
       "      <td>96795.000000</td>\n",
       "      <td>3032.000000</td>\n",
       "      <td>2.514988</td>\n",
       "      <td>3.594959</td>\n",
       "      <td>8.363217</td>\n",
       "      <td>3.725494</td>\n",
       "      <td>4.766577</td>\n",
       "      <td>1.668826</td>\n",
       "      <td>5.357797</td>\n",
       "      <td>2.514988</td>\n",
       "      <td>3.594959</td>\n",
       "      <td>8.363217</td>\n",
       "      <td>3.725494</td>\n",
       "      <td>4.766577</td>\n",
       "      <td>1.668826</td>\n",
       "      <td>5.357797</td>\n",
       "      <td>14.000000</td>\n",
       "      <td>15.000000</td>\n",
       "    </tr>\n",
       "  </tbody>\n",
       "</table>\n",
       "</div>"
      ],
      "text/plain": [
       "       Location_RTA  Vehicle_Age  Colour_Vehicle           IDV  TPPD_Statutory_Cover_only  Place_Accident  OD_Total_Loss  DRV_CLAIM_AMT  DRV_CLAIM_STATUS   _AntiTheft  No_Claim_Bonus  Net_OD_Premium  claim_processing_time   PT_Veh_Age       PT_IDV  PT_Stat_Cover   PT_OD_Loss  PT_DRV_CLM_AMT  PT_No_Claim_Bonus  PT_Net_OD_Premium   sc_Veh_Age       sc_IDV  sc_Stat_Cover   sc_OD_Loss  sc_DRV_CLM_AMT  sc_No_Claim_Bonus  sc_Net_OD_Premium  en_Policy_Year  en_Claim_Year\n",
       "count   9722.000000  9722.000000     9722.000000  9.722000e+03                9722.000000     9722.000000    9722.000000   9.722000e+03       9722.000000  9722.000000     9722.000000     9722.000000            8288.000000  9722.000000  9722.000000    9722.000000  9722.000000     9722.000000        9722.000000        9722.000000  9722.000000  9722.000000    9722.000000  9722.000000     9722.000000        9722.000000        9722.000000     9722.000000    9722.000000\n",
       "mean       0.014291     2.862888        0.802557  2.708095e+05                   0.030858        0.034243       0.220839   6.481408e+04          0.148529     0.071179        0.238428     3729.830282              96.036559     0.314915    -0.539316       0.142189     0.613593       -0.053133          -0.058456          -0.489062     0.314915    -0.539316       0.142189     0.613593       -0.053133          -0.058456          -0.489062       13.004320      13.915552\n",
       "std        0.020138     2.673815        0.214764  4.174512e+05                   0.172941        0.057954       0.414834   1.644910e+05          0.355642     0.257136        0.426144     4480.165773             138.340536     0.890414     1.137690       1.467025     1.656810        1.420609           0.966516           1.061239     0.890414     1.137690       1.467025     1.656810        1.420609           0.966516           1.061239        1.007523       1.058016\n",
       "min        0.000850     0.000000        0.000010  5.000000e+03                   0.000000        0.000470       0.000000   0.000000e+00          0.000000     0.000000        0.000000       32.000000            -169.000000    -1.184918    -2.911944      -0.119571    -0.268421       -2.496671          -0.599224          -2.117541    -1.184918    -2.911944      -0.119571    -0.268421       -2.496671          -0.599224          -2.117541        1.000000       5.000000\n",
       "25%        0.003640     1.000000        0.861810  3.300000e+04                   0.000000        0.003190       0.000000   3.128000e+03          0.000000     0.000000        0.000000      318.000000              60.000000    -0.165052    -1.578528      -0.119571    -0.268421       -0.730200          -0.599224          -1.527037    -0.165052    -1.578528      -0.119571    -0.268421       -0.730200          -0.599224          -1.527037       13.000000      13.000000\n",
       "50%        0.006290     2.000000        0.861810  1.276500e+05                   0.000000        0.005960       0.000000   1.621550e+04          0.000000     0.000000        0.000000     2155.000000              60.000000     0.361945    -0.511014      -0.119571    -0.268421        0.096211          -0.599224          -0.501468     0.361945    -0.511014      -0.119571    -0.268421        0.096211          -0.599224          -0.501468       13.000000      14.000000\n",
       "75%        0.016320     4.000000        0.861810  3.909420e+05                   0.000000        0.022500       0.000000   3.475000e+04          0.000000     0.000000        0.000000     5821.000000              90.000000     0.961089     0.449988      -0.119571    -0.268421        0.575672          -0.599224           0.372844     0.961089     0.449988      -0.119571    -0.268421        0.575672          -0.599224           0.372844       14.000000      15.000000\n",
       "max        0.077330    26.000000        0.861810  9.208000e+06                   1.000000        0.172210       1.000000   2.098500e+06          1.000000     1.000000        1.000000    96795.000000            3032.000000     2.514988     3.594959       8.363217     3.725494        4.766577           1.668826           5.357797     2.514988     3.594959       8.363217     3.725494        4.766577           1.668826           5.357797       14.000000      15.000000"
      ]
     },
     "execution_count": 120,
     "metadata": {},
     "output_type": "execute_result"
    }
   ],
   "source": [
    "df_new_clusters[df_new_clusters.labels==1].describe()"
   ]
  },
  {
   "cell_type": "code",
   "execution_count": 121,
   "id": "21e16775",
   "metadata": {},
   "outputs": [
    {
     "data": {
      "text/html": [
       "<div>\n",
       "<style scoped>\n",
       "    .dataframe tbody tr th:only-of-type {\n",
       "        vertical-align: middle;\n",
       "    }\n",
       "\n",
       "    .dataframe tbody tr th {\n",
       "        vertical-align: top;\n",
       "    }\n",
       "\n",
       "    .dataframe thead th {\n",
       "        text-align: right;\n",
       "    }\n",
       "</style>\n",
       "<table border=\"1\" class=\"dataframe\">\n",
       "  <thead>\n",
       "    <tr style=\"text-align: right;\">\n",
       "      <th></th>\n",
       "      <th>Location_RTA</th>\n",
       "      <th>Vehicle_Age</th>\n",
       "      <th>Colour_Vehicle</th>\n",
       "      <th>IDV</th>\n",
       "      <th>TPPD_Statutory_Cover_only</th>\n",
       "      <th>Place_Accident</th>\n",
       "      <th>OD_Total_Loss</th>\n",
       "      <th>DRV_CLAIM_AMT</th>\n",
       "      <th>DRV_CLAIM_STATUS</th>\n",
       "      <th>_AntiTheft</th>\n",
       "      <th>No_Claim_Bonus</th>\n",
       "      <th>Net_OD_Premium</th>\n",
       "      <th>claim_processing_time</th>\n",
       "      <th>PT_Veh_Age</th>\n",
       "      <th>PT_IDV</th>\n",
       "      <th>PT_Stat_Cover</th>\n",
       "      <th>PT_OD_Loss</th>\n",
       "      <th>PT_DRV_CLM_AMT</th>\n",
       "      <th>PT_No_Claim_Bonus</th>\n",
       "      <th>PT_Net_OD_Premium</th>\n",
       "      <th>sc_Veh_Age</th>\n",
       "      <th>sc_IDV</th>\n",
       "      <th>sc_Stat_Cover</th>\n",
       "      <th>sc_OD_Loss</th>\n",
       "      <th>sc_DRV_CLM_AMT</th>\n",
       "      <th>sc_No_Claim_Bonus</th>\n",
       "      <th>sc_Net_OD_Premium</th>\n",
       "      <th>en_Policy_Year</th>\n",
       "      <th>en_Claim_Year</th>\n",
       "    </tr>\n",
       "  </thead>\n",
       "  <tbody>\n",
       "    <tr>\n",
       "      <th>count</th>\n",
       "      <td>0.0</td>\n",
       "      <td>3.000000</td>\n",
       "      <td>3.000000e+00</td>\n",
       "      <td>3.000000e+00</td>\n",
       "      <td>3.0</td>\n",
       "      <td>3.000000</td>\n",
       "      <td>3.000000</td>\n",
       "      <td>3.000000e+00</td>\n",
       "      <td>3.0</td>\n",
       "      <td>3.0</td>\n",
       "      <td>3.0</td>\n",
       "      <td>3.000000</td>\n",
       "      <td>3.000000</td>\n",
       "      <td>3.000000</td>\n",
       "      <td>3.000000</td>\n",
       "      <td>3.000000</td>\n",
       "      <td>3.000000</td>\n",
       "      <td>3.000000</td>\n",
       "      <td>3.000000</td>\n",
       "      <td>3.000000</td>\n",
       "      <td>3.000000</td>\n",
       "      <td>3.000000</td>\n",
       "      <td>3.000000</td>\n",
       "      <td>3.000000</td>\n",
       "      <td>3.000000</td>\n",
       "      <td>3.000000</td>\n",
       "      <td>3.000000</td>\n",
       "      <td>3.000000</td>\n",
       "      <td>3.000000</td>\n",
       "    </tr>\n",
       "    <tr>\n",
       "      <th>mean</th>\n",
       "      <td>NaN</td>\n",
       "      <td>4.666667</td>\n",
       "      <td>8.618100e-01</td>\n",
       "      <td>1.409804e+06</td>\n",
       "      <td>0.0</td>\n",
       "      <td>0.067890</td>\n",
       "      <td>0.333333</td>\n",
       "      <td>4.275733e+05</td>\n",
       "      <td>0.0</td>\n",
       "      <td>0.0</td>\n",
       "      <td>0.0</td>\n",
       "      <td>3841.333333</td>\n",
       "      <td>80.000000</td>\n",
       "      <td>0.991864</td>\n",
       "      <td>0.452710</td>\n",
       "      <td>-0.119571</td>\n",
       "      <td>1.062884</td>\n",
       "      <td>1.398948</td>\n",
       "      <td>-0.599224</td>\n",
       "      <td>-0.310384</td>\n",
       "      <td>0.991864</td>\n",
       "      <td>0.452710</td>\n",
       "      <td>-0.119571</td>\n",
       "      <td>1.062884</td>\n",
       "      <td>1.398948</td>\n",
       "      <td>-0.599224</td>\n",
       "      <td>-0.310384</td>\n",
       "      <td>11.666667</td>\n",
       "      <td>12.666667</td>\n",
       "    </tr>\n",
       "    <tr>\n",
       "      <th>std</th>\n",
       "      <td>NaN</td>\n",
       "      <td>2.516611</td>\n",
       "      <td>1.359740e-16</td>\n",
       "      <td>2.029213e+06</td>\n",
       "      <td>0.0</td>\n",
       "      <td>0.091166</td>\n",
       "      <td>0.577350</td>\n",
       "      <td>7.112777e+05</td>\n",
       "      <td>0.0</td>\n",
       "      <td>0.0</td>\n",
       "      <td>0.0</td>\n",
       "      <td>3470.902092</td>\n",
       "      <td>34.641016</td>\n",
       "      <td>0.565245</td>\n",
       "      <td>2.259141</td>\n",
       "      <td>0.000000</td>\n",
       "      <td>2.305888</td>\n",
       "      <td>2.300950</td>\n",
       "      <td>0.000000</td>\n",
       "      <td>1.108726</td>\n",
       "      <td>0.565245</td>\n",
       "      <td>2.259141</td>\n",
       "      <td>0.000000</td>\n",
       "      <td>2.305888</td>\n",
       "      <td>2.300950</td>\n",
       "      <td>0.000000</td>\n",
       "      <td>1.108726</td>\n",
       "      <td>1.527525</td>\n",
       "      <td>1.527525</td>\n",
       "    </tr>\n",
       "    <tr>\n",
       "      <th>min</th>\n",
       "      <td>NaN</td>\n",
       "      <td>2.000000</td>\n",
       "      <td>8.618100e-01</td>\n",
       "      <td>2.192300e+04</td>\n",
       "      <td>0.0</td>\n",
       "      <td>0.003510</td>\n",
       "      <td>0.000000</td>\n",
       "      <td>1.000000e+04</td>\n",
       "      <td>0.0</td>\n",
       "      <td>0.0</td>\n",
       "      <td>0.0</td>\n",
       "      <td>306.000000</td>\n",
       "      <td>60.000000</td>\n",
       "      <td>0.361945</td>\n",
       "      <td>-1.882296</td>\n",
       "      <td>-0.119571</td>\n",
       "      <td>-0.268421</td>\n",
       "      <td>-0.173836</td>\n",
       "      <td>-0.599224</td>\n",
       "      <td>-1.541401</td>\n",
       "      <td>0.361945</td>\n",
       "      <td>-1.882296</td>\n",
       "      <td>-0.119571</td>\n",
       "      <td>-0.268421</td>\n",
       "      <td>-0.173836</td>\n",
       "      <td>-0.599224</td>\n",
       "      <td>-1.541401</td>\n",
       "      <td>10.000000</td>\n",
       "      <td>11.000000</td>\n",
       "    </tr>\n",
       "    <tr>\n",
       "      <th>25%</th>\n",
       "      <td>NaN</td>\n",
       "      <td>3.500000</td>\n",
       "      <td>8.618100e-01</td>\n",
       "      <td>2.453615e+05</td>\n",
       "      <td>0.0</td>\n",
       "      <td>0.015730</td>\n",
       "      <td>0.000000</td>\n",
       "      <td>1.693650e+04</td>\n",
       "      <td>0.0</td>\n",
       "      <td>0.0</td>\n",
       "      <td>0.0</td>\n",
       "      <td>2140.000000</td>\n",
       "      <td>60.000000</td>\n",
       "      <td>0.760385</td>\n",
       "      <td>-0.634661</td>\n",
       "      <td>-0.119571</td>\n",
       "      <td>-0.268421</td>\n",
       "      <td>0.078507</td>\n",
       "      <td>-0.599224</td>\n",
       "      <td>-0.770389</td>\n",
       "      <td>0.760385</td>\n",
       "      <td>-0.634661</td>\n",
       "      <td>-0.119571</td>\n",
       "      <td>-0.268421</td>\n",
       "      <td>0.078507</td>\n",
       "      <td>-0.599224</td>\n",
       "      <td>-0.770389</td>\n",
       "      <td>11.000000</td>\n",
       "      <td>12.000000</td>\n",
       "    </tr>\n",
       "    <tr>\n",
       "      <th>50%</th>\n",
       "      <td>NaN</td>\n",
       "      <td>5.000000</td>\n",
       "      <td>8.618100e-01</td>\n",
       "      <td>4.688000e+05</td>\n",
       "      <td>0.0</td>\n",
       "      <td>0.027950</td>\n",
       "      <td>0.000000</td>\n",
       "      <td>2.387300e+04</td>\n",
       "      <td>0.0</td>\n",
       "      <td>0.0</td>\n",
       "      <td>0.0</td>\n",
       "      <td>3974.000000</td>\n",
       "      <td>60.000000</td>\n",
       "      <td>1.158826</td>\n",
       "      <td>0.612974</td>\n",
       "      <td>-0.119571</td>\n",
       "      <td>-0.268421</td>\n",
       "      <td>0.330850</td>\n",
       "      <td>-0.599224</td>\n",
       "      <td>0.000623</td>\n",
       "      <td>1.158826</td>\n",
       "      <td>0.612974</td>\n",
       "      <td>-0.119571</td>\n",
       "      <td>-0.268421</td>\n",
       "      <td>0.330850</td>\n",
       "      <td>-0.599224</td>\n",
       "      <td>0.000623</td>\n",
       "      <td>12.000000</td>\n",
       "      <td>13.000000</td>\n",
       "    </tr>\n",
       "    <tr>\n",
       "      <th>75%</th>\n",
       "      <td>NaN</td>\n",
       "      <td>6.000000</td>\n",
       "      <td>8.618100e-01</td>\n",
       "      <td>2.103745e+06</td>\n",
       "      <td>0.0</td>\n",
       "      <td>0.100080</td>\n",
       "      <td>0.500000</td>\n",
       "      <td>6.363600e+05</td>\n",
       "      <td>0.0</td>\n",
       "      <td>0.0</td>\n",
       "      <td>0.0</td>\n",
       "      <td>5609.000000</td>\n",
       "      <td>90.000000</td>\n",
       "      <td>1.306824</td>\n",
       "      <td>1.620213</td>\n",
       "      <td>-0.119571</td>\n",
       "      <td>1.728536</td>\n",
       "      <td>2.185340</td>\n",
       "      <td>-0.599224</td>\n",
       "      <td>0.305125</td>\n",
       "      <td>1.306824</td>\n",
       "      <td>1.620213</td>\n",
       "      <td>-0.119571</td>\n",
       "      <td>1.728536</td>\n",
       "      <td>2.185340</td>\n",
       "      <td>-0.599224</td>\n",
       "      <td>0.305125</td>\n",
       "      <td>12.500000</td>\n",
       "      <td>13.500000</td>\n",
       "    </tr>\n",
       "    <tr>\n",
       "      <th>max</th>\n",
       "      <td>NaN</td>\n",
       "      <td>7.000000</td>\n",
       "      <td>8.618100e-01</td>\n",
       "      <td>3.738690e+06</td>\n",
       "      <td>0.0</td>\n",
       "      <td>0.172210</td>\n",
       "      <td>1.000000</td>\n",
       "      <td>1.248847e+06</td>\n",
       "      <td>0.0</td>\n",
       "      <td>0.0</td>\n",
       "      <td>0.0</td>\n",
       "      <td>7244.000000</td>\n",
       "      <td>120.000000</td>\n",
       "      <td>1.454822</td>\n",
       "      <td>2.627451</td>\n",
       "      <td>-0.119571</td>\n",
       "      <td>3.725494</td>\n",
       "      <td>4.039831</td>\n",
       "      <td>-0.599224</td>\n",
       "      <td>0.609627</td>\n",
       "      <td>1.454822</td>\n",
       "      <td>2.627451</td>\n",
       "      <td>-0.119571</td>\n",
       "      <td>3.725494</td>\n",
       "      <td>4.039831</td>\n",
       "      <td>-0.599224</td>\n",
       "      <td>0.609627</td>\n",
       "      <td>13.000000</td>\n",
       "      <td>14.000000</td>\n",
       "    </tr>\n",
       "  </tbody>\n",
       "</table>\n",
       "</div>"
      ],
      "text/plain": [
       "       Location_RTA  Vehicle_Age  Colour_Vehicle           IDV  TPPD_Statutory_Cover_only  Place_Accident  OD_Total_Loss  DRV_CLAIM_AMT  DRV_CLAIM_STATUS  _AntiTheft  No_Claim_Bonus  Net_OD_Premium  claim_processing_time  PT_Veh_Age    PT_IDV  PT_Stat_Cover  PT_OD_Loss  PT_DRV_CLM_AMT  PT_No_Claim_Bonus  PT_Net_OD_Premium  sc_Veh_Age    sc_IDV  sc_Stat_Cover  sc_OD_Loss  sc_DRV_CLM_AMT  sc_No_Claim_Bonus  sc_Net_OD_Premium  en_Policy_Year  en_Claim_Year\n",
       "count           0.0     3.000000    3.000000e+00  3.000000e+00                        3.0        3.000000       3.000000   3.000000e+00               3.0         3.0             3.0        3.000000               3.000000    3.000000  3.000000       3.000000    3.000000        3.000000           3.000000           3.000000    3.000000  3.000000       3.000000    3.000000        3.000000           3.000000           3.000000        3.000000       3.000000\n",
       "mean            NaN     4.666667    8.618100e-01  1.409804e+06                        0.0        0.067890       0.333333   4.275733e+05               0.0         0.0             0.0     3841.333333              80.000000    0.991864  0.452710      -0.119571    1.062884        1.398948          -0.599224          -0.310384    0.991864  0.452710      -0.119571    1.062884        1.398948          -0.599224          -0.310384       11.666667      12.666667\n",
       "std             NaN     2.516611    1.359740e-16  2.029213e+06                        0.0        0.091166       0.577350   7.112777e+05               0.0         0.0             0.0     3470.902092              34.641016    0.565245  2.259141       0.000000    2.305888        2.300950           0.000000           1.108726    0.565245  2.259141       0.000000    2.305888        2.300950           0.000000           1.108726        1.527525       1.527525\n",
       "min             NaN     2.000000    8.618100e-01  2.192300e+04                        0.0        0.003510       0.000000   1.000000e+04               0.0         0.0             0.0      306.000000              60.000000    0.361945 -1.882296      -0.119571   -0.268421       -0.173836          -0.599224          -1.541401    0.361945 -1.882296      -0.119571   -0.268421       -0.173836          -0.599224          -1.541401       10.000000      11.000000\n",
       "25%             NaN     3.500000    8.618100e-01  2.453615e+05                        0.0        0.015730       0.000000   1.693650e+04               0.0         0.0             0.0     2140.000000              60.000000    0.760385 -0.634661      -0.119571   -0.268421        0.078507          -0.599224          -0.770389    0.760385 -0.634661      -0.119571   -0.268421        0.078507          -0.599224          -0.770389       11.000000      12.000000\n",
       "50%             NaN     5.000000    8.618100e-01  4.688000e+05                        0.0        0.027950       0.000000   2.387300e+04               0.0         0.0             0.0     3974.000000              60.000000    1.158826  0.612974      -0.119571   -0.268421        0.330850          -0.599224           0.000623    1.158826  0.612974      -0.119571   -0.268421        0.330850          -0.599224           0.000623       12.000000      13.000000\n",
       "75%             NaN     6.000000    8.618100e-01  2.103745e+06                        0.0        0.100080       0.500000   6.363600e+05               0.0         0.0             0.0     5609.000000              90.000000    1.306824  1.620213      -0.119571    1.728536        2.185340          -0.599224           0.305125    1.306824  1.620213      -0.119571    1.728536        2.185340          -0.599224           0.305125       12.500000      13.500000\n",
       "max             NaN     7.000000    8.618100e-01  3.738690e+06                        0.0        0.172210       1.000000   1.248847e+06               0.0         0.0             0.0     7244.000000             120.000000    1.454822  2.627451      -0.119571    3.725494        4.039831          -0.599224           0.609627    1.454822  2.627451      -0.119571    3.725494        4.039831          -0.599224           0.609627       13.000000      14.000000"
      ]
     },
     "execution_count": 121,
     "metadata": {},
     "output_type": "execute_result"
    }
   ],
   "source": [
    "df_new_clusters[df_new_clusters.labels==2].describe()"
   ]
  },
  {
   "cell_type": "markdown",
   "id": "061220cd",
   "metadata": {},
   "source": [
    "-For the above 3 records the mean age of vehicle and IDV is also high\n",
    "\n",
    "-These claims should be considered as severity"
   ]
  },
  {
   "cell_type": "markdown",
   "id": "bffb35e8",
   "metadata": {},
   "source": [
    "**Principal Component Analysis**"
   ]
  },
  {
   "cell_type": "code",
   "execution_count": 123,
   "id": "39e88493",
   "metadata": {},
   "outputs": [],
   "source": [
    "from sklearn.decomposition import PCA\n"
   ]
  },
  {
   "cell_type": "code",
   "execution_count": 124,
   "id": "390ad8e9",
   "metadata": {},
   "outputs": [],
   "source": [
    "pca_ins = PCA().fit(df_new)\n"
   ]
  },
  {
   "cell_type": "code",
   "execution_count": 125,
   "id": "ca0f0ff3",
   "metadata": {},
   "outputs": [
    {
     "data": {
      "text/plain": [
       "array([2.86297161e+02, 3.98127015e+01, 1.96114917e+01, 8.35848147e+00,\n",
       "       6.34646207e+00, 5.18087762e+00, 2.08206077e+00, 1.50097691e+00,\n",
       "       1.44853502e+00, 1.05805521e+00, 1.00774288e+00, 9.75958014e-01,\n",
       "       8.98263017e-01, 7.80371747e-01, 6.67443137e-01, 6.23689073e-01,\n",
       "       4.91192358e-01, 4.06301672e-01, 2.45891111e-01, 1.97417304e-01,\n",
       "       1.67586825e-01, 1.37196046e-01, 7.35230520e-02, 5.70747968e-02,\n",
       "       3.50377532e-02, 5.13787050e-03, 3.55293961e-03])"
      ]
     },
     "execution_count": 125,
     "metadata": {},
     "output_type": "execute_result"
    }
   ],
   "source": [
    "pca_ins.explained_variance_"
   ]
  },
  {
   "cell_type": "code",
   "execution_count": 127,
   "id": "b9479294",
   "metadata": {},
   "outputs": [
    {
     "data": {
      "text/plain": [
       "array([[-4.21799427e-03,  1.32732198e-03,  1.23549066e-04,\n",
       "         2.40463992e-03, -8.78236961e-03, -2.99892909e-02,\n",
       "         1.35373384e-03, -2.53382891e-03, -9.46105041e-05,\n",
       "        -1.04036315e-02, -3.54686321e-03,  1.15737642e-02,\n",
       "         2.86782740e-03,  2.09850623e-03, -2.68922715e-04,\n",
       "        -1.75769064e-04,  9.99084631e-01, -2.86906941e-03,\n",
       "         7.17579730e-03, -1.17804723e-02,  2.73019483e-03,\n",
       "         1.24257064e-02, -2.64854038e-03, -2.04227198e-03,\n",
       "        -1.06012558e-02,  6.73435515e-04,  8.24128189e-03],\n",
       "       [-3.61745737e-04,  9.99980002e-01, -6.50503976e-07,\n",
       "         4.15732706e-03,  2.38284451e-03, -6.74142485e-05,\n",
       "         1.25980973e-04, -5.20282996e-05, -9.02784367e-04,\n",
       "         2.14124789e-04,  4.41044550e-04,  1.33696043e-03,\n",
       "        -8.80053058e-04,  8.44757835e-04, -1.46454022e-03,\n",
       "         4.23012178e-05, -1.33431734e-03, -2.22664629e-04,\n",
       "         8.68172742e-04,  5.78742498e-04, -1.29697507e-04,\n",
       "         1.00637114e-03,  1.58747117e-03, -4.87426631e-04,\n",
       "        -2.98913124e-04, -1.49297991e-03, -1.17427831e-03],\n",
       "       [-9.48054583e-03, -3.05861078e-03, -8.69741636e-04,\n",
       "         5.38860729e-01,  2.32028764e-01,  7.85001910e-01,\n",
       "         5.42865880e-03,  9.95034032e-02, -2.58313632e-02,\n",
       "         1.03739963e-02,  2.40130675e-02, -1.43842922e-02,\n",
       "        -3.38738178e-02,  2.73285108e-04, -6.52122880e-02,\n",
       "         7.83581176e-04,  2.72206340e-02, -5.73651129e-03,\n",
       "         2.95958072e-02,  1.05107422e-01, -1.26472297e-02,\n",
       "        -1.67829661e-02,  6.95273422e-02,  2.36148593e-02,\n",
       "         5.55480147e-02, -2.21456699e-02, -2.16217449e-02],\n",
       "       [ 4.96070717e-02,  3.47411407e-03, -7.85013800e-04,\n",
       "        -3.28082930e-01, -7.46142242e-02,  3.06052795e-01,\n",
       "        -6.87212352e-03, -1.96165046e-02,  5.36935465e-02,\n",
       "        -7.78164718e-02, -3.32873101e-02, -1.68244564e-01,\n",
       "         2.22566598e-01, -1.01859820e-01,  7.99074689e-01,\n",
       "        -2.99399615e-03,  1.35954897e-02,  2.75732001e-02,\n",
       "        -2.90454029e-02,  1.25891421e-01, -5.68023274e-02,\n",
       "        -4.38019564e-02, -1.79915267e-02, -9.21920524e-02,\n",
       "         1.37196373e-01,  3.03278720e-02,  4.55948031e-02],\n",
       "       [-6.31422986e-04, -2.02304487e-03, -7.72882846e-05,\n",
       "         7.15660220e-01, -1.01855920e-02, -3.97058489e-01,\n",
       "        -6.88597919e-03, -3.59454473e-02,  1.78015126e-02,\n",
       "        -1.84423056e-02, -2.33328464e-02, -1.46777309e-01,\n",
       "         8.33373461e-02, -5.55062608e-02,  4.45288309e-01,\n",
       "        -7.17796931e-04, -1.72668049e-02,  4.84871278e-03,\n",
       "        -8.25702557e-02, -1.71148201e-01,  2.79465666e-02,\n",
       "         9.28375328e-02, -3.34909377e-02, -3.64834873e-02,\n",
       "        -2.18908795e-01, -2.60550794e-02, -2.81134491e-02],\n",
       "       [-3.25381517e-02,  1.71113751e-03,  4.43542079e-04,\n",
       "        -3.70440561e-02, -9.43813706e-02, -4.44939467e-03,\n",
       "        -1.25446641e-02,  1.10572122e-01,  6.61713626e-02,\n",
       "        -1.15284215e-01, -2.13023953e-02, -8.48018225e-01,\n",
       "        -2.66282716e-01, -2.70236510e-01, -1.60294129e-01,\n",
       "         8.67390403e-04,  1.01519970e-02, -2.39073480e-02,\n",
       "        -2.09497629e-03,  1.11804306e-02, -4.14254140e-02,\n",
       "        -5.45448780e-02, -6.44463203e-03,  2.35801658e-01,\n",
       "         9.70940195e-03,  7.89882112e-02,  4.35324311e-02],\n",
       "       [ 4.40868824e-03,  4.24913877e-05, -2.70012250e-04,\n",
       "         1.59816269e-02,  2.17390895e-03,  8.32871339e-03,\n",
       "         9.10961541e-03, -1.37782347e-01,  1.21092612e-04,\n",
       "        -5.52043202e-02, -2.28454103e-02, -3.06307036e-01,\n",
       "         7.76002338e-01, -2.03607307e-02, -3.29776026e-01,\n",
       "        -1.69657608e-03,  7.31483038e-04, -7.52148269e-03,\n",
       "        -8.29237869e-02,  2.93708352e-02, -9.23635161e-03,\n",
       "         7.88225493e-02,  6.31965040e-02, -3.73558730e-01,\n",
       "         1.51157836e-02, -8.96967704e-02, -7.70256619e-02],\n",
       "       [ 3.86457182e-03, -1.97551518e-03,  5.80761722e-04,\n",
       "        -1.35832603e-01,  3.27005445e-01, -3.59786439e-02,\n",
       "         2.28243747e-03, -1.64504498e-01, -1.02117594e-01,\n",
       "         4.25327270e-01,  9.51975153e-02, -2.67034347e-01,\n",
       "        -1.95880712e-01,  2.89545468e-01,  1.20229305e-01,\n",
       "         2.48728296e-03,  8.35075836e-03,  4.29225435e-02,\n",
       "         1.43383740e-02, -1.15190943e-02,  1.65428280e-01,\n",
       "         3.42285774e-01,  3.75525818e-01, -7.45729259e-02,\n",
       "         4.52756045e-02, -2.77883647e-01, -2.55424499e-01],\n",
       "       [-8.08077902e-02, -9.64857264e-04,  1.40115197e-03,\n",
       "        -7.02794059e-02,  1.49958959e-02, -6.93486443e-03,\n",
       "         6.12449157e-02,  2.81167841e-01,  5.29779661e-04,\n",
       "        -6.00897018e-01, -1.18860290e-01,  1.19880047e-01,\n",
       "        -7.02436596e-02, -3.68523020e-02,  6.01836324e-03,\n",
       "        -1.79061001e-03, -5.53084888e-03, -1.30445941e-01,\n",
       "        -3.77919448e-01,  8.27107588e-02, -4.59711287e-02,\n",
       "         3.52191482e-01,  2.16701250e-01,  7.28338450e-02,\n",
       "        -4.37476523e-02, -2.83599194e-01, -2.86480189e-01],\n",
       "       [ 1.62633762e-02,  7.59243885e-04, -1.25535149e-03,\n",
       "         6.97127964e-02, -6.82896396e-01,  1.68235494e-01,\n",
       "        -3.63749807e-02, -2.29042054e-01,  5.37446563e-02,\n",
       "         1.53348706e-01,  2.94255664e-02,  1.12728306e-01,\n",
       "        -5.91460863e-02, -2.70496126e-01, -5.06435368e-02,\n",
       "        -2.03039348e-03, -4.61767888e-03,  4.29729324e-02,\n",
       "        -7.20159622e-02,  1.30603608e-02,  2.95501762e-01,\n",
       "         3.33814538e-01,  3.27088267e-01,  3.08975496e-03,\n",
       "        -2.39521512e-02,  9.63115057e-02,  6.63479800e-02],\n",
       "       [ 3.82816224e-02,  1.13752677e-03, -2.48287371e-03,\n",
       "         3.81727003e-02, -2.17978832e-01,  3.22467026e-02,\n",
       "         2.54372080e-02,  1.65619019e-01, -2.37557681e-02,\n",
       "         4.16194310e-02,  9.67632091e-03, -1.29473030e-01,\n",
       "        -1.27003999e-02,  5.08611403e-01, -2.37268521e-03,\n",
       "         3.91291310e-03,  6.64783115e-03,  1.56964876e-02,\n",
       "        -4.60388834e-01,  1.74867923e-01,  5.22786537e-01,\n",
       "        -2.14579258e-01, -2.78922237e-01, -1.76332895e-03,\n",
       "         4.38376452e-02, -8.68862059e-03,  2.10271737e-02],\n",
       "       [ 7.11436021e-02, -3.79695335e-04, -2.26250165e-03,\n",
       "         1.36967003e-01, -5.80219512e-02, -1.52997008e-01,\n",
       "        -1.20549090e-02, -1.21731128e-01,  4.79989918e-02,\n",
       "         2.08036321e-01,  1.28539635e-02,  2.55711820e-02,\n",
       "        -4.21059059e-02,  7.43562280e-02, -2.89176871e-02,\n",
       "         5.27308525e-05,  1.08188842e-02,  6.62894899e-02,\n",
       "        -4.63655373e-01,  4.04513750e-01, -5.61010217e-01,\n",
       "        -1.24538121e-01,  2.51366780e-01,  6.10418955e-02,\n",
       "         2.84731408e-01,  1.01273876e-01,  9.10706061e-02],\n",
       "       [-1.09927807e-02, -1.53431860e-04, -2.11572367e-03,\n",
       "        -3.04316143e-02,  4.06108737e-01, -7.13030505e-02,\n",
       "        -9.83823337e-03, -2.89418189e-01, -1.11068984e-02,\n",
       "         2.79955176e-02,  4.48308503e-03,  1.09162130e-01,\n",
       "        -8.46225328e-02, -6.01785481e-01, -1.75382026e-02,\n",
       "        -2.44883734e-03,  7.76489804e-03, -1.93359983e-02,\n",
       "        -3.42550512e-01,  1.50073218e-01,  3.95747853e-01,\n",
       "        -2.20982122e-01, -6.22423280e-02, -7.39717041e-02,\n",
       "         6.55574933e-02, -4.94089523e-02, -2.80205568e-02],\n",
       "       [-5.96718099e-03, -6.69224490e-04,  2.95815170e-03,\n",
       "         6.08686902e-02,  1.47289791e-01, -2.22970572e-01,\n",
       "        -1.12010121e-02,  5.32176706e-01, -1.00920082e-02,\n",
       "        -1.55864978e-02,  5.33237179e-02,  4.15223094e-02,\n",
       "         1.70947627e-01, -5.88480323e-02,  3.46049504e-02,\n",
       "        -8.20414399e-04, -2.22020698e-03,  1.12133830e-02,\n",
       "         2.29998248e-01,  1.93416029e-01,  3.15277148e-01,\n",
       "        -5.71938508e-02,  4.74583239e-01,  2.48778435e-02,\n",
       "         2.71052191e-01,  2.57992685e-01,  2.09087897e-01],\n",
       "       [ 6.23734712e-03, -4.23317076e-04,  2.77589671e-03,\n",
       "         7.68264381e-02, -2.71669753e-01, -7.15203396e-02,\n",
       "         1.97112141e-03,  3.67124001e-01,  2.31922171e-03,\n",
       "         2.89474300e-01,  1.56919400e-01,  4.72517629e-02,\n",
       "         1.37109912e-02, -2.77784069e-01, -2.85311110e-04,\n",
       "        -2.09337932e-03,  7.25838496e-03,  6.07155991e-02,\n",
       "         1.54299102e-01,  1.08869649e-01, -6.97496982e-02,\n",
       "        -1.14902021e-01, -2.36066712e-01, -6.36553161e-02,\n",
       "         2.88545817e-01, -5.23814476e-01, -3.42704824e-01],\n",
       "       [-1.06142888e-01, -1.17873506e-03,  3.20883643e-03,\n",
       "         1.35870258e-01, -1.64785386e-01, -7.86573476e-02,\n",
       "         4.96332248e-02, -4.18328209e-01, -1.50751014e-02,\n",
       "        -3.80311101e-01, -1.11938837e-01, -3.70349873e-02,\n",
       "        -1.72398526e-01,  1.89256406e-01,  2.21740833e-02,\n",
       "         3.66141017e-03, -1.51946591e-03, -1.59119561e-01,\n",
       "         3.58626199e-01,  1.81805714e-01,  9.60868534e-02,\n",
       "        -3.81164335e-01,  2.12909099e-01, -1.64350842e-01,\n",
       "         2.64953814e-01, -1.62887894e-01, -1.55136346e-01],\n",
       "       [-2.29662689e-02, -2.86445263e-04, -8.56318502e-04,\n",
       "         9.81343975e-02,  9.63475022e-02, -9.16370684e-02,\n",
       "         3.39445545e-02, -1.43642421e-01,  1.40806024e-02,\n",
       "        -9.28401614e-02, -7.25845172e-02, -1.22264465e-02,\n",
       "        -3.77777999e-02,  2.62320136e-02, -2.23616109e-02,\n",
       "        -4.55327286e-03, -5.86351912e-03, -1.89447615e-02,\n",
       "         1.47048149e-01,  2.50031550e-01,  6.11320817e-02,\n",
       "         5.83098182e-01, -4.61632946e-01,  1.69484966e-02,\n",
       "         5.04440894e-01,  1.76833220e-01,  7.81570270e-02],\n",
       "       [ 1.74331995e-01,  2.82895906e-04,  3.36831084e-04,\n",
       "         1.19304586e-02,  4.01956775e-02, -1.04806868e-02,\n",
       "         8.34754757e-03, -2.00518118e-01,  1.25715303e-01,\n",
       "         1.42551432e-02, -1.40585120e-01,  4.79923850e-02,\n",
       "         3.56376596e-01,  4.70995275e-02,  3.43316618e-03,\n",
       "         3.45540607e-03,  2.14896551e-03,  1.03237374e-01,\n",
       "         7.49898232e-02, -9.12561417e-03,  1.14002261e-01,\n",
       "        -5.91136980e-02,  4.48021683e-02,  8.21494723e-01,\n",
       "         7.44582476e-02, -1.57325947e-01, -1.41863184e-01],\n",
       "       [-6.64141307e-01, -2.57112824e-05,  9.96522326e-04,\n",
       "        -2.25046692e-02, -2.56936728e-02,  5.94248463e-03,\n",
       "         1.49874872e-01,  3.07751828e-02, -3.53332138e-02,\n",
       "         2.90353141e-01, -2.88475289e-01,  1.24807251e-02,\n",
       "         1.09067958e-01, -1.49526432e-02,  4.25713766e-02,\n",
       "         1.05819146e-02, -3.43068007e-03, -5.02641998e-01,\n",
       "         5.99219207e-03,  1.61009430e-01, -1.64009079e-02,\n",
       "         1.14755185e-02, -2.64936591e-02,  1.42208228e-01,\n",
       "        -1.29159447e-01, -9.54132117e-02,  1.60002043e-01],\n",
       "       [ 1.55845683e-01, -6.68063148e-04, -9.93514736e-03,\n",
       "        -1.82541934e-02,  5.27099888e-03, -4.76195075e-02,\n",
       "         9.84925498e-04,  6.87712924e-03,  5.32856481e-03,\n",
       "         1.18929096e-02,  1.47053170e-02, -6.43531108e-03,\n",
       "        -4.23359926e-03, -1.90249666e-02, -1.14529106e-03,\n",
       "        -2.56162054e-03,  1.28159701e-03,  9.03824804e-02,\n",
       "         2.35546234e-01,  7.23077951e-01,  1.22784575e-02,\n",
       "         6.33996037e-02, -8.01280726e-02, -9.34205036e-03,\n",
       "        -5.67784300e-01,  1.01677904e-01, -2.05501828e-01],\n",
       "       [ 2.61763504e-01, -2.27588614e-04, -4.47094515e-03,\n",
       "         7.34323914e-03,  3.57242912e-02, -1.29211854e-02,\n",
       "         2.80540793e-02,  4.56343109e-03,  1.02695982e-01,\n",
       "        -4.25147445e-02, -2.30098431e-01, -1.65096902e-02,\n",
       "        -7.00545931e-02,  6.46066267e-03, -3.30716561e-02,\n",
       "        -2.53826570e-03, -6.03790577e-03,  1.09671512e-01,\n",
       "         6.25951847e-02,  1.12757912e-01,  1.69537429e-02,\n",
       "         7.15070981e-02,  1.89869283e-02, -7.84689865e-02,\n",
       "        -9.14640787e-02, -5.73783764e-01,  6.92332730e-01],\n",
       "       [-3.26660539e-01, -3.70723447e-04, -1.74059012e-03,\n",
       "        -3.70424950e-03,  8.50800118e-03, -1.54363481e-02,\n",
       "        -1.66928560e-01, -1.29619017e-01, -7.23625523e-02,\n",
       "        -1.95232114e-01,  8.09925036e-01, -6.05063375e-03,\n",
       "         8.32846855e-02,  4.63794406e-02,  2.69748311e-02,\n",
       "        -3.75254472e-03, -2.67108346e-03,  3.07378426e-02,\n",
       "        -4.24149026e-04,  1.04431902e-01, -8.84935983e-03,\n",
       "         3.93858580e-02, -2.20725048e-02,  1.70837487e-01,\n",
       "        -5.54222627e-02, -1.74101197e-01,  2.50119355e-01],\n",
       "       [-1.94570704e-01,  2.14811307e-04,  7.17074223e-04,\n",
       "        -3.08796301e-03,  6.00581929e-02,  4.42204993e-03,\n",
       "        -7.27670433e-01,  3.03420323e-02,  6.23508479e-01,\n",
       "         2.23360007e-02, -1.31049853e-01,  2.44962529e-02,\n",
       "        -3.10592007e-02,  7.15211915e-02, -1.80223406e-02,\n",
       "        -1.60842251e-02,  8.48104196e-04,  3.51735616e-02,\n",
       "         4.47556244e-03,  1.36718289e-02,  3.11083927e-02,\n",
       "         6.65217979e-03, -4.19180919e-03, -8.05404082e-02,\n",
       "        -2.26774396e-03, -1.66294993e-02, -7.16836772e-02],\n",
       "       [ 6.34070311e-02, -2.28465536e-04,  1.28713493e-02,\n",
       "         3.84516482e-03, -5.45553292e-02, -4.60581244e-03,\n",
       "        -6.30513778e-01,  5.24822383e-03, -7.32330665e-01,\n",
       "        -1.56808796e-02, -2.08492327e-01, -1.54344412e-02,\n",
       "         3.12618880e-02, -3.30728796e-02,  1.04599080e-02,\n",
       "         1.20560391e-04,  8.15225251e-05, -5.36903317e-02,\n",
       "        -3.51875769e-03,  3.34083338e-02, -2.38131210e-02,\n",
       "        -3.87152219e-04, -1.94071795e-02,  7.19147767e-02,\n",
       "         1.96804271e-02, -3.39056919e-02,  3.34783850e-02],\n",
       "       [ 5.08054256e-01,  3.65798603e-05,  1.18549506e-02,\n",
       "         2.24781773e-03,  3.45138134e-03, -2.43784592e-03,\n",
       "        -1.06998717e-01,  3.63818074e-03,  1.29768647e-01,\n",
       "         5.58639677e-02,  2.33270897e-01, -1.70923197e-04,\n",
       "         1.07547132e-02,  3.13962900e-03,  4.45888197e-03,\n",
       "         1.71609871e-02,  8.49304283e-04, -8.08818211e-01,\n",
       "         6.79836269e-05, -1.17151347e-02, -3.97364688e-03,\n",
       "         2.59996926e-02, -8.89516159e-03,  1.45234481e-02,\n",
       "         5.18724320e-03,  4.81069688e-03,  9.09875082e-03],\n",
       "       [-3.20648458e-03,  5.46910682e-06,  9.99759586e-01,\n",
       "        -6.29904687e-05,  1.08988941e-03,  1.28299863e-03,\n",
       "         9.40576628e-03, -2.68875123e-03,  8.03597593e-03,\n",
       "         6.13951669e-04,  7.85673244e-04,  8.99742395e-05,\n",
       "        -6.58723819e-04,  3.56751194e-04, -1.87024018e-04,\n",
       "        -1.81262145e-03, -8.20981891e-05,  1.28119647e-02,\n",
       "        -2.01682629e-03,  7.92182153e-03,  6.65203743e-04,\n",
       "         1.36871615e-03, -2.50723352e-03, -1.28833352e-03,\n",
       "        -7.34374012e-03,  7.72159389e-04,  2.59369898e-03],\n",
       "       [-5.41956199e-03, -3.21696433e-05,  1.55751879e-03,\n",
       "        -4.82879712e-04,  1.12786279e-03, -4.30745173e-04,\n",
       "        -1.20753241e-02,  1.01786568e-03,  8.52999591e-03,\n",
       "        -5.14497977e-03, -1.75191848e-04,  1.73394068e-03,\n",
       "         6.42070196e-05, -4.91490852e-03,  9.48646489e-04,\n",
       "         9.99602280e-01,  1.25470313e-04,  2.04364173e-02,\n",
       "         1.95384385e-04,  2.22458330e-03, -6.27597418e-04,\n",
       "         4.89690040e-03, -1.99471189e-03, -5.93205791e-03,\n",
       "         1.18723813e-03,  3.16760896e-05,  1.03845644e-04]])"
      ]
     },
     "execution_count": 127,
     "metadata": {},
     "output_type": "execute_result"
    }
   ],
   "source": [
    "pca_ins.components_"
   ]
  },
  {
   "cell_type": "code",
   "execution_count": 128,
   "id": "ddba4729",
   "metadata": {},
   "outputs": [
    {
     "data": {
      "text/plain": [
       "27"
      ]
     },
     "execution_count": 128,
     "metadata": {},
     "output_type": "execute_result"
    }
   ],
   "source": [
    "pca_ins.n_components_"
   ]
  },
  {
   "cell_type": "code",
   "execution_count": 129,
   "id": "a232b467",
   "metadata": {},
   "outputs": [
    {
     "data": {
      "text/plain": [
       "array([ 75.6,  86.1,  91.3,  93.5,  95.2,  96.6,  97.2,  97.6,  98. ,\n",
       "        98.3,  98.6,  98.9,  99.1,  99.3,  99.5,  99.7,  99.8,  99.9,\n",
       "       100. , 100.1, 100.1, 100.1, 100.1, 100.1, 100.1, 100.1, 100.1])"
      ]
     },
     "execution_count": 129,
     "metadata": {},
     "output_type": "execute_result"
    }
   ],
   "source": [
    "var=np.cumsum(np.round(pca_ins.explained_variance_ratio_,decimals=3)*100)\n",
    "var\n"
   ]
  },
  {
   "cell_type": "code",
   "execution_count": 130,
   "id": "61543db0",
   "metadata": {},
   "outputs": [
    {
     "data": {
      "text/html": [
       "<div>\n",
       "<style scoped>\n",
       "    .dataframe tbody tr th:only-of-type {\n",
       "        vertical-align: middle;\n",
       "    }\n",
       "\n",
       "    .dataframe tbody tr th {\n",
       "        vertical-align: top;\n",
       "    }\n",
       "\n",
       "    .dataframe thead th {\n",
       "        text-align: right;\n",
       "    }\n",
       "</style>\n",
       "<table border=\"1\" class=\"dataframe\">\n",
       "  <thead>\n",
       "    <tr style=\"text-align: right;\">\n",
       "      <th></th>\n",
       "      <th>0</th>\n",
       "      <th>1</th>\n",
       "    </tr>\n",
       "  </thead>\n",
       "  <tbody>\n",
       "    <tr>\n",
       "      <th>0</th>\n",
       "      <td>47.608031</td>\n",
       "      <td>-0.130676</td>\n",
       "    </tr>\n",
       "    <tr>\n",
       "      <th>1</th>\n",
       "      <td>47.601784</td>\n",
       "      <td>-0.133400</td>\n",
       "    </tr>\n",
       "    <tr>\n",
       "      <th>2</th>\n",
       "      <td>47.668273</td>\n",
       "      <td>-0.118753</td>\n",
       "    </tr>\n",
       "    <tr>\n",
       "      <th>3</th>\n",
       "      <td>47.678101</td>\n",
       "      <td>-0.129634</td>\n",
       "    </tr>\n",
       "    <tr>\n",
       "      <th>4</th>\n",
       "      <td>47.605031</td>\n",
       "      <td>-0.121058</td>\n",
       "    </tr>\n",
       "  </tbody>\n",
       "</table>\n",
       "</div>"
      ],
      "text/plain": [
       "           0         1\n",
       "0  47.608031 -0.130676\n",
       "1  47.601784 -0.133400\n",
       "2  47.668273 -0.118753\n",
       "3  47.678101 -0.129634\n",
       "4  47.605031 -0.121058"
      ]
     },
     "execution_count": 130,
     "metadata": {},
     "output_type": "execute_result"
    }
   ],
   "source": [
    "# Considering min of variance captured(above 80%), we are considering only 2 PCA dimensions \n",
    "# This reduces the dimension from 27 to 2\n",
    "\n",
    "# The 2 pca which the linear combination of 27 columns(features). It take the coefficients(of components) and\n",
    "# multiplies with scaled data(df_new) to get the final set of pc's\n",
    "\n",
    "pca_iris_new = PCA(n_components=2)\n",
    "data_reduced = pca_iris_new.fit_transform(df_new)\n",
    "data_reduced.transpose()\n",
    "pca_df= pd.DataFrame(data_reduced)\n",
    "pca_df.head()\n"
   ]
  },
  {
   "cell_type": "code",
   "execution_count": 131,
   "id": "e1282b3f",
   "metadata": {},
   "outputs": [
    {
     "data": {
      "text/html": [
       "<div>\n",
       "<style scoped>\n",
       "    .dataframe tbody tr th:only-of-type {\n",
       "        vertical-align: middle;\n",
       "    }\n",
       "\n",
       "    .dataframe tbody tr th {\n",
       "        vertical-align: top;\n",
       "    }\n",
       "\n",
       "    .dataframe thead th {\n",
       "        text-align: right;\n",
       "    }\n",
       "</style>\n",
       "<table border=\"1\" class=\"dataframe\">\n",
       "  <thead>\n",
       "    <tr style=\"text-align: right;\">\n",
       "      <th></th>\n",
       "      <th>PC0</th>\n",
       "      <th>PC1</th>\n",
       "    </tr>\n",
       "  </thead>\n",
       "  <tbody>\n",
       "    <tr>\n",
       "      <th>0</th>\n",
       "      <td>47.608031</td>\n",
       "      <td>-0.130676</td>\n",
       "    </tr>\n",
       "    <tr>\n",
       "      <th>1</th>\n",
       "      <td>47.601784</td>\n",
       "      <td>-0.133400</td>\n",
       "    </tr>\n",
       "    <tr>\n",
       "      <th>2</th>\n",
       "      <td>47.668273</td>\n",
       "      <td>-0.118753</td>\n",
       "    </tr>\n",
       "    <tr>\n",
       "      <th>3</th>\n",
       "      <td>47.678101</td>\n",
       "      <td>-0.129634</td>\n",
       "    </tr>\n",
       "    <tr>\n",
       "      <th>4</th>\n",
       "      <td>47.605031</td>\n",
       "      <td>-0.121058</td>\n",
       "    </tr>\n",
       "  </tbody>\n",
       "</table>\n",
       "</div>"
      ],
      "text/plain": [
       "         PC0       PC1\n",
       "0  47.608031 -0.130676\n",
       "1  47.601784 -0.133400\n",
       "2  47.668273 -0.118753\n",
       "3  47.678101 -0.129634\n",
       "4  47.605031 -0.121058"
      ]
     },
     "execution_count": 131,
     "metadata": {},
     "output_type": "execute_result"
    }
   ],
   "source": [
    "pca_df.columns=['PC0','PC1',]\n",
    "pca_df.head()\n"
   ]
  },
  {
   "cell_type": "code",
   "execution_count": 132,
   "id": "493d85ab",
   "metadata": {},
   "outputs": [
    {
     "data": {
      "text/html": [
       "<div>\n",
       "<style scoped>\n",
       "    .dataframe tbody tr th:only-of-type {\n",
       "        vertical-align: middle;\n",
       "    }\n",
       "\n",
       "    .dataframe tbody tr th {\n",
       "        vertical-align: top;\n",
       "    }\n",
       "\n",
       "    .dataframe thead th {\n",
       "        text-align: right;\n",
       "    }\n",
       "</style>\n",
       "<table border=\"1\" class=\"dataframe\">\n",
       "  <thead>\n",
       "    <tr style=\"text-align: right;\">\n",
       "      <th></th>\n",
       "      <th>PC0</th>\n",
       "      <th>PC1</th>\n",
       "    </tr>\n",
       "  </thead>\n",
       "  <tbody>\n",
       "    <tr>\n",
       "      <th>PC0</th>\n",
       "      <td>1.000000e+00</td>\n",
       "      <td>-1.336421e-17</td>\n",
       "    </tr>\n",
       "    <tr>\n",
       "      <th>PC1</th>\n",
       "      <td>-1.336421e-17</td>\n",
       "      <td>1.000000e+00</td>\n",
       "    </tr>\n",
       "  </tbody>\n",
       "</table>\n",
       "</div>"
      ],
      "text/plain": [
       "              PC0           PC1\n",
       "PC0  1.000000e+00 -1.336421e-17\n",
       "PC1 -1.336421e-17  1.000000e+00"
      ]
     },
     "execution_count": 132,
     "metadata": {},
     "output_type": "execute_result"
    }
   ],
   "source": [
    "corr = pca_df.corr()\n",
    "corr\n"
   ]
  },
  {
   "cell_type": "code",
   "execution_count": 133,
   "id": "b9781e46",
   "metadata": {},
   "outputs": [
    {
     "data": {
      "text/plain": [
       "<AxesSubplot:>"
      ]
     },
     "execution_count": 133,
     "metadata": {},
     "output_type": "execute_result"
    },
    {
     "data": {
      "image/png": "[encoded data removed]",
      "text/plain": [
       "<Figure size 576x396 with 2 Axes>"
      ]
     },
     "metadata": {},
     "output_type": "display_data"
    }
   ],
   "source": [
    "sns.heatmap(corr,annot=True, fmt='.2f',cmap='CMRmap',vmin=1,vmax=1)\n"
   ]
  },
  {
   "cell_type": "markdown",
   "id": "5a014753",
   "metadata": {},
   "source": [
    "## Model Building"
   ]
  },
  {
   "cell_type": "code",
   "execution_count": 134,
   "id": "5dea36c4",
   "metadata": {},
   "outputs": [
    {
     "data": {
      "text/html": [
       "<div>\n",
       "<style scoped>\n",
       "    .dataframe tbody tr th:only-of-type {\n",
       "        vertical-align: middle;\n",
       "    }\n",
       "\n",
       "    .dataframe tbody tr th {\n",
       "        vertical-align: top;\n",
       "    }\n",
       "\n",
       "    .dataframe thead th {\n",
       "        text-align: right;\n",
       "    }\n",
       "</style>\n",
       "<table border=\"1\" class=\"dataframe\">\n",
       "  <thead>\n",
       "    <tr style=\"text-align: right;\">\n",
       "      <th></th>\n",
       "      <th>Endorsement</th>\n",
       "      <th>Location_RTA</th>\n",
       "      <th>Policy_Code</th>\n",
       "      <th>Class_Code</th>\n",
       "      <th>Zone_Code</th>\n",
       "      <th>CC_PCC_GVW_Code</th>\n",
       "      <th>Colour_Vehicle</th>\n",
       "      <th>Permit_Code</th>\n",
       "      <th>Nature_Goods_Code</th>\n",
       "      <th>Road_Type_Code</th>\n",
       "      <th>Vehicle_Driven_By_Code</th>\n",
       "      <th>Driver_Exp_Code</th>\n",
       "      <th>Claims_History_Code</th>\n",
       "      <th>Driver_Qualification_Code</th>\n",
       "      <th>Incurred_Claims_Code</th>\n",
       "      <th>Place_Accident</th>\n",
       "      <th>TAC_NOL_Code</th>\n",
       "      <th>_AntiTheft</th>\n",
       "      <th>sc_Veh_Age</th>\n",
       "      <th>sc_IDV</th>\n",
       "      <th>sc_Stat_Cover</th>\n",
       "      <th>sc_OD_Loss</th>\n",
       "      <th>sc_DRV_CLM_AMT</th>\n",
       "      <th>sc_No_Claim_Bonus</th>\n",
       "      <th>sc_Net_OD_Premium</th>\n",
       "      <th>en_Policy_Year</th>\n",
       "      <th>en_Claim_Year</th>\n",
       "    </tr>\n",
       "  </thead>\n",
       "  <tbody>\n",
       "    <tr>\n",
       "      <th>0</th>\n",
       "      <td>0</td>\n",
       "      <td>0.00180</td>\n",
       "      <td>2</td>\n",
       "      <td>11</td>\n",
       "      <td>36</td>\n",
       "      <td>50</td>\n",
       "      <td>0.86181</td>\n",
       "      <td>1</td>\n",
       "      <td>2</td>\n",
       "      <td>3</td>\n",
       "      <td>1</td>\n",
       "      <td>6</td>\n",
       "      <td>4</td>\n",
       "      <td>2</td>\n",
       "      <td>2</td>\n",
       "      <td>0.00351</td>\n",
       "      <td>59</td>\n",
       "      <td>0</td>\n",
       "      <td>1.454822</td>\n",
       "      <td>-0.679118</td>\n",
       "      <td>-0.119571</td>\n",
       "      <td>-0.268421</td>\n",
       "      <td>-2.496671</td>\n",
       "      <td>-0.599224</td>\n",
       "      <td>0.235886</td>\n",
       "      <td>14</td>\n",
       "      <td>15</td>\n",
       "    </tr>\n",
       "    <tr>\n",
       "      <th>1</th>\n",
       "      <td>0</td>\n",
       "      <td>0.00261</td>\n",
       "      <td>2</td>\n",
       "      <td>11</td>\n",
       "      <td>36</td>\n",
       "      <td>50</td>\n",
       "      <td>0.86181</td>\n",
       "      <td>1</td>\n",
       "      <td>2</td>\n",
       "      <td>3</td>\n",
       "      <td>1</td>\n",
       "      <td>6</td>\n",
       "      <td>2</td>\n",
       "      <td>1</td>\n",
       "      <td>5</td>\n",
       "      <td>0.00122</td>\n",
       "      <td>59</td>\n",
       "      <td>0</td>\n",
       "      <td>1.454822</td>\n",
       "      <td>-0.814440</td>\n",
       "      <td>-0.119571</td>\n",
       "      <td>-0.268421</td>\n",
       "      <td>-2.496671</td>\n",
       "      <td>-0.599224</td>\n",
       "      <td>0.160604</td>\n",
       "      <td>14</td>\n",
       "      <td>15</td>\n",
       "    </tr>\n",
       "    <tr>\n",
       "      <th>2</th>\n",
       "      <td>0</td>\n",
       "      <td>0.00713</td>\n",
       "      <td>2</td>\n",
       "      <td>14</td>\n",
       "      <td>36</td>\n",
       "      <td>47</td>\n",
       "      <td>0.86181</td>\n",
       "      <td>1</td>\n",
       "      <td>2</td>\n",
       "      <td>3</td>\n",
       "      <td>1</td>\n",
       "      <td>1</td>\n",
       "      <td>5</td>\n",
       "      <td>2</td>\n",
       "      <td>2</td>\n",
       "      <td>0.00624</td>\n",
       "      <td>59</td>\n",
       "      <td>0</td>\n",
       "      <td>0.361945</td>\n",
       "      <td>-1.653832</td>\n",
       "      <td>-0.119571</td>\n",
       "      <td>-0.268421</td>\n",
       "      <td>-0.938658</td>\n",
       "      <td>-0.599224</td>\n",
       "      <td>-1.513020</td>\n",
       "      <td>14</td>\n",
       "      <td>15</td>\n",
       "    </tr>\n",
       "    <tr>\n",
       "      <th>3</th>\n",
       "      <td>0</td>\n",
       "      <td>0.00586</td>\n",
       "      <td>2</td>\n",
       "      <td>14</td>\n",
       "      <td>35</td>\n",
       "      <td>47</td>\n",
       "      <td>0.86181</td>\n",
       "      <td>1</td>\n",
       "      <td>2</td>\n",
       "      <td>3</td>\n",
       "      <td>1</td>\n",
       "      <td>1</td>\n",
       "      <td>6</td>\n",
       "      <td>2</td>\n",
       "      <td>8</td>\n",
       "      <td>0.00305</td>\n",
       "      <td>59</td>\n",
       "      <td>0</td>\n",
       "      <td>0.707797</td>\n",
       "      <td>-1.650082</td>\n",
       "      <td>-0.119571</td>\n",
       "      <td>-0.268421</td>\n",
       "      <td>-0.517881</td>\n",
       "      <td>-0.599224</td>\n",
       "      <td>-1.432140</td>\n",
       "      <td>13</td>\n",
       "      <td>15</td>\n",
       "    </tr>\n",
       "    <tr>\n",
       "      <th>4</th>\n",
       "      <td>0</td>\n",
       "      <td>0.00513</td>\n",
       "      <td>2</td>\n",
       "      <td>11</td>\n",
       "      <td>36</td>\n",
       "      <td>50</td>\n",
       "      <td>0.86181</td>\n",
       "      <td>1</td>\n",
       "      <td>2</td>\n",
       "      <td>3</td>\n",
       "      <td>1</td>\n",
       "      <td>6</td>\n",
       "      <td>2</td>\n",
       "      <td>4</td>\n",
       "      <td>1</td>\n",
       "      <td>0.00403</td>\n",
       "      <td>59</td>\n",
       "      <td>0</td>\n",
       "      <td>0.961089</td>\n",
       "      <td>-0.416020</td>\n",
       "      <td>-0.119571</td>\n",
       "      <td>-0.268421</td>\n",
       "      <td>-2.496671</td>\n",
       "      <td>-0.599224</td>\n",
       "      <td>-0.290563</td>\n",
       "      <td>13</td>\n",
       "      <td>15</td>\n",
       "    </tr>\n",
       "  </tbody>\n",
       "</table>\n",
       "</div>"
      ],
      "text/plain": [
       "   Endorsement  Location_RTA  Policy_Code  Class_Code  Zone_Code  CC_PCC_GVW_Code  Colour_Vehicle  Permit_Code  Nature_Goods_Code  Road_Type_Code  Vehicle_Driven_By_Code  Driver_Exp_Code  Claims_History_Code  Driver_Qualification_Code  Incurred_Claims_Code  Place_Accident  TAC_NOL_Code  _AntiTheft  sc_Veh_Age    sc_IDV  sc_Stat_Cover  sc_OD_Loss  sc_DRV_CLM_AMT  sc_No_Claim_Bonus  sc_Net_OD_Premium  en_Policy_Year  en_Claim_Year\n",
       "0            0       0.00180            2          11         36               50         0.86181            1                  2               3                       1                6                    4                          2                     2         0.00351            59           0    1.454822 -0.679118      -0.119571   -0.268421       -2.496671          -0.599224           0.235886              14             15\n",
       "1            0       0.00261            2          11         36               50         0.86181            1                  2               3                       1                6                    2                          1                     5         0.00122            59           0    1.454822 -0.814440      -0.119571   -0.268421       -2.496671          -0.599224           0.160604              14             15\n",
       "2            0       0.00713            2          14         36               47         0.86181            1                  2               3                       1                1                    5                          2                     2         0.00624            59           0    0.361945 -1.653832      -0.119571   -0.268421       -0.938658          -0.599224          -1.513020              14             15\n",
       "3            0       0.00586            2          14         35               47         0.86181            1                  2               3                       1                1                    6                          2                     8         0.00305            59           0    0.707797 -1.650082      -0.119571   -0.268421       -0.517881          -0.599224          -1.432140              13             15\n",
       "4            0       0.00513            2          11         36               50         0.86181            1                  2               3                       1                6                    2                          4                     1         0.00403            59           0    0.961089 -0.416020      -0.119571   -0.268421       -2.496671          -0.599224          -0.290563              13             15"
      ]
     },
     "execution_count": 134,
     "metadata": {},
     "output_type": "execute_result"
    }
   ],
   "source": [
    "df_new.head()"
   ]
  },
  {
   "cell_type": "code",
   "execution_count": 135,
   "id": "8eb2a3c4",
   "metadata": {},
   "outputs": [],
   "source": [
    "df_new.drop(['sc_IDV','Policy_Code','_AntiTheft'],axis=1,inplace=True)\n",
    "\n"
   ]
  },
  {
   "cell_type": "code",
   "execution_count": 137,
   "id": "92b8f95b",
   "metadata": {},
   "outputs": [],
   "source": [
    "x = df_new # independent variables\n",
    "y = df['DRV_CLAIM_STATUS'] # dependent variables"
   ]
  },
  {
   "cell_type": "code",
   "execution_count": 138,
   "id": "7ed60d0f",
   "metadata": {},
   "outputs": [
    {
     "data": {
      "text/plain": [
       "0    0.948457\n",
       "1    0.051543\n",
       "Name: DRV_CLAIM_STATUS, dtype: float64"
      ]
     },
     "execution_count": 138,
     "metadata": {},
     "output_type": "execute_result"
    }
   ],
   "source": [
    "y.value_counts(normalize=True)\n"
   ]
  },
  {
   "cell_type": "code",
   "execution_count": 139,
   "id": "d8a7e54f",
   "metadata": {},
   "outputs": [],
   "source": [
    "from sklearn.model_selection import train_test_split\n",
    "x_train,x_test,y_train,y_test= train_test_split(x,y,test_size=0.2,random_state=123)\n"
   ]
  },
  {
   "cell_type": "code",
   "execution_count": 140,
   "id": "97bf5d2e",
   "metadata": {},
   "outputs": [],
   "source": [
    "from sklearn.linear_model import LogisticRegression\n",
    "from sklearn.model_selection import cross_val_score,KFold\n",
    "from sklearn.ensemble import RandomForestClassifier\n",
    "from sklearn.ensemble import GradientBoostingClassifier\n",
    "from sklearn.preprocessing import StandardScaler\n",
    "from sklearn.pipeline import Pipeline\n",
    "from sklearn.model_selection import GridSearchCV, RandomizedSearchCV\n",
    "from sklearn.metrics import *\n",
    "from xgboost import XGBClassifier\n",
    "from sklearn.neighbors import KNeighborsClassifier\n",
    "from sklearn.tree import DecisionTreeClassifier\n",
    "from sklearn.discriminant_analysis import LinearDiscriminantAnalysis as LDA\n"
   ]
  },
  {
   "cell_type": "markdown",
   "id": "42c0cb67",
   "metadata": {},
   "source": [
    "**Using Logit**"
   ]
  },
  {
   "cell_type": "code",
   "execution_count": 141,
   "id": "a22b4562",
   "metadata": {},
   "outputs": [],
   "source": [
    "import statsmodels.formula.api as SM"
   ]
  },
  {
   "cell_type": "code",
   "execution_count": 142,
   "id": "340ef52f",
   "metadata": {},
   "outputs": [],
   "source": [
    "ovl_ds = [x, y]\n"
   ]
  },
  {
   "cell_type": "code",
   "execution_count": 143,
   "id": "f4cad8cd",
   "metadata": {},
   "outputs": [
    {
     "data": {
      "text/html": [
       "<div>\n",
       "<style scoped>\n",
       "    .dataframe tbody tr th:only-of-type {\n",
       "        vertical-align: middle;\n",
       "    }\n",
       "\n",
       "    .dataframe tbody tr th {\n",
       "        vertical-align: top;\n",
       "    }\n",
       "\n",
       "    .dataframe thead th {\n",
       "        text-align: right;\n",
       "    }\n",
       "</style>\n",
       "<table border=\"1\" class=\"dataframe\">\n",
       "  <thead>\n",
       "    <tr style=\"text-align: right;\">\n",
       "      <th></th>\n",
       "      <th>Endorsement</th>\n",
       "      <th>Location_RTA</th>\n",
       "      <th>Class_Code</th>\n",
       "      <th>Zone_Code</th>\n",
       "      <th>CC_PCC_GVW_Code</th>\n",
       "      <th>Colour_Vehicle</th>\n",
       "      <th>Permit_Code</th>\n",
       "      <th>Nature_Goods_Code</th>\n",
       "      <th>Road_Type_Code</th>\n",
       "      <th>Vehicle_Driven_By_Code</th>\n",
       "      <th>Driver_Exp_Code</th>\n",
       "      <th>Claims_History_Code</th>\n",
       "      <th>Driver_Qualification_Code</th>\n",
       "      <th>Incurred_Claims_Code</th>\n",
       "      <th>Place_Accident</th>\n",
       "      <th>TAC_NOL_Code</th>\n",
       "      <th>sc_Veh_Age</th>\n",
       "      <th>sc_Stat_Cover</th>\n",
       "      <th>sc_OD_Loss</th>\n",
       "      <th>sc_DRV_CLM_AMT</th>\n",
       "      <th>sc_No_Claim_Bonus</th>\n",
       "      <th>sc_Net_OD_Premium</th>\n",
       "      <th>en_Policy_Year</th>\n",
       "      <th>en_Claim_Year</th>\n",
       "      <th>DRV_CLAIM_STATUS</th>\n",
       "    </tr>\n",
       "  </thead>\n",
       "  <tbody>\n",
       "    <tr>\n",
       "      <th>0</th>\n",
       "      <td>0</td>\n",
       "      <td>0.00180</td>\n",
       "      <td>11</td>\n",
       "      <td>36</td>\n",
       "      <td>50</td>\n",
       "      <td>0.86181</td>\n",
       "      <td>1</td>\n",
       "      <td>2</td>\n",
       "      <td>3</td>\n",
       "      <td>1</td>\n",
       "      <td>6</td>\n",
       "      <td>4</td>\n",
       "      <td>2</td>\n",
       "      <td>2</td>\n",
       "      <td>0.00351</td>\n",
       "      <td>59</td>\n",
       "      <td>1.454822</td>\n",
       "      <td>-0.119571</td>\n",
       "      <td>-0.268421</td>\n",
       "      <td>-2.496671</td>\n",
       "      <td>-0.599224</td>\n",
       "      <td>0.235886</td>\n",
       "      <td>14</td>\n",
       "      <td>15</td>\n",
       "      <td>1</td>\n",
       "    </tr>\n",
       "    <tr>\n",
       "      <th>1</th>\n",
       "      <td>0</td>\n",
       "      <td>0.00261</td>\n",
       "      <td>11</td>\n",
       "      <td>36</td>\n",
       "      <td>50</td>\n",
       "      <td>0.86181</td>\n",
       "      <td>1</td>\n",
       "      <td>2</td>\n",
       "      <td>3</td>\n",
       "      <td>1</td>\n",
       "      <td>6</td>\n",
       "      <td>2</td>\n",
       "      <td>1</td>\n",
       "      <td>5</td>\n",
       "      <td>0.00122</td>\n",
       "      <td>59</td>\n",
       "      <td>1.454822</td>\n",
       "      <td>-0.119571</td>\n",
       "      <td>-0.268421</td>\n",
       "      <td>-2.496671</td>\n",
       "      <td>-0.599224</td>\n",
       "      <td>0.160604</td>\n",
       "      <td>14</td>\n",
       "      <td>15</td>\n",
       "      <td>1</td>\n",
       "    </tr>\n",
       "    <tr>\n",
       "      <th>2</th>\n",
       "      <td>0</td>\n",
       "      <td>0.00713</td>\n",
       "      <td>14</td>\n",
       "      <td>36</td>\n",
       "      <td>47</td>\n",
       "      <td>0.86181</td>\n",
       "      <td>1</td>\n",
       "      <td>2</td>\n",
       "      <td>3</td>\n",
       "      <td>1</td>\n",
       "      <td>1</td>\n",
       "      <td>5</td>\n",
       "      <td>2</td>\n",
       "      <td>2</td>\n",
       "      <td>0.00624</td>\n",
       "      <td>59</td>\n",
       "      <td>0.361945</td>\n",
       "      <td>-0.119571</td>\n",
       "      <td>-0.268421</td>\n",
       "      <td>-0.938658</td>\n",
       "      <td>-0.599224</td>\n",
       "      <td>-1.513020</td>\n",
       "      <td>14</td>\n",
       "      <td>15</td>\n",
       "      <td>0</td>\n",
       "    </tr>\n",
       "    <tr>\n",
       "      <th>3</th>\n",
       "      <td>0</td>\n",
       "      <td>0.00586</td>\n",
       "      <td>14</td>\n",
       "      <td>35</td>\n",
       "      <td>47</td>\n",
       "      <td>0.86181</td>\n",
       "      <td>1</td>\n",
       "      <td>2</td>\n",
       "      <td>3</td>\n",
       "      <td>1</td>\n",
       "      <td>1</td>\n",
       "      <td>6</td>\n",
       "      <td>2</td>\n",
       "      <td>8</td>\n",
       "      <td>0.00305</td>\n",
       "      <td>59</td>\n",
       "      <td>0.707797</td>\n",
       "      <td>-0.119571</td>\n",
       "      <td>-0.268421</td>\n",
       "      <td>-0.517881</td>\n",
       "      <td>-0.599224</td>\n",
       "      <td>-1.432140</td>\n",
       "      <td>13</td>\n",
       "      <td>15</td>\n",
       "      <td>0</td>\n",
       "    </tr>\n",
       "    <tr>\n",
       "      <th>4</th>\n",
       "      <td>0</td>\n",
       "      <td>0.00513</td>\n",
       "      <td>11</td>\n",
       "      <td>36</td>\n",
       "      <td>50</td>\n",
       "      <td>0.86181</td>\n",
       "      <td>1</td>\n",
       "      <td>2</td>\n",
       "      <td>3</td>\n",
       "      <td>1</td>\n",
       "      <td>6</td>\n",
       "      <td>2</td>\n",
       "      <td>4</td>\n",
       "      <td>1</td>\n",
       "      <td>0.00403</td>\n",
       "      <td>59</td>\n",
       "      <td>0.961089</td>\n",
       "      <td>-0.119571</td>\n",
       "      <td>-0.268421</td>\n",
       "      <td>-2.496671</td>\n",
       "      <td>-0.599224</td>\n",
       "      <td>-0.290563</td>\n",
       "      <td>13</td>\n",
       "      <td>15</td>\n",
       "      <td>1</td>\n",
       "    </tr>\n",
       "  </tbody>\n",
       "</table>\n",
       "</div>"
      ],
      "text/plain": [
       "   Endorsement  Location_RTA  Class_Code  Zone_Code  CC_PCC_GVW_Code  Colour_Vehicle  Permit_Code  Nature_Goods_Code  Road_Type_Code  Vehicle_Driven_By_Code  Driver_Exp_Code  Claims_History_Code  Driver_Qualification_Code  Incurred_Claims_Code  Place_Accident  TAC_NOL_Code  sc_Veh_Age  sc_Stat_Cover  sc_OD_Loss  sc_DRV_CLM_AMT  sc_No_Claim_Bonus  sc_Net_OD_Premium  en_Policy_Year  en_Claim_Year  DRV_CLAIM_STATUS\n",
       "0            0       0.00180          11         36               50         0.86181            1                  2               3                       1                6                    4                          2                     2         0.00351            59    1.454822      -0.119571   -0.268421       -2.496671          -0.599224           0.235886              14             15                 1\n",
       "1            0       0.00261          11         36               50         0.86181            1                  2               3                       1                6                    2                          1                     5         0.00122            59    1.454822      -0.119571   -0.268421       -2.496671          -0.599224           0.160604              14             15                 1\n",
       "2            0       0.00713          14         36               47         0.86181            1                  2               3                       1                1                    5                          2                     2         0.00624            59    0.361945      -0.119571   -0.268421       -0.938658          -0.599224          -1.513020              14             15                 0\n",
       "3            0       0.00586          14         35               47         0.86181            1                  2               3                       1                1                    6                          2                     8         0.00305            59    0.707797      -0.119571   -0.268421       -0.517881          -0.599224          -1.432140              13             15                 0\n",
       "4            0       0.00513          11         36               50         0.86181            1                  2               3                       1                6                    2                          4                     1         0.00403            59    0.961089      -0.119571   -0.268421       -2.496671          -0.599224          -0.290563              13             15                 1"
      ]
     },
     "execution_count": 143,
     "metadata": {},
     "output_type": "execute_result"
    }
   ],
   "source": [
    "df_ovlds = pd.concat(ovl_ds,axis=1,join='inner')\n",
    "df_ovlds.reset_index(drop=True,inplace=True)\n",
    "df_ovlds.head()\n"
   ]
  },
  {
   "cell_type": "code",
   "execution_count": 144,
   "id": "80d0e942",
   "metadata": {},
   "outputs": [
    {
     "name": "stdout",
     "output_type": "stream",
     "text": [
      "Optimization terminated successfully.\n",
      "         Current function value: 0.173626\n",
      "         Iterations 12\n"
     ]
    },
    {
     "data": {
      "text/html": [
       "<table class=\"simpletable\">\n",
       "<caption>Logit Regression Results</caption>\n",
       "<tr>\n",
       "  <th>Dep. Variable:</th>   <td>DRV_CLAIM_STATUS</td> <th>  No. Observations:  </th>  <td> 75200</td> \n",
       "</tr>\n",
       "<tr>\n",
       "  <th>Model:</th>                 <td>Logit</td>      <th>  Df Residuals:      </th>  <td> 75176</td> \n",
       "</tr>\n",
       "<tr>\n",
       "  <th>Method:</th>                 <td>MLE</td>       <th>  Df Model:          </th>  <td>    23</td> \n",
       "</tr>\n",
       "<tr>\n",
       "  <th>Date:</th>            <td>Sun, 18 Dec 2022</td> <th>  Pseudo R-squ.:     </th>  <td>0.1448</td> \n",
       "</tr>\n",
       "<tr>\n",
       "  <th>Time:</th>                <td>13:15:14</td>     <th>  Log-Likelihood:    </th> <td> -13057.</td>\n",
       "</tr>\n",
       "<tr>\n",
       "  <th>converged:</th>             <td>True</td>       <th>  LL-Null:           </th> <td> -15268.</td>\n",
       "</tr>\n",
       "<tr>\n",
       "  <th>Covariance Type:</th>     <td>nonrobust</td>    <th>  LLR p-value:       </th>  <td> 0.000</td> \n",
       "</tr>\n",
       "</table>\n",
       "<table class=\"simpletable\">\n",
       "<tr>\n",
       "              <td></td>                 <th>coef</th>     <th>std err</th>      <th>z</th>      <th>P>|z|</th>  <th>[0.025</th>    <th>0.975]</th>  \n",
       "</tr>\n",
       "<tr>\n",
       "  <th>Intercept</th>                 <td>   -3.6307</td> <td>    0.900</td> <td>   -4.032</td> <td> 0.000</td> <td>   -5.396</td> <td>   -1.866</td>\n",
       "</tr>\n",
       "<tr>\n",
       "  <th>Zone_Code</th>                 <td>   -0.1359</td> <td>    0.022</td> <td>   -6.263</td> <td> 0.000</td> <td>   -0.178</td> <td>   -0.093</td>\n",
       "</tr>\n",
       "<tr>\n",
       "  <th>en_Claim_Year</th>             <td>   -0.0374</td> <td>    0.031</td> <td>   -1.195</td> <td> 0.232</td> <td>   -0.099</td> <td>    0.024</td>\n",
       "</tr>\n",
       "<tr>\n",
       "  <th>sc_Veh_Age</th>                <td>    0.0317</td> <td>    0.019</td> <td>    1.640</td> <td> 0.101</td> <td>   -0.006</td> <td>    0.070</td>\n",
       "</tr>\n",
       "<tr>\n",
       "  <th>Vehicle_Driven_By_Code</th>    <td>    0.0767</td> <td>    0.043</td> <td>    1.771</td> <td> 0.077</td> <td>   -0.008</td> <td>    0.162</td>\n",
       "</tr>\n",
       "<tr>\n",
       "  <th>Location_RTA</th>              <td>   -5.6890</td> <td>    0.968</td> <td>   -5.879</td> <td> 0.000</td> <td>   -7.586</td> <td>   -3.792</td>\n",
       "</tr>\n",
       "<tr>\n",
       "  <th>Endorsement</th>               <td>   -0.6819</td> <td>    0.046</td> <td>  -14.701</td> <td> 0.000</td> <td>   -0.773</td> <td>   -0.591</td>\n",
       "</tr>\n",
       "<tr>\n",
       "  <th>Class_Code</th>                <td>    0.0498</td> <td>    0.009</td> <td>    5.785</td> <td> 0.000</td> <td>    0.033</td> <td>    0.067</td>\n",
       "</tr>\n",
       "<tr>\n",
       "  <th>Colour_Vehicle</th>            <td>    2.1186</td> <td>    0.136</td> <td>   15.542</td> <td> 0.000</td> <td>    1.851</td> <td>    2.386</td>\n",
       "</tr>\n",
       "<tr>\n",
       "  <th>CC_PCC_GVW_Code</th>           <td>    0.0204</td> <td>    0.008</td> <td>    2.471</td> <td> 0.013</td> <td>    0.004</td> <td>    0.037</td>\n",
       "</tr>\n",
       "<tr>\n",
       "  <th>Permit_Code</th>               <td>    0.1436</td> <td>    0.018</td> <td>    8.116</td> <td> 0.000</td> <td>    0.109</td> <td>    0.178</td>\n",
       "</tr>\n",
       "<tr>\n",
       "  <th>Road_Type_Code</th>            <td>   -0.3066</td> <td>    0.021</td> <td>  -14.825</td> <td> 0.000</td> <td>   -0.347</td> <td>   -0.266</td>\n",
       "</tr>\n",
       "<tr>\n",
       "  <th>Nature_Goods_Code</th>         <td>    1.6288</td> <td>    0.088</td> <td>   18.483</td> <td> 0.000</td> <td>    1.456</td> <td>    1.801</td>\n",
       "</tr>\n",
       "<tr>\n",
       "  <th>Driver_Exp_Code</th>           <td>    0.0755</td> <td>    0.010</td> <td>    7.949</td> <td> 0.000</td> <td>    0.057</td> <td>    0.094</td>\n",
       "</tr>\n",
       "<tr>\n",
       "  <th>Claims_History_Code</th>       <td>    0.0023</td> <td>    0.016</td> <td>    0.146</td> <td> 0.884</td> <td>   -0.028</td> <td>    0.033</td>\n",
       "</tr>\n",
       "<tr>\n",
       "  <th>Driver_Qualification_Code</th> <td>    0.1584</td> <td>    0.017</td> <td>    9.209</td> <td> 0.000</td> <td>    0.125</td> <td>    0.192</td>\n",
       "</tr>\n",
       "<tr>\n",
       "  <th>Incurred_Claims_Code</th>      <td>    0.0973</td> <td>    0.007</td> <td>   13.649</td> <td> 0.000</td> <td>    0.083</td> <td>    0.111</td>\n",
       "</tr>\n",
       "<tr>\n",
       "  <th>Place_Accident</th>            <td>    0.7034</td> <td>    0.310</td> <td>    2.272</td> <td> 0.023</td> <td>    0.096</td> <td>    1.310</td>\n",
       "</tr>\n",
       "<tr>\n",
       "  <th>TAC_NOL_Code</th>              <td>    0.0240</td> <td>    0.001</td> <td>   27.654</td> <td> 0.000</td> <td>    0.022</td> <td>    0.026</td>\n",
       "</tr>\n",
       "<tr>\n",
       "  <th>sc_Stat_Cover</th>             <td>   -0.1434</td> <td>    0.054</td> <td>   -2.672</td> <td> 0.008</td> <td>   -0.249</td> <td>   -0.038</td>\n",
       "</tr>\n",
       "<tr>\n",
       "  <th>sc_OD_Loss</th>                <td>   -0.2375</td> <td>    0.025</td> <td>   -9.548</td> <td> 0.000</td> <td>   -0.286</td> <td>   -0.189</td>\n",
       "</tr>\n",
       "<tr>\n",
       "  <th>sc_No_Claim_Bonus</th>         <td>    0.1120</td> <td>    0.025</td> <td>    4.398</td> <td> 0.000</td> <td>    0.062</td> <td>    0.162</td>\n",
       "</tr>\n",
       "<tr>\n",
       "  <th>sc_Net_OD_Premium</th>         <td>    0.0642</td> <td>    0.025</td> <td>    2.552</td> <td> 0.011</td> <td>    0.015</td> <td>    0.114</td>\n",
       "</tr>\n",
       "<tr>\n",
       "  <th>en_Policy_Year</th>            <td>   -0.0626</td> <td>    0.028</td> <td>   -2.205</td> <td> 0.027</td> <td>   -0.118</td> <td>   -0.007</td>\n",
       "</tr>\n",
       "</table>"
      ],
      "text/plain": [
       "<class 'statsmodels.iolib.summary.Summary'>\n",
       "\"\"\"\n",
       "                           Logit Regression Results                           \n",
       "==============================================================================\n",
       "Dep. Variable:       DRV_CLAIM_STATUS   No. Observations:                75200\n",
       "Model:                          Logit   Df Residuals:                    75176\n",
       "Method:                           MLE   Df Model:                           23\n",
       "Date:                Sun, 18 Dec 2022   Pseudo R-squ.:                  0.1448\n",
       "Time:                        13:15:14   Log-Likelihood:                -13057.\n",
       "converged:                       True   LL-Null:                       -15268.\n",
       "Covariance Type:            nonrobust   LLR p-value:                     0.000\n",
       "=============================================================================================\n",
       "                                coef    std err          z      P>|z|      [0.025      0.975]\n",
       "---------------------------------------------------------------------------------------------\n",
       "Intercept                    -3.6307      0.900     -4.032      0.000      -5.396      -1.866\n",
       "Zone_Code                    -0.1359      0.022     -6.263      0.000      -0.178      -0.093\n",
       "en_Claim_Year                -0.0374      0.031     -1.195      0.232      -0.099       0.024\n",
       "sc_Veh_Age                    0.0317      0.019      1.640      0.101      -0.006       0.070\n",
       "Vehicle_Driven_By_Code        0.0767      0.043      1.771      0.077      -0.008       0.162\n",
       "Location_RTA                 -5.6890      0.968     -5.879      0.000      -7.586      -3.792\n",
       "Endorsement                  -0.6819      0.046    -14.701      0.000      -0.773      -0.591\n",
       "Class_Code                    0.0498      0.009      5.785      0.000       0.033       0.067\n",
       "Colour_Vehicle                2.1186      0.136     15.542      0.000       1.851       2.386\n",
       "CC_PCC_GVW_Code               0.0204      0.008      2.471      0.013       0.004       0.037\n",
       "Permit_Code                   0.1436      0.018      8.116      0.000       0.109       0.178\n",
       "Road_Type_Code               -0.3066      0.021    -14.825      0.000      -0.347      -0.266\n",
       "Nature_Goods_Code             1.6288      0.088     18.483      0.000       1.456       1.801\n",
       "Driver_Exp_Code               0.0755      0.010      7.949      0.000       0.057       0.094\n",
       "Claims_History_Code           0.0023      0.016      0.146      0.884      -0.028       0.033\n",
       "Driver_Qualification_Code     0.1584      0.017      9.209      0.000       0.125       0.192\n",
       "Incurred_Claims_Code          0.0973      0.007     13.649      0.000       0.083       0.111\n",
       "Place_Accident                0.7034      0.310      2.272      0.023       0.096       1.310\n",
       "TAC_NOL_Code                  0.0240      0.001     27.654      0.000       0.022       0.026\n",
       "sc_Stat_Cover                -0.1434      0.054     -2.672      0.008      -0.249      -0.038\n",
       "sc_OD_Loss                   -0.2375      0.025     -9.548      0.000      -0.286      -0.189\n",
       "sc_No_Claim_Bonus             0.1120      0.025      4.398      0.000       0.062       0.162\n",
       "sc_Net_OD_Premium             0.0642      0.025      2.552      0.011       0.015       0.114\n",
       "en_Policy_Year               -0.0626      0.028     -2.205      0.027      -0.118      -0.007\n",
       "=============================================================================================\n",
       "\"\"\""
      ]
     },
     "execution_count": 144,
     "metadata": {},
     "output_type": "execute_result"
    }
   ],
   "source": [
    "f_4 = 'DRV_CLAIM_STATUS~ Zone_Code+en_Claim_Year+sc_Veh_Age+Vehicle_Driven_By_Code+Location_RTA+Endorsement+Class_Code+Colour_Vehicle+CC_PCC_GVW_Code+Permit_Code+Road_Type_Code+Nature_Goods_Code+Driver_Exp_Code+Claims_History_Code+Driver_Qualification_Code+Incurred_Claims_Code+Place_Accident+TAC_NOL_Code+sc_Stat_Cover+sc_OD_Loss+sc_No_Claim_Bonus+sc_Net_OD_Premium+en_Policy_Year'\n",
    "model_logit = SM.logit(formula=f_4,data=df_ovlds).fit()\n",
    "model_logit.summary()\n"
   ]
  },
  {
   "cell_type": "code",
   "execution_count": 145,
   "id": "2b7d5b42",
   "metadata": {},
   "outputs": [
    {
     "data": {
      "text/html": [
       "<div>\n",
       "<style scoped>\n",
       "    .dataframe tbody tr th:only-of-type {\n",
       "        vertical-align: middle;\n",
       "    }\n",
       "\n",
       "    .dataframe tbody tr th {\n",
       "        vertical-align: top;\n",
       "    }\n",
       "\n",
       "    .dataframe thead th {\n",
       "        text-align: right;\n",
       "    }\n",
       "</style>\n",
       "<table border=\"1\" class=\"dataframe\">\n",
       "  <thead>\n",
       "    <tr style=\"text-align: right;\">\n",
       "      <th></th>\n",
       "      <th>VIF</th>\n",
       "      <th>features</th>\n",
       "    </tr>\n",
       "  </thead>\n",
       "  <tbody>\n",
       "    <tr>\n",
       "      <th>0</th>\n",
       "      <td>1.939576</td>\n",
       "      <td>Endorsement</td>\n",
       "    </tr>\n",
       "    <tr>\n",
       "      <th>1</th>\n",
       "      <td>1.000538</td>\n",
       "      <td>Location_RTA</td>\n",
       "    </tr>\n",
       "    <tr>\n",
       "      <th>2</th>\n",
       "      <td>35.926845</td>\n",
       "      <td>Class_Code</td>\n",
       "    </tr>\n",
       "    <tr>\n",
       "      <th>3</th>\n",
       "      <td>659.292263</td>\n",
       "      <td>Zone_Code</td>\n",
       "    </tr>\n",
       "    <tr>\n",
       "      <th>4</th>\n",
       "      <td>519.361079</td>\n",
       "      <td>CC_PCC_GVW_Code</td>\n",
       "    </tr>\n",
       "    <tr>\n",
       "      <th>5</th>\n",
       "      <td>9.105203</td>\n",
       "      <td>Colour_Vehicle</td>\n",
       "    </tr>\n",
       "    <tr>\n",
       "      <th>6</th>\n",
       "      <td>4.778461</td>\n",
       "      <td>Permit_Code</td>\n",
       "    </tr>\n",
       "    <tr>\n",
       "      <th>7</th>\n",
       "      <td>43.902239</td>\n",
       "      <td>Nature_Goods_Code</td>\n",
       "    </tr>\n",
       "    <tr>\n",
       "      <th>8</th>\n",
       "      <td>23.556069</td>\n",
       "      <td>Road_Type_Code</td>\n",
       "    </tr>\n",
       "    <tr>\n",
       "      <th>9</th>\n",
       "      <td>20.390845</td>\n",
       "      <td>Vehicle_Driven_By_Code</td>\n",
       "    </tr>\n",
       "    <tr>\n",
       "      <th>10</th>\n",
       "      <td>5.828017</td>\n",
       "      <td>Driver_Exp_Code</td>\n",
       "    </tr>\n",
       "    <tr>\n",
       "      <th>11</th>\n",
       "      <td>8.311125</td>\n",
       "      <td>Claims_History_Code</td>\n",
       "    </tr>\n",
       "    <tr>\n",
       "      <th>12</th>\n",
       "      <td>8.730558</td>\n",
       "      <td>Driver_Qualification_Code</td>\n",
       "    </tr>\n",
       "    <tr>\n",
       "      <th>13</th>\n",
       "      <td>3.958833</td>\n",
       "      <td>Incurred_Claims_Code</td>\n",
       "    </tr>\n",
       "    <tr>\n",
       "      <th>14</th>\n",
       "      <td>1.518871</td>\n",
       "      <td>Place_Accident</td>\n",
       "    </tr>\n",
       "    <tr>\n",
       "      <th>15</th>\n",
       "      <td>1.918851</td>\n",
       "      <td>TAC_NOL_Code</td>\n",
       "    </tr>\n",
       "    <tr>\n",
       "      <th>16</th>\n",
       "      <td>1.130220</td>\n",
       "      <td>sc_Veh_Age</td>\n",
       "    </tr>\n",
       "    <tr>\n",
       "      <th>17</th>\n",
       "      <td>1.076986</td>\n",
       "      <td>sc_Stat_Cover</td>\n",
       "    </tr>\n",
       "    <tr>\n",
       "      <th>18</th>\n",
       "      <td>1.344232</td>\n",
       "      <td>sc_OD_Loss</td>\n",
       "    </tr>\n",
       "    <tr>\n",
       "      <th>19</th>\n",
       "      <td>2.082944</td>\n",
       "      <td>sc_DRV_CLM_AMT</td>\n",
       "    </tr>\n",
       "    <tr>\n",
       "      <th>20</th>\n",
       "      <td>2.305091</td>\n",
       "      <td>sc_No_Claim_Bonus</td>\n",
       "    </tr>\n",
       "    <tr>\n",
       "      <th>21</th>\n",
       "      <td>1.851747</td>\n",
       "      <td>sc_Net_OD_Premium</td>\n",
       "    </tr>\n",
       "    <tr>\n",
       "      <th>22</th>\n",
       "      <td>509.384048</td>\n",
       "      <td>en_Policy_Year</td>\n",
       "    </tr>\n",
       "    <tr>\n",
       "      <th>23</th>\n",
       "      <td>708.888975</td>\n",
       "      <td>en_Claim_Year</td>\n",
       "    </tr>\n",
       "    <tr>\n",
       "      <th>24</th>\n",
       "      <td>1.860428</td>\n",
       "      <td>DRV_CLAIM_STATUS</td>\n",
       "    </tr>\n",
       "  </tbody>\n",
       "</table>\n",
       "</div>"
      ],
      "text/plain": [
       "           VIF                   features\n",
       "0     1.939576                Endorsement\n",
       "1     1.000538               Location_RTA\n",
       "2    35.926845                 Class_Code\n",
       "3   659.292263                  Zone_Code\n",
       "4   519.361079            CC_PCC_GVW_Code\n",
       "5     9.105203             Colour_Vehicle\n",
       "6     4.778461                Permit_Code\n",
       "7    43.902239          Nature_Goods_Code\n",
       "8    23.556069             Road_Type_Code\n",
       "9    20.390845     Vehicle_Driven_By_Code\n",
       "10    5.828017            Driver_Exp_Code\n",
       "11    8.311125        Claims_History_Code\n",
       "12    8.730558  Driver_Qualification_Code\n",
       "13    3.958833       Incurred_Claims_Code\n",
       "14    1.518871             Place_Accident\n",
       "15    1.918851               TAC_NOL_Code\n",
       "16    1.130220                 sc_Veh_Age\n",
       "17    1.076986              sc_Stat_Cover\n",
       "18    1.344232                 sc_OD_Loss\n",
       "19    2.082944             sc_DRV_CLM_AMT\n",
       "20    2.305091          sc_No_Claim_Bonus\n",
       "21    1.851747          sc_Net_OD_Premium\n",
       "22  509.384048             en_Policy_Year\n",
       "23  708.888975              en_Claim_Year\n",
       "24    1.860428           DRV_CLAIM_STATUS"
      ]
     },
     "execution_count": 145,
     "metadata": {},
     "output_type": "execute_result"
    }
   ],
   "source": [
    "from statsmodels.stats.outliers_influence import variance_inflation_factor\n",
    "vif= pd.DataFrame()\n",
    "vif['VIF']=[variance_inflation_factor(df_ovlds.values,i) for i in range(df_ovlds.shape[1])]\n",
    "vif['features']= df_ovlds.columns\n",
    "vif.head(40)\n"
   ]
  },
  {
   "cell_type": "markdown",
   "id": "ed8fbb1b",
   "metadata": {},
   "source": [
    "**Dropping of Insignificant columns**"
   ]
  },
  {
   "cell_type": "code",
   "execution_count": 146,
   "id": "d51da96c",
   "metadata": {},
   "outputs": [],
   "source": [
    "x_train.drop(['Vehicle_Driven_By_Code','sc_Veh_Age','en_Claim_Year','Claims_History_Code','Place_Accident'],axis=1,inplace=True)\n"
   ]
  },
  {
   "cell_type": "code",
   "execution_count": 147,
   "id": "5703bcf0",
   "metadata": {},
   "outputs": [],
   "source": [
    "x_test.drop(['Vehicle_Driven_By_Code','sc_Veh_Age','en_Claim_Year','Claims_History_Code','Place_Accident'],axis=1,inplace=True)\n"
   ]
  },
  {
   "cell_type": "markdown",
   "id": "a3685bd7",
   "metadata": {},
   "source": [
    "**Logistic Regression using SKlearn**"
   ]
  },
  {
   "cell_type": "code",
   "execution_count": 148,
   "id": "37353ff0",
   "metadata": {},
   "outputs": [],
   "source": [
    "logr= LogisticRegression()\n",
    "mod1= logr.fit(x_train,y_train)\n"
   ]
  },
  {
   "cell_type": "code",
   "execution_count": 149,
   "id": "33e30de0",
   "metadata": {},
   "outputs": [],
   "source": [
    "y_pred = mod1.predict(x_test)"
   ]
  },
  {
   "cell_type": "code",
   "execution_count": 150,
   "id": "759c0ea9",
   "metadata": {},
   "outputs": [
    {
     "name": "stdout",
     "output_type": "stream",
     "text": [
      "              precision    recall  f1-score   support\n",
      "\n",
      "           0       1.00      1.00      1.00     14256\n",
      "           1       1.00      1.00      1.00       784\n",
      "\n",
      "    accuracy                           1.00     15040\n",
      "   macro avg       1.00      1.00      1.00     15040\n",
      "weighted avg       1.00      1.00      1.00     15040\n",
      "\n"
     ]
    }
   ],
   "source": [
    "print(classification_report(y_pred,y_test))"
   ]
  },
  {
   "cell_type": "markdown",
   "id": "625fa846",
   "metadata": {},
   "source": [
    "**Decision Tree**"
   ]
  },
  {
   "cell_type": "code",
   "execution_count": 152,
   "id": "ff6dba4b",
   "metadata": {},
   "outputs": [],
   "source": [
    "DT= DecisionTreeClassifier()\n",
    "mod2= DT.fit(x_train,y_train)\n"
   ]
  },
  {
   "cell_type": "code",
   "execution_count": 155,
   "id": "de8eef7a",
   "metadata": {},
   "outputs": [],
   "source": [
    "y_pred_train = mod2.predict(x_train)"
   ]
  },
  {
   "cell_type": "code",
   "execution_count": 157,
   "id": "e2a3d1e6",
   "metadata": {},
   "outputs": [
    {
     "name": "stdout",
     "output_type": "stream",
     "text": [
      "              precision    recall  f1-score   support\n",
      "\n",
      "           0       1.00      1.00      1.00     57071\n",
      "           1       1.00      1.00      1.00      3089\n",
      "\n",
      "    accuracy                           1.00     60160\n",
      "   macro avg       1.00      1.00      1.00     60160\n",
      "weighted avg       1.00      1.00      1.00     60160\n",
      "\n"
     ]
    }
   ],
   "source": [
    "print(classification_report(y_pred_train,y_train))"
   ]
  },
  {
   "cell_type": "code",
   "execution_count": 158,
   "id": "5d4c41bc",
   "metadata": {},
   "outputs": [],
   "source": [
    "y_pred_test = mod2.predict(x_test)"
   ]
  },
  {
   "cell_type": "code",
   "execution_count": 159,
   "id": "dc720337",
   "metadata": {},
   "outputs": [
    {
     "name": "stdout",
     "output_type": "stream",
     "text": [
      "              precision    recall  f1-score   support\n",
      "\n",
      "           0       1.00      1.00      1.00     14253\n",
      "           1       1.00      1.00      1.00       787\n",
      "\n",
      "    accuracy                           1.00     15040\n",
      "   macro avg       1.00      1.00      1.00     15040\n",
      "weighted avg       1.00      1.00      1.00     15040\n",
      "\n"
     ]
    }
   ],
   "source": [
    "print(classification_report(y_pred_test,y_test))"
   ]
  },
  {
   "cell_type": "markdown",
   "id": "49ed2795",
   "metadata": {},
   "source": [
    "**KNeighbours Classifier**"
   ]
  },
  {
   "cell_type": "code",
   "execution_count": 160,
   "id": "aa095ea6",
   "metadata": {},
   "outputs": [],
   "source": [
    "KNN= KNeighborsClassifier()\n",
    "mod3= KNN.fit(x_train,y_train)\n"
   ]
  },
  {
   "cell_type": "code",
   "execution_count": 161,
   "id": "2d2bd151",
   "metadata": {},
   "outputs": [],
   "source": [
    "y_pred_train = mod3.predict(x_train)"
   ]
  },
  {
   "cell_type": "code",
   "execution_count": 162,
   "id": "b5da3e55",
   "metadata": {},
   "outputs": [
    {
     "name": "stdout",
     "output_type": "stream",
     "text": [
      "              precision    recall  f1-score   support\n",
      "\n",
      "           0       1.00      1.00      1.00     57300\n",
      "           1       0.92      0.99      0.95      2860\n",
      "\n",
      "    accuracy                           1.00     60160\n",
      "   macro avg       0.96      0.99      0.98     60160\n",
      "weighted avg       1.00      1.00      1.00     60160\n",
      "\n"
     ]
    }
   ],
   "source": [
    "print(classification_report(y_pred_train,y_train))"
   ]
  },
  {
   "cell_type": "code",
   "execution_count": 163,
   "id": "67f94233",
   "metadata": {},
   "outputs": [],
   "source": [
    "y_pred_test = mod3.predict(x_test)"
   ]
  },
  {
   "cell_type": "code",
   "execution_count": 164,
   "id": "b3758274",
   "metadata": {},
   "outputs": [
    {
     "name": "stdout",
     "output_type": "stream",
     "text": [
      "              precision    recall  f1-score   support\n",
      "\n",
      "           0       1.00      0.99      1.00     14342\n",
      "           1       0.87      0.98      0.92       698\n",
      "\n",
      "    accuracy                           0.99     15040\n",
      "   macro avg       0.93      0.99      0.96     15040\n",
      "weighted avg       0.99      0.99      0.99     15040\n",
      "\n"
     ]
    }
   ],
   "source": [
    "print(classification_report(y_pred_test,y_test))"
   ]
  },
  {
   "cell_type": "markdown",
   "id": "87cda7ff",
   "metadata": {},
   "source": [
    "**Linear Discriminant Analysis-LDA**"
   ]
  },
  {
   "cell_type": "code",
   "execution_count": 165,
   "id": "5a21da05",
   "metadata": {},
   "outputs": [],
   "source": [
    "from sklearn.discriminant_analysis import LinearDiscriminantAnalysis as LDA\n"
   ]
  },
  {
   "cell_type": "code",
   "execution_count": 166,
   "id": "026b223f",
   "metadata": {},
   "outputs": [],
   "source": [
    "lda =LDA()\n",
    "mod4= lda.fit(x_train,y_train)\n"
   ]
  },
  {
   "cell_type": "code",
   "execution_count": 167,
   "id": "9ff97060",
   "metadata": {},
   "outputs": [],
   "source": [
    "y_pred_train= mod4.predict(x_train)\n"
   ]
  },
  {
   "cell_type": "code",
   "execution_count": 168,
   "id": "22a0f8c3",
   "metadata": {},
   "outputs": [
    {
     "name": "stdout",
     "output_type": "stream",
     "text": [
      "              precision    recall  f1-score   support\n",
      "\n",
      "           0       0.99      1.00      1.00     56697\n",
      "           1       0.99      0.88      0.93      3463\n",
      "\n",
      "    accuracy                           0.99     60160\n",
      "   macro avg       0.99      0.94      0.97     60160\n",
      "weighted avg       0.99      0.99      0.99     60160\n",
      "\n"
     ]
    }
   ],
   "source": [
    "print(classification_report(y_pred_train,y_train))"
   ]
  },
  {
   "cell_type": "code",
   "execution_count": 169,
   "id": "e378e82c",
   "metadata": {},
   "outputs": [],
   "source": [
    "y_pred_test = mod4.predict(x_test)"
   ]
  },
  {
   "cell_type": "code",
   "execution_count": 170,
   "id": "f3341089",
   "metadata": {},
   "outputs": [
    {
     "name": "stdout",
     "output_type": "stream",
     "text": [
      "              precision    recall  f1-score   support\n",
      "\n",
      "           0       0.99      1.00      1.00     14153\n",
      "           1       0.99      0.88      0.93       887\n",
      "\n",
      "    accuracy                           0.99     15040\n",
      "   macro avg       0.99      0.94      0.97     15040\n",
      "weighted avg       0.99      0.99      0.99     15040\n",
      "\n"
     ]
    }
   ],
   "source": [
    "print(classification_report(y_pred_test,y_test))"
   ]
  },
  {
   "cell_type": "markdown",
   "id": "0cd9ad68",
   "metadata": {},
   "source": [
    "**Random Forest**"
   ]
  },
  {
   "cell_type": "code",
   "execution_count": 171,
   "id": "4527cac0",
   "metadata": {},
   "outputs": [],
   "source": [
    "rf= RandomForestClassifier(n_estimators=100)\n",
    "mod5= rf.fit(x_train,y_train)\n"
   ]
  },
  {
   "cell_type": "code",
   "execution_count": 172,
   "id": "12366e62",
   "metadata": {},
   "outputs": [],
   "source": [
    "y_pred_test= mod5.predict(x_test)\n"
   ]
  },
  {
   "cell_type": "code",
   "execution_count": 173,
   "id": "ebe6be4e",
   "metadata": {},
   "outputs": [
    {
     "name": "stdout",
     "output_type": "stream",
     "text": [
      "              precision    recall  f1-score   support\n",
      "\n",
      "           0       1.00      1.00      1.00     14253\n",
      "           1       1.00      1.00      1.00       787\n",
      "\n",
      "    accuracy                           1.00     15040\n",
      "   macro avg       1.00      1.00      1.00     15040\n",
      "weighted avg       1.00      1.00      1.00     15040\n",
      "\n"
     ]
    }
   ],
   "source": [
    "print(classification_report(y_pred_test,y_test))"
   ]
  },
  {
   "cell_type": "markdown",
   "id": "213f5e66",
   "metadata": {},
   "source": [
    "**Gradient Boosting**"
   ]
  },
  {
   "cell_type": "code",
   "execution_count": 174,
   "id": "20deb8ad",
   "metadata": {},
   "outputs": [],
   "source": [
    "gb = GradientBoostingClassifier(n_estimators=100)\n",
    "mod6= rf.fit(x_train,y_train)\n"
   ]
  },
  {
   "cell_type": "code",
   "execution_count": 175,
   "id": "7fb7f158",
   "metadata": {},
   "outputs": [],
   "source": [
    "y_pred_test= mod6.predict(x_test)\n"
   ]
  },
  {
   "cell_type": "code",
   "execution_count": 176,
   "id": "aaa07e6f",
   "metadata": {},
   "outputs": [
    {
     "name": "stdout",
     "output_type": "stream",
     "text": [
      "              precision    recall  f1-score   support\n",
      "\n",
      "           0       1.00      1.00      1.00     14253\n",
      "           1       1.00      1.00      1.00       787\n",
      "\n",
      "    accuracy                           1.00     15040\n",
      "   macro avg       1.00      1.00      1.00     15040\n",
      "weighted avg       1.00      1.00      1.00     15040\n",
      "\n"
     ]
    }
   ],
   "source": [
    "print(classification_report(y_pred_test,y_test))"
   ]
  },
  {
   "cell_type": "markdown",
   "id": "c5956fd5",
   "metadata": {},
   "source": [
    "**Hyperparameter Tuning**"
   ]
  },
  {
   "cell_type": "markdown",
   "id": "32b410e7",
   "metadata": {},
   "source": [
    "**Logistic Regression**"
   ]
  },
  {
   "cell_type": "code",
   "execution_count": null,
   "id": "1a9fc1de",
   "metadata": {},
   "outputs": [],
   "source": [
    "# # we now fine tune the models.....\n",
    "\n",
    "# param_grid = {\n",
    "#     'solver': ['lbfgs', 'liblinear', 'newton-cg'],\n",
    "#     'max_iter': [1000, 10000], \n",
    "#     'penalty': ['none'], \n",
    "#   #  'Verbose': [True],\n",
    "#     'n_jobs': [2]\n",
    "# }\n",
    "\n",
    "# lr=LogisticRegression(random_state=123)\n",
    "\n",
    "# grid_search = GridSearchCV(estimator = lr, param_grid = param_grid, cv = 3)\n",
    "\n",
    "\n",
    "# grid_search.fit(x_train,y_train)\n",
    "\n",
    "# print(grid_search.best_params_)\n"
   ]
  },
  {
   "cell_type": "markdown",
   "id": "b298d80f",
   "metadata": {},
   "source": [
    "**Decision Tree**"
   ]
  },
  {
   "cell_type": "code",
   "execution_count": null,
   "id": "d3a8ed25",
   "metadata": {},
   "outputs": [],
   "source": [
    "# # we now fine tune the models.....\n",
    "\n",
    "# param_grid = {\n",
    "#     'max_depth': [10,15,20], # 3,5,7,9\n",
    "#     'min_samples_leaf': [3, 15,30], # this is 1-3 % of train data\n",
    "#     'min_samples_split': [15,30,35], # 3 times the min sample leaf\n",
    "# }\n",
    "\n",
    "# DT=DecisionTreeClassifier(random_state=123)\n",
    "\n",
    "# grid_search = GridSearchCV(estimator = DT, param_grid = param_grid, cv = 3)\n",
    "\n",
    "\n",
    "# grid_search.fit(x_train,y_train)\n",
    "\n",
    "# print(grid_search.best_params_)\n"
   ]
  },
  {
   "cell_type": "markdown",
   "id": "92280097",
   "metadata": {},
   "source": [
    "**KNeighbours**"
   ]
  },
  {
   "cell_type": "code",
   "execution_count": null,
   "id": "89a3d49f",
   "metadata": {},
   "outputs": [],
   "source": [
    "# param_grid = {\n",
    "#     'n_neighbors': [3,5,7],\n",
    "#     'algorithm': ['auto', 'ball_tree', 'kd_tree', 'brute'], \n",
    "#     'p': [2], \n",
    "#     'n_jobs': [2]\n",
    "# }\n",
    "\n",
    "# knn=KNeighborsClassifier()\n",
    "# param_grid = {\n",
    "#     'solver': ['svd', 'lsqr', 'eigen']\n",
    "    \n",
    "# }\n",
    "\n",
    "# lda=LDA()\n",
    "\n",
    "# grid_search = GridSearchCV(estimator = lda, param_grid = param_grid, cv = 3)\n",
    "\n",
    "\n",
    "# grid_search.fit(x_train,y_train)\n",
    "\n",
    "# print(grid_search.best_params_)\n"
   ]
  },
  {
   "cell_type": "markdown",
   "id": "bb8481b9",
   "metadata": {},
   "source": [
    "**LDA**"
   ]
  },
  {
   "cell_type": "code",
   "execution_count": null,
   "id": "dd8099c6",
   "metadata": {},
   "outputs": [],
   "source": [
    "# param_grid = {\n",
    "#     'solver': ['svd', 'lsqr', 'eigen']\n",
    "    \n",
    "# }\n",
    "\n",
    "# lda=LDA()\n",
    "\n",
    "# grid_search = GridSearchCV(estimator = lda, param_grid = param_grid, cv = 3)\n",
    "\n",
    "\n",
    "# grid_search.fit(x_train,y_train)\n",
    "\n",
    "# print(grid_search.best_params_)\n"
   ]
  },
  {
   "cell_type": "markdown",
   "id": "47891dc6",
   "metadata": {},
   "source": [
    "**Random Forest**"
   ]
  },
  {
   "cell_type": "code",
   "execution_count": null,
   "id": "d2bcf72f",
   "metadata": {},
   "outputs": [],
   "source": [
    "# param_grid = {\n",
    "#     'max_depth': [10,15,20], #  3,5,7,9\n",
    "#     'max_features': [6], # take the sqrt of the number of features\n",
    "#     'min_samples_leaf': [3, 15,30],  # 1-3% of data\n",
    "#     'min_samples_split': [15,30,35], # 3 times of min_Sample_leaf\n",
    "#     'n_estimators': [150,200] \n",
    "# } \n",
    "\n",
    "# rfcl = RandomForestClassifier(random_state=123)\n",
    "\n",
    "# grid_search = GridSearchCV(estimator = rfcl, param_grid = param_grid, cv = 3)\n",
    "# grid_search.fit(x_train,y_train)\n",
    "# print(grid_search.best_params_)\n"
   ]
  },
  {
   "cell_type": "markdown",
   "id": "37bd8ca1",
   "metadata": {},
   "source": [
    "**Gradient Boosting Classifier**"
   ]
  },
  {
   "cell_type": "code",
   "execution_count": null,
   "id": "4c4318a1",
   "metadata": {},
   "outputs": [],
   "source": [
    "# param_grid = {\n",
    "#     'loss': ['log_loss', 'deviance', 'exponential'],\n",
    "#     'learning_rate': [0.1, 0.01], \n",
    "#     'n_estimators': [150,200], \n",
    "#     'min_samples_split': [15,30],\n",
    "#     'max_depth': [10,15],\n",
    "#     'max_features':['auto', 'sqrt', 'log2'],\n",
    "#     'tol':[0.01]\n",
    "\n",
    "# }\n",
    "\n",
    "# gbc=GradientBoostingClassifier()\n",
    "\n",
    "# grid_search = GridSearchCV(estimator = gbc, param_grid = param_grid, cv = 3)\n",
    "\n",
    "\n",
    "# grid_search.fit(x_train,y_train)\n",
    "\n",
    "# print(grid_search.best_params_)\n"
   ]
  },
  {
   "cell_type": "markdown",
   "id": "eb24c890",
   "metadata": {},
   "source": [
    "**Performance of the model with Hyperparameters**"
   ]
  },
  {
   "cell_type": "markdown",
   "id": "e9748d56",
   "metadata": {},
   "source": [
    "**Logistic Regression**"
   ]
  },
  {
   "cell_type": "code",
   "execution_count": 177,
   "id": "43550c30",
   "metadata": {},
   "outputs": [],
   "source": [
    "logr_hyp= LogisticRegression(max_iter= 1000, n_jobs= 2, penalty= 'none', solver= 'lbfgs')\n",
    "mod1= logr_hyp.fit(x_train,y_train)\n"
   ]
  },
  {
   "cell_type": "code",
   "execution_count": 178,
   "id": "faf70d09",
   "metadata": {},
   "outputs": [],
   "source": [
    "y_pred = mod1.predict(x_test)"
   ]
  },
  {
   "cell_type": "code",
   "execution_count": 179,
   "id": "9d6ccf83",
   "metadata": {},
   "outputs": [
    {
     "name": "stdout",
     "output_type": "stream",
     "text": [
      "              precision    recall  f1-score   support\n",
      "\n",
      "           0       1.00      1.00      1.00     14253\n",
      "           1       1.00      1.00      1.00       787\n",
      "\n",
      "    accuracy                           1.00     15040\n",
      "   macro avg       1.00      1.00      1.00     15040\n",
      "weighted avg       1.00      1.00      1.00     15040\n",
      "\n"
     ]
    }
   ],
   "source": [
    "print(classification_report(y_pred,y_test))\n"
   ]
  },
  {
   "cell_type": "markdown",
   "id": "10396f45",
   "metadata": {},
   "source": [
    "**Decision Tree**"
   ]
  },
  {
   "cell_type": "code",
   "execution_count": 180,
   "id": "6b32169d",
   "metadata": {},
   "outputs": [],
   "source": [
    "dt_hyp = DecisionTreeClassifier(max_depth = 10, min_samples_leaf= 3, min_samples_split = 15)\n",
    "mod2= dt_hyp.fit(x_train,y_train)\n"
   ]
  },
  {
   "cell_type": "code",
   "execution_count": 181,
   "id": "8eddd815",
   "metadata": {},
   "outputs": [],
   "source": [
    "y_pred = mod2.predict(x_test)"
   ]
  },
  {
   "cell_type": "code",
   "execution_count": 182,
   "id": "497cae93",
   "metadata": {},
   "outputs": [
    {
     "name": "stdout",
     "output_type": "stream",
     "text": [
      "              precision    recall  f1-score   support\n",
      "\n",
      "           0       1.00      1.00      1.00     14253\n",
      "           1       1.00      1.00      1.00       787\n",
      "\n",
      "    accuracy                           1.00     15040\n",
      "   macro avg       1.00      1.00      1.00     15040\n",
      "weighted avg       1.00      1.00      1.00     15040\n",
      "\n"
     ]
    }
   ],
   "source": [
    "print(classification_report(y_pred,y_test))"
   ]
  },
  {
   "cell_type": "markdown",
   "id": "7a2a4da1",
   "metadata": {},
   "source": [
    "**LDA**"
   ]
  },
  {
   "cell_type": "code",
   "execution_count": 183,
   "id": "244fcdb0",
   "metadata": {},
   "outputs": [],
   "source": [
    "lda_hyp=LDA(solver= 'svd')\n",
    "mod3= lda_hyp.fit(x_train,y_train)\n"
   ]
  },
  {
   "cell_type": "code",
   "execution_count": 184,
   "id": "bab53053",
   "metadata": {},
   "outputs": [],
   "source": [
    "y_pred = mod3.predict(x_test)"
   ]
  },
  {
   "cell_type": "code",
   "execution_count": 185,
   "id": "c1654f4d",
   "metadata": {},
   "outputs": [
    {
     "name": "stdout",
     "output_type": "stream",
     "text": [
      "              precision    recall  f1-score   support\n",
      "\n",
      "           0       0.99      1.00      1.00     14153\n",
      "           1       0.99      0.88      0.93       887\n",
      "\n",
      "    accuracy                           0.99     15040\n",
      "   macro avg       0.99      0.94      0.97     15040\n",
      "weighted avg       0.99      0.99      0.99     15040\n",
      "\n"
     ]
    }
   ],
   "source": [
    "print(classification_report(y_pred,y_test))"
   ]
  },
  {
   "cell_type": "markdown",
   "id": "4f019345",
   "metadata": {},
   "source": [
    "**KNeighbours**"
   ]
  },
  {
   "cell_type": "code",
   "execution_count": 186,
   "id": "2fc9a991",
   "metadata": {},
   "outputs": [],
   "source": [
    "knn_hyp =KNeighborsClassifier(algorithm = 'auto', n_jobs = 2, n_neighbors = 3, p = 2)\n",
    "mod4= knn_hyp.fit(x_train,y_train)\n"
   ]
  },
  {
   "cell_type": "code",
   "execution_count": 187,
   "id": "959a3283",
   "metadata": {},
   "outputs": [],
   "source": [
    "y_pred = mod4.predict(x_test)"
   ]
  },
  {
   "cell_type": "code",
   "execution_count": 188,
   "id": "c461460b",
   "metadata": {},
   "outputs": [
    {
     "name": "stdout",
     "output_type": "stream",
     "text": [
      "              precision    recall  f1-score   support\n",
      "\n",
      "           0       1.00      0.99      1.00     14328\n",
      "           1       0.89      0.98      0.93       712\n",
      "\n",
      "    accuracy                           0.99     15040\n",
      "   macro avg       0.94      0.99      0.96     15040\n",
      "weighted avg       0.99      0.99      0.99     15040\n",
      "\n"
     ]
    }
   ],
   "source": [
    "print(classification_report(y_pred,y_test))"
   ]
  },
  {
   "cell_type": "markdown",
   "id": "4af18c02",
   "metadata": {},
   "source": [
    "**Random Forest**"
   ]
  },
  {
   "cell_type": "code",
   "execution_count": 189,
   "id": "2ba4c8da",
   "metadata": {},
   "outputs": [],
   "source": [
    "rf_hyp = RandomForestClassifier(max_depth = 10, max_features= 6, min_samples_leaf = 3, min_samples_split = 15, n_estimators= 150)\n",
    "mod5= rf_hyp.fit(x_train,y_train)\n"
   ]
  },
  {
   "cell_type": "code",
   "execution_count": 190,
   "id": "a4d885fd",
   "metadata": {},
   "outputs": [],
   "source": [
    "y_pred = mod5.predict(x_test)"
   ]
  },
  {
   "cell_type": "code",
   "execution_count": 191,
   "id": "3aa14b03",
   "metadata": {},
   "outputs": [
    {
     "name": "stdout",
     "output_type": "stream",
     "text": [
      "              precision    recall  f1-score   support\n",
      "\n",
      "           0       1.00      1.00      1.00     14253\n",
      "           1       1.00      1.00      1.00       787\n",
      "\n",
      "    accuracy                           1.00     15040\n",
      "   macro avg       1.00      1.00      1.00     15040\n",
      "weighted avg       1.00      1.00      1.00     15040\n",
      "\n"
     ]
    }
   ],
   "source": [
    "print(classification_report(y_pred,y_test))"
   ]
  },
  {
   "cell_type": "markdown",
   "id": "1c5adee5",
   "metadata": {},
   "source": [
    "**Gradient Boosting**"
   ]
  },
  {
   "cell_type": "code",
   "execution_count": 193,
   "id": "95d1e5c5",
   "metadata": {},
   "outputs": [],
   "source": [
    "gb_hyp = GradientBoostingClassifier(learning_rate= 0.1,loss= 'deviance', max_depth= 10, max_features= 'auto', min_samples_split = 15,\n",
    "                                     n_estimators = 150, tol = 0.01)\n",
    "mod6= gb_hyp.fit(x_train,y_train)\n"
   ]
  },
  {
   "cell_type": "code",
   "execution_count": 194,
   "id": "2687a90b",
   "metadata": {},
   "outputs": [],
   "source": [
    "y_pred = mod6.predict(x_test)"
   ]
  },
  {
   "cell_type": "code",
   "execution_count": 195,
   "id": "690e8841",
   "metadata": {},
   "outputs": [
    {
     "name": "stdout",
     "output_type": "stream",
     "text": [
      "              precision    recall  f1-score   support\n",
      "\n",
      "           0       1.00      1.00      1.00     14253\n",
      "           1       1.00      1.00      1.00       787\n",
      "\n",
      "    accuracy                           1.00     15040\n",
      "   macro avg       1.00      1.00      1.00     15040\n",
      "weighted avg       1.00      1.00      1.00     15040\n",
      "\n"
     ]
    }
   ],
   "source": [
    "print(classification_report(y_pred,y_test))"
   ]
  },
  {
   "cell_type": "markdown",
   "id": "85e9c1ff",
   "metadata": {},
   "source": [
    "**Pipelines**"
   ]
  },
  {
   "cell_type": "code",
   "execution_count": 196,
   "id": "bf604c45",
   "metadata": {},
   "outputs": [],
   "source": [
    "logr_pipeline= Pipeline([(\"logistic Regression\", LogisticRegression())])\n",
    "dt_pipeline  = Pipeline([(\"dt classifier\", DecisionTreeClassifier())])\n",
    "knn_pipeline = Pipeline([(\"KNN_classifier\", KNeighborsClassifier())])\n",
    "lda_pipeline = Pipeline([(\"LDA_classifier\", LDA())])\n",
    "rf_pipeline  = Pipeline([(\"KNN_classifier\", RandomForestClassifier())])\n",
    "gbc_pipeline = Pipeline([(\"KNN_classifier\", GradientBoostingClassifier())])\n"
   ]
  },
  {
   "cell_type": "code",
   "execution_count": 197,
   "id": "abf54079",
   "metadata": {},
   "outputs": [],
   "source": [
    "pipelines = [logr_pipeline,dt_pipeline,knn_pipeline,lda_pipeline,rf_pipeline,gbc_pipeline]\n",
    "pipe_dict = {0: \"Logr\", 1: \"DT\",2:\"KNN\",3:'lda',4 :'rf',5:'gbc'}\n"
   ]
  },
  {
   "cell_type": "code",
   "execution_count": 198,
   "id": "e71c3f0f",
   "metadata": {},
   "outputs": [
    {
     "name": "stdout",
     "output_type": "stream",
     "text": [
      "Logr :  0.9998670212765958\n",
      "DT :  1.0\n",
      "KNN :  0.9908909574468086\n",
      "lda :  0.9939494680851064\n",
      "rf :  1.0\n",
      "gbc :  1.0\n"
     ]
    }
   ],
   "source": [
    "scores_df = pd.DataFrame(columns = [\"Model\", \"CVScores\"])\n",
    "for i, pipe in enumerate(pipelines):\n",
    "    score = cross_val_score(pipe, x,y, cv = 5)\n",
    "    print(pipe_dict[i], \": \", score.max())\n"
   ]
  },
  {
   "cell_type": "code",
   "execution_count": null,
   "id": "da8440b2",
   "metadata": {},
   "outputs": [],
   "source": []
  }
 ],
 "metadata": {
  "kernelspec": {
   "display_name": "Python 3 (ipykernel)",
   "language": "python",
   "name": "python3"
  },
  "language_info": {
   "codemirror_mode": {
    "name": "ipython",
    "version": 3
   },
   "file_extension": ".py",
   "mimetype": "text/x-python",
   "name": "python",
   "nbconvert_exporter": "python",
   "pygments_lexer": "ipython3",
   "version": "3.9.7"
  }
 },
 "nbformat": 4,
 "nbformat_minor": 5
}
